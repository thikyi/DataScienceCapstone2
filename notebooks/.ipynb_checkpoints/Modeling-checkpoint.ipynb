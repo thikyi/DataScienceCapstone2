{
 "cells": [
  {
   "cell_type": "markdown",
   "id": "2d2400f4",
   "metadata": {},
   "source": [
    "# 4.Modeling"
   ]
  },
  {
   "cell_type": "markdown",
   "id": "1b117f68",
   "metadata": {},
   "source": [
    "# ## #Import Libaries"
   ]
  },
  {
   "cell_type": "code",
   "execution_count": null,
   "id": "b6faff77",
   "metadata": {},
   "outputs": [],
   "source": [
    "import pandas as pd\n",
    "import numpy as np\n",
    "import os\n",
    "import pickle\n",
    "import matplotlib.pyplot as plt\n",
    "import seaborn as sns\n",
    "from sklearn import __version__ as sklearn_version\n",
    "from sklearn.model_selection import cross_validate"
   ]
  }
 ],
 "metadata": {
  "kernelspec": {
   "display_name": "Python 3 (ipykernel)",
   "language": "python",
   "name": "python3"
  },
  "language_info": {
   "codemirror_mode": {
    "name": "ipython",
    "version": 3
   },
   "file_extension": ".py",
   "mimetype": "text/x-python",
   "name": "python",
   "nbconvert_exporter": "python",
   "pygments_lexer": "ipython3",
   "version": "3.9.7"
  }
 },
 "nbformat": 4,
 "nbformat_minor": 5
}
