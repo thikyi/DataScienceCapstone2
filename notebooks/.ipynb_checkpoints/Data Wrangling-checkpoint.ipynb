{
 "cells": [
  {
   "cell_type": "markdown",
   "id": "1fa700d6",
   "metadata": {},
   "source": [
    "# 1.Data Wragling"
   ]
  },
  {
   "cell_type": "code",
   "execution_count": 1,
   "id": "b1090bd6",
   "metadata": {},
   "outputs": [],
   "source": [
    "## Import Libaries"
   ]
  },
  {
   "cell_type": "code",
   "execution_count": 2,
   "id": "247a3de8",
   "metadata": {},
   "outputs": [],
   "source": [
    "import pandas as pd\n",
    "import numpy as np\n",
    "import matplotlib.pyplot as plt\n",
    "import seaborn as sns\n",
    "import os\n",
    "from geopy.distance import geodesic\n",
    "from geopy.geocoders import Nominatim\n",
    "import math\n",
    "from math import radians, sin, cos, sqrt, atan2"
   ]
  },
  {
   "cell_type": "markdown",
   "id": "829c46f5",
   "metadata": {},
   "source": [
    "##### Import Data & Merge into one datasoure"
   ]
  },
  {
   "cell_type": "markdown",
   "id": "55bd2b44",
   "metadata": {},
   "source": [
    "Data Source:\n",
    "https://data.lacity.org/Public-Safety/Crime-Data-from-2010-to-2019/63jg-8b9z/explore and https://data.lacity.org/Public-Safety/Crime-Data-from-2020-to-Present/2nrs-mtv8"
   ]
  },
  {
   "cell_type": "code",
   "execution_count": 3,
   "id": "9892fcd6",
   "metadata": {
    "scrolled": true
   },
   "outputs": [
    {
     "name": "stdout",
     "output_type": "stream",
     "text": [
      "<class 'pandas.core.frame.DataFrame'>\n",
      "RangeIndex: 2135573 entries, 0 to 2135572\n",
      "Data columns (total 28 columns):\n",
      " #   Column          Dtype  \n",
      "---  ------          -----  \n",
      " 0   DR_NO           int64  \n",
      " 1   Date Rptd       object \n",
      " 2   DATE OCC        object \n",
      " 3   TIME OCC        int64  \n",
      " 4   AREA            int64  \n",
      " 5   AREA NAME       object \n",
      " 6   Rpt Dist No     int64  \n",
      " 7   Part 1-2        int64  \n",
      " 8   Crm Cd          int64  \n",
      " 9   Crm Cd Desc     object \n",
      " 10  Mocodes         object \n",
      " 11  Vict Age        int64  \n",
      " 12  Vict Sex        object \n",
      " 13  Vict Descent    object \n",
      " 14  Premis Cd       float64\n",
      " 15  Premis Desc     object \n",
      " 16  Weapon Used Cd  float64\n",
      " 17  Weapon Desc     object \n",
      " 18  Status          object \n",
      " 19  Status Desc     object \n",
      " 20  Crm Cd 1        float64\n",
      " 21  Crm Cd 2        float64\n",
      " 22  Crm Cd 3        float64\n",
      " 23  Crm Cd 4        float64\n",
      " 24  LOCATION        object \n",
      " 25  Cross Street    object \n",
      " 26  LAT             float64\n",
      " 27  LON             float64\n",
      "dtypes: float64(8), int64(7), object(13)\n",
      "memory usage: 456.2+ MB\n",
      "None\n",
      "<class 'pandas.core.frame.DataFrame'>\n",
      "RangeIndex: 788767 entries, 0 to 788766\n",
      "Data columns (total 28 columns):\n",
      " #   Column          Non-Null Count   Dtype  \n",
      "---  ------          --------------   -----  \n",
      " 0   DR_NO           788767 non-null  int64  \n",
      " 1   Date Rptd       788767 non-null  object \n",
      " 2   DATE OCC        788767 non-null  object \n",
      " 3   TIME OCC        788767 non-null  int64  \n",
      " 4   AREA            788767 non-null  int64  \n",
      " 5   AREA NAME       788767 non-null  object \n",
      " 6   Rpt Dist No     788767 non-null  int64  \n",
      " 7   Part 1-2        788767 non-null  int64  \n",
      " 8   Crm Cd          788767 non-null  int64  \n",
      " 9   Crm Cd Desc     788767 non-null  object \n",
      " 10  Mocodes         680162 non-null  object \n",
      " 11  Vict Age        788767 non-null  int64  \n",
      " 12  Vict Sex        685415 non-null  object \n",
      " 13  Vict Descent    685407 non-null  object \n",
      " 14  Premis Cd       788758 non-null  float64\n",
      " 15  Premis Desc     788300 non-null  object \n",
      " 16  Weapon Used Cd  274517 non-null  float64\n",
      " 17  Weapon Desc     274517 non-null  object \n",
      " 18  Status          788767 non-null  object \n",
      " 19  Status Desc     788767 non-null  object \n",
      " 20  Crm Cd 1        788757 non-null  float64\n",
      " 21  Crm Cd 2        58171 non-null   float64\n",
      " 22  Crm Cd 3        1936 non-null    float64\n",
      " 23  Crm Cd 4        57 non-null      float64\n",
      " 24  LOCATION        788767 non-null  object \n",
      " 25  Cross Street    126409 non-null  object \n",
      " 26  LAT             788767 non-null  float64\n",
      " 27  LON             788767 non-null  float64\n",
      "dtypes: float64(8), int64(7), object(13)\n",
      "memory usage: 168.5+ MB\n",
      "None\n"
     ]
    }
   ],
   "source": [
    "crime_data1 = pd.read_csv('../data/raw/Crime_Data_from_2010_to_2019.csv')\n",
    "crime_data2 = pd.read_csv('../data/raw/Crime_Data_from_2020_to_Present.csv')\n",
    "print(crime_data1.info())\n",
    "print(crime_data2.info())"
   ]
  },
  {
   "cell_type": "markdown",
   "id": "d2081351",
   "metadata": {},
   "source": [
    "Both dataframes context are identical, so it will be merge into one data frame"
   ]
  },
  {
   "cell_type": "code",
   "execution_count": 4,
   "id": "c083186f",
   "metadata": {},
   "outputs": [],
   "source": [
    "# Make all columns to upper case and remove space\n",
    "crime_data1.columns = crime_data1.columns.str.upper().str.strip()\n",
    "crime_data2.columns = crime_data2.columns.str.upper().str.strip()\n",
    "\n",
    "# Concatenate them vertically (along rows)\n",
    "crime_data = pd.concat([crime_data1, crime_data2], ignore_index=True)"
   ]
  },
  {
   "cell_type": "code",
   "execution_count": 5,
   "id": "fa151676",
   "metadata": {},
   "outputs": [
    {
     "name": "stdout",
     "output_type": "stream",
     "text": [
      "<class 'pandas.core.frame.DataFrame'>\n",
      "RangeIndex: 2924340 entries, 0 to 2924339\n",
      "Data columns (total 28 columns):\n",
      " #   Column          Dtype  \n",
      "---  ------          -----  \n",
      " 0   DR_NO           int64  \n",
      " 1   DATE RPTD       object \n",
      " 2   DATE OCC        object \n",
      " 3   TIME OCC        int64  \n",
      " 4   AREA            int64  \n",
      " 5   AREA NAME       object \n",
      " 6   RPT DIST NO     int64  \n",
      " 7   PART 1-2        int64  \n",
      " 8   CRM CD          int64  \n",
      " 9   CRM CD DESC     object \n",
      " 10  MOCODES         object \n",
      " 11  VICT AGE        int64  \n",
      " 12  VICT SEX        object \n",
      " 13  VICT DESCENT    object \n",
      " 14  PREMIS CD       float64\n",
      " 15  PREMIS DESC     object \n",
      " 16  WEAPON USED CD  float64\n",
      " 17  WEAPON DESC     object \n",
      " 18  STATUS          object \n",
      " 19  STATUS DESC     object \n",
      " 20  CRM CD 1        float64\n",
      " 21  CRM CD 2        float64\n",
      " 22  CRM CD 3        float64\n",
      " 23  CRM CD 4        float64\n",
      " 24  LOCATION        object \n",
      " 25  CROSS STREET    object \n",
      " 26  LAT             float64\n",
      " 27  LON             float64\n",
      "dtypes: float64(8), int64(7), object(13)\n",
      "memory usage: 624.7+ MB\n"
     ]
    }
   ],
   "source": [
    "crime_data.info()\n"
   ]
  },
  {
   "cell_type": "code",
   "execution_count": 6,
   "id": "82d51ef2",
   "metadata": {},
   "outputs": [
    {
     "data": {
      "text/html": [
       "<div>\n",
       "<style scoped>\n",
       "    .dataframe tbody tr th:only-of-type {\n",
       "        vertical-align: middle;\n",
       "    }\n",
       "\n",
       "    .dataframe tbody tr th {\n",
       "        vertical-align: top;\n",
       "    }\n",
       "\n",
       "    .dataframe thead th {\n",
       "        text-align: right;\n",
       "    }\n",
       "</style>\n",
       "<table border=\"1\" class=\"dataframe\">\n",
       "  <thead>\n",
       "    <tr style=\"text-align: right;\">\n",
       "      <th></th>\n",
       "      <th>index</th>\n",
       "      <th>DR_NO</th>\n",
       "      <th>DATE RPTD</th>\n",
       "      <th>DATE OCC</th>\n",
       "      <th>TIME OCC</th>\n",
       "      <th>AREA</th>\n",
       "      <th>AREA NAME</th>\n",
       "      <th>RPT DIST NO</th>\n",
       "      <th>PART 1-2</th>\n",
       "      <th>CRM CD</th>\n",
       "      <th>...</th>\n",
       "      <th>STATUS</th>\n",
       "      <th>STATUS DESC</th>\n",
       "      <th>CRM CD 1</th>\n",
       "      <th>CRM CD 2</th>\n",
       "      <th>CRM CD 3</th>\n",
       "      <th>CRM CD 4</th>\n",
       "      <th>LOCATION</th>\n",
       "      <th>CROSS STREET</th>\n",
       "      <th>LAT</th>\n",
       "      <th>LON</th>\n",
       "    </tr>\n",
       "  </thead>\n",
       "  <tbody>\n",
       "    <tr>\n",
       "      <th>0</th>\n",
       "      <td>0</td>\n",
       "      <td>1307355</td>\n",
       "      <td>02/20/2010 12:00:00 AM</td>\n",
       "      <td>02/20/2010 12:00:00 AM</td>\n",
       "      <td>1350</td>\n",
       "      <td>13</td>\n",
       "      <td>Newton</td>\n",
       "      <td>1385</td>\n",
       "      <td>2</td>\n",
       "      <td>900</td>\n",
       "      <td>...</td>\n",
       "      <td>AA</td>\n",
       "      <td>Adult Arrest</td>\n",
       "      <td>900.0</td>\n",
       "      <td>NaN</td>\n",
       "      <td>NaN</td>\n",
       "      <td>NaN</td>\n",
       "      <td>300 E  GAGE                         AV</td>\n",
       "      <td>NaN</td>\n",
       "      <td>33.9825</td>\n",
       "      <td>-118.2695</td>\n",
       "    </tr>\n",
       "    <tr>\n",
       "      <th>1</th>\n",
       "      <td>1</td>\n",
       "      <td>11401303</td>\n",
       "      <td>09/13/2010 12:00:00 AM</td>\n",
       "      <td>09/12/2010 12:00:00 AM</td>\n",
       "      <td>45</td>\n",
       "      <td>14</td>\n",
       "      <td>Pacific</td>\n",
       "      <td>1485</td>\n",
       "      <td>2</td>\n",
       "      <td>740</td>\n",
       "      <td>...</td>\n",
       "      <td>IC</td>\n",
       "      <td>Invest Cont</td>\n",
       "      <td>740.0</td>\n",
       "      <td>NaN</td>\n",
       "      <td>NaN</td>\n",
       "      <td>NaN</td>\n",
       "      <td>SEPULVEDA                    BL</td>\n",
       "      <td>MANCHESTER                   AV</td>\n",
       "      <td>33.9599</td>\n",
       "      <td>-118.3962</td>\n",
       "    </tr>\n",
       "    <tr>\n",
       "      <th>2</th>\n",
       "      <td>2</td>\n",
       "      <td>70309629</td>\n",
       "      <td>08/09/2010 12:00:00 AM</td>\n",
       "      <td>08/09/2010 12:00:00 AM</td>\n",
       "      <td>1515</td>\n",
       "      <td>13</td>\n",
       "      <td>Newton</td>\n",
       "      <td>1324</td>\n",
       "      <td>2</td>\n",
       "      <td>946</td>\n",
       "      <td>...</td>\n",
       "      <td>IC</td>\n",
       "      <td>Invest Cont</td>\n",
       "      <td>946.0</td>\n",
       "      <td>NaN</td>\n",
       "      <td>NaN</td>\n",
       "      <td>NaN</td>\n",
       "      <td>1300 E  21ST                         ST</td>\n",
       "      <td>NaN</td>\n",
       "      <td>34.0224</td>\n",
       "      <td>-118.2524</td>\n",
       "    </tr>\n",
       "    <tr>\n",
       "      <th>3</th>\n",
       "      <td>3</td>\n",
       "      <td>90631215</td>\n",
       "      <td>01/05/2010 12:00:00 AM</td>\n",
       "      <td>01/05/2010 12:00:00 AM</td>\n",
       "      <td>150</td>\n",
       "      <td>6</td>\n",
       "      <td>Hollywood</td>\n",
       "      <td>646</td>\n",
       "      <td>2</td>\n",
       "      <td>900</td>\n",
       "      <td>...</td>\n",
       "      <td>IC</td>\n",
       "      <td>Invest Cont</td>\n",
       "      <td>900.0</td>\n",
       "      <td>998.0</td>\n",
       "      <td>NaN</td>\n",
       "      <td>NaN</td>\n",
       "      <td>CAHUENGA                     BL</td>\n",
       "      <td>HOLLYWOOD                    BL</td>\n",
       "      <td>34.1016</td>\n",
       "      <td>-118.3295</td>\n",
       "    </tr>\n",
       "    <tr>\n",
       "      <th>4</th>\n",
       "      <td>4</td>\n",
       "      <td>100100501</td>\n",
       "      <td>01/03/2010 12:00:00 AM</td>\n",
       "      <td>01/02/2010 12:00:00 AM</td>\n",
       "      <td>2100</td>\n",
       "      <td>1</td>\n",
       "      <td>Central</td>\n",
       "      <td>176</td>\n",
       "      <td>1</td>\n",
       "      <td>122</td>\n",
       "      <td>...</td>\n",
       "      <td>IC</td>\n",
       "      <td>Invest Cont</td>\n",
       "      <td>122.0</td>\n",
       "      <td>NaN</td>\n",
       "      <td>NaN</td>\n",
       "      <td>NaN</td>\n",
       "      <td>8TH                          ST</td>\n",
       "      <td>SAN PEDRO                    ST</td>\n",
       "      <td>34.0387</td>\n",
       "      <td>-118.2488</td>\n",
       "    </tr>\n",
       "    <tr>\n",
       "      <th>...</th>\n",
       "      <td>...</td>\n",
       "      <td>...</td>\n",
       "      <td>...</td>\n",
       "      <td>...</td>\n",
       "      <td>...</td>\n",
       "      <td>...</td>\n",
       "      <td>...</td>\n",
       "      <td>...</td>\n",
       "      <td>...</td>\n",
       "      <td>...</td>\n",
       "      <td>...</td>\n",
       "      <td>...</td>\n",
       "      <td>...</td>\n",
       "      <td>...</td>\n",
       "      <td>...</td>\n",
       "      <td>...</td>\n",
       "      <td>...</td>\n",
       "      <td>...</td>\n",
       "      <td>...</td>\n",
       "      <td>...</td>\n",
       "      <td>...</td>\n",
       "    </tr>\n",
       "    <tr>\n",
       "      <th>2924335</th>\n",
       "      <td>2924335</td>\n",
       "      <td>231604807</td>\n",
       "      <td>01/27/2023 12:00:00 AM</td>\n",
       "      <td>01/26/2023 12:00:00 AM</td>\n",
       "      <td>1800</td>\n",
       "      <td>16</td>\n",
       "      <td>Foothill</td>\n",
       "      <td>1663</td>\n",
       "      <td>2</td>\n",
       "      <td>740</td>\n",
       "      <td>...</td>\n",
       "      <td>IC</td>\n",
       "      <td>Invest Cont</td>\n",
       "      <td>740.0</td>\n",
       "      <td>NaN</td>\n",
       "      <td>NaN</td>\n",
       "      <td>NaN</td>\n",
       "      <td>12500    BRANFORD                     ST</td>\n",
       "      <td>NaN</td>\n",
       "      <td>34.2466</td>\n",
       "      <td>-118.4054</td>\n",
       "    </tr>\n",
       "    <tr>\n",
       "      <th>2924336</th>\n",
       "      <td>2924336</td>\n",
       "      <td>231606525</td>\n",
       "      <td>03/22/2023 12:00:00 AM</td>\n",
       "      <td>03/22/2023 12:00:00 AM</td>\n",
       "      <td>1000</td>\n",
       "      <td>16</td>\n",
       "      <td>Foothill</td>\n",
       "      <td>1602</td>\n",
       "      <td>1</td>\n",
       "      <td>230</td>\n",
       "      <td>...</td>\n",
       "      <td>IC</td>\n",
       "      <td>Invest Cont</td>\n",
       "      <td>230.0</td>\n",
       "      <td>NaN</td>\n",
       "      <td>NaN</td>\n",
       "      <td>NaN</td>\n",
       "      <td>12800    FILMORE                      ST</td>\n",
       "      <td>NaN</td>\n",
       "      <td>34.2790</td>\n",
       "      <td>-118.4116</td>\n",
       "    </tr>\n",
       "    <tr>\n",
       "      <th>2924337</th>\n",
       "      <td>2924337</td>\n",
       "      <td>231210064</td>\n",
       "      <td>04/12/2023 12:00:00 AM</td>\n",
       "      <td>04/12/2023 12:00:00 AM</td>\n",
       "      <td>1630</td>\n",
       "      <td>12</td>\n",
       "      <td>77th Street</td>\n",
       "      <td>1239</td>\n",
       "      <td>1</td>\n",
       "      <td>230</td>\n",
       "      <td>...</td>\n",
       "      <td>IC</td>\n",
       "      <td>Invest Cont</td>\n",
       "      <td>230.0</td>\n",
       "      <td>NaN</td>\n",
       "      <td>NaN</td>\n",
       "      <td>NaN</td>\n",
       "      <td>6100 S  VERMONT                      AV</td>\n",
       "      <td>NaN</td>\n",
       "      <td>33.9841</td>\n",
       "      <td>-118.2915</td>\n",
       "    </tr>\n",
       "    <tr>\n",
       "      <th>2924338</th>\n",
       "      <td>2924338</td>\n",
       "      <td>230115220</td>\n",
       "      <td>07/02/2023 12:00:00 AM</td>\n",
       "      <td>07/01/2023 12:00:00 AM</td>\n",
       "      <td>1</td>\n",
       "      <td>1</td>\n",
       "      <td>Central</td>\n",
       "      <td>154</td>\n",
       "      <td>1</td>\n",
       "      <td>352</td>\n",
       "      <td>...</td>\n",
       "      <td>IC</td>\n",
       "      <td>Invest Cont</td>\n",
       "      <td>352.0</td>\n",
       "      <td>NaN</td>\n",
       "      <td>NaN</td>\n",
       "      <td>NaN</td>\n",
       "      <td>500 S  MAIN                         ST</td>\n",
       "      <td>NaN</td>\n",
       "      <td>34.0467</td>\n",
       "      <td>-118.2485</td>\n",
       "    </tr>\n",
       "    <tr>\n",
       "      <th>2924339</th>\n",
       "      <td>2924339</td>\n",
       "      <td>230906458</td>\n",
       "      <td>03/05/2023 12:00:00 AM</td>\n",
       "      <td>03/05/2023 12:00:00 AM</td>\n",
       "      <td>900</td>\n",
       "      <td>9</td>\n",
       "      <td>Van Nuys</td>\n",
       "      <td>914</td>\n",
       "      <td>2</td>\n",
       "      <td>745</td>\n",
       "      <td>...</td>\n",
       "      <td>IC</td>\n",
       "      <td>Invest Cont</td>\n",
       "      <td>745.0</td>\n",
       "      <td>NaN</td>\n",
       "      <td>NaN</td>\n",
       "      <td>NaN</td>\n",
       "      <td>14500    HARTLAND                     ST</td>\n",
       "      <td>NaN</td>\n",
       "      <td>34.1951</td>\n",
       "      <td>-118.4487</td>\n",
       "    </tr>\n",
       "  </tbody>\n",
       "</table>\n",
       "<p>2924340 rows × 29 columns</p>\n",
       "</div>"
      ],
      "text/plain": [
       "           index      DR_NO               DATE RPTD                DATE OCC  \\\n",
       "0              0    1307355  02/20/2010 12:00:00 AM  02/20/2010 12:00:00 AM   \n",
       "1              1   11401303  09/13/2010 12:00:00 AM  09/12/2010 12:00:00 AM   \n",
       "2              2   70309629  08/09/2010 12:00:00 AM  08/09/2010 12:00:00 AM   \n",
       "3              3   90631215  01/05/2010 12:00:00 AM  01/05/2010 12:00:00 AM   \n",
       "4              4  100100501  01/03/2010 12:00:00 AM  01/02/2010 12:00:00 AM   \n",
       "...          ...        ...                     ...                     ...   \n",
       "2924335  2924335  231604807  01/27/2023 12:00:00 AM  01/26/2023 12:00:00 AM   \n",
       "2924336  2924336  231606525  03/22/2023 12:00:00 AM  03/22/2023 12:00:00 AM   \n",
       "2924337  2924337  231210064  04/12/2023 12:00:00 AM  04/12/2023 12:00:00 AM   \n",
       "2924338  2924338  230115220  07/02/2023 12:00:00 AM  07/01/2023 12:00:00 AM   \n",
       "2924339  2924339  230906458  03/05/2023 12:00:00 AM  03/05/2023 12:00:00 AM   \n",
       "\n",
       "         TIME OCC  AREA    AREA NAME  RPT DIST NO  PART 1-2  CRM CD  ...  \\\n",
       "0            1350    13       Newton         1385         2     900  ...   \n",
       "1              45    14      Pacific         1485         2     740  ...   \n",
       "2            1515    13       Newton         1324         2     946  ...   \n",
       "3             150     6    Hollywood          646         2     900  ...   \n",
       "4            2100     1      Central          176         1     122  ...   \n",
       "...           ...   ...          ...          ...       ...     ...  ...   \n",
       "2924335      1800    16     Foothill         1663         2     740  ...   \n",
       "2924336      1000    16     Foothill         1602         1     230  ...   \n",
       "2924337      1630    12  77th Street         1239         1     230  ...   \n",
       "2924338         1     1      Central          154         1     352  ...   \n",
       "2924339       900     9     Van Nuys          914         2     745  ...   \n",
       "\n",
       "        STATUS   STATUS DESC  CRM CD 1 CRM CD 2 CRM CD 3  CRM CD 4  \\\n",
       "0           AA  Adult Arrest     900.0      NaN      NaN       NaN   \n",
       "1           IC   Invest Cont     740.0      NaN      NaN       NaN   \n",
       "2           IC   Invest Cont     946.0      NaN      NaN       NaN   \n",
       "3           IC   Invest Cont     900.0    998.0      NaN       NaN   \n",
       "4           IC   Invest Cont     122.0      NaN      NaN       NaN   \n",
       "...        ...           ...       ...      ...      ...       ...   \n",
       "2924335     IC   Invest Cont     740.0      NaN      NaN       NaN   \n",
       "2924336     IC   Invest Cont     230.0      NaN      NaN       NaN   \n",
       "2924337     IC   Invest Cont     230.0      NaN      NaN       NaN   \n",
       "2924338     IC   Invest Cont     352.0      NaN      NaN       NaN   \n",
       "2924339     IC   Invest Cont     745.0      NaN      NaN       NaN   \n",
       "\n",
       "                                         LOCATION  \\\n",
       "0          300 E  GAGE                         AV   \n",
       "1                 SEPULVEDA                    BL   \n",
       "2         1300 E  21ST                         ST   \n",
       "3                 CAHUENGA                     BL   \n",
       "4                 8TH                          ST   \n",
       "...                                           ...   \n",
       "2924335  12500    BRANFORD                     ST   \n",
       "2924336  12800    FILMORE                      ST   \n",
       "2924337   6100 S  VERMONT                      AV   \n",
       "2924338    500 S  MAIN                         ST   \n",
       "2924339  14500    HARTLAND                     ST   \n",
       "\n",
       "                            CROSS STREET      LAT       LON  \n",
       "0                                    NaN  33.9825 -118.2695  \n",
       "1        MANCHESTER                   AV  33.9599 -118.3962  \n",
       "2                                    NaN  34.0224 -118.2524  \n",
       "3        HOLLYWOOD                    BL  34.1016 -118.3295  \n",
       "4        SAN PEDRO                    ST  34.0387 -118.2488  \n",
       "...                                  ...      ...       ...  \n",
       "2924335                              NaN  34.2466 -118.4054  \n",
       "2924336                              NaN  34.2790 -118.4116  \n",
       "2924337                              NaN  33.9841 -118.2915  \n",
       "2924338                              NaN  34.0467 -118.2485  \n",
       "2924339                              NaN  34.1951 -118.4487  \n",
       "\n",
       "[2924340 rows x 29 columns]"
      ]
     },
     "execution_count": 6,
     "metadata": {},
     "output_type": "execute_result"
    }
   ],
   "source": [
    "crime_data.reset_index()"
   ]
  },
  {
   "cell_type": "markdown",
   "id": "5f894221",
   "metadata": {},
   "source": [
    "## Explore Data"
   ]
  },
  {
   "cell_type": "markdown",
   "id": "766e577a",
   "metadata": {},
   "source": [
    "Number Of Missing Values By Column"
   ]
  },
  {
   "cell_type": "code",
   "execution_count": 7,
   "id": "8f1a4bf9",
   "metadata": {
    "scrolled": true
   },
   "outputs": [
    {
     "data": {
      "text/html": [
       "<div>\n",
       "<style scoped>\n",
       "    .dataframe tbody tr th:only-of-type {\n",
       "        vertical-align: middle;\n",
       "    }\n",
       "\n",
       "    .dataframe tbody tr th {\n",
       "        vertical-align: top;\n",
       "    }\n",
       "\n",
       "    .dataframe thead th {\n",
       "        text-align: right;\n",
       "    }\n",
       "</style>\n",
       "<table border=\"1\" class=\"dataframe\">\n",
       "  <thead>\n",
       "    <tr style=\"text-align: right;\">\n",
       "      <th></th>\n",
       "      <th>count</th>\n",
       "      <th>%</th>\n",
       "    </tr>\n",
       "  </thead>\n",
       "  <tbody>\n",
       "    <tr>\n",
       "      <th>DR_NO</th>\n",
       "      <td>0</td>\n",
       "      <td>0.000000</td>\n",
       "    </tr>\n",
       "    <tr>\n",
       "      <th>LOCATION</th>\n",
       "      <td>0</td>\n",
       "      <td>0.000000</td>\n",
       "    </tr>\n",
       "    <tr>\n",
       "      <th>STATUS DESC</th>\n",
       "      <td>0</td>\n",
       "      <td>0.000000</td>\n",
       "    </tr>\n",
       "    <tr>\n",
       "      <th>LAT</th>\n",
       "      <td>0</td>\n",
       "      <td>0.000000</td>\n",
       "    </tr>\n",
       "    <tr>\n",
       "      <th>VICT AGE</th>\n",
       "      <td>0</td>\n",
       "      <td>0.000000</td>\n",
       "    </tr>\n",
       "    <tr>\n",
       "      <th>CRM CD DESC</th>\n",
       "      <td>0</td>\n",
       "      <td>0.000000</td>\n",
       "    </tr>\n",
       "    <tr>\n",
       "      <th>CRM CD</th>\n",
       "      <td>0</td>\n",
       "      <td>0.000000</td>\n",
       "    </tr>\n",
       "    <tr>\n",
       "      <th>LON</th>\n",
       "      <td>0</td>\n",
       "      <td>0.000000</td>\n",
       "    </tr>\n",
       "    <tr>\n",
       "      <th>RPT DIST NO</th>\n",
       "      <td>0</td>\n",
       "      <td>0.000000</td>\n",
       "    </tr>\n",
       "    <tr>\n",
       "      <th>AREA NAME</th>\n",
       "      <td>0</td>\n",
       "      <td>0.000000</td>\n",
       "    </tr>\n",
       "    <tr>\n",
       "      <th>DATE RPTD</th>\n",
       "      <td>0</td>\n",
       "      <td>0.000000</td>\n",
       "    </tr>\n",
       "    <tr>\n",
       "      <th>AREA</th>\n",
       "      <td>0</td>\n",
       "      <td>0.000000</td>\n",
       "    </tr>\n",
       "    <tr>\n",
       "      <th>TIME OCC</th>\n",
       "      <td>0</td>\n",
       "      <td>0.000000</td>\n",
       "    </tr>\n",
       "    <tr>\n",
       "      <th>PART 1-2</th>\n",
       "      <td>0</td>\n",
       "      <td>0.000000</td>\n",
       "    </tr>\n",
       "    <tr>\n",
       "      <th>DATE OCC</th>\n",
       "      <td>0</td>\n",
       "      <td>0.000000</td>\n",
       "    </tr>\n",
       "    <tr>\n",
       "      <th>STATUS</th>\n",
       "      <td>3</td>\n",
       "      <td>0.000103</td>\n",
       "    </tr>\n",
       "    <tr>\n",
       "      <th>CRM CD 1</th>\n",
       "      <td>20</td>\n",
       "      <td>0.000684</td>\n",
       "    </tr>\n",
       "    <tr>\n",
       "      <th>PREMIS CD</th>\n",
       "      <td>57</td>\n",
       "      <td>0.001949</td>\n",
       "    </tr>\n",
       "    <tr>\n",
       "      <th>PREMIS DESC</th>\n",
       "      <td>658</td>\n",
       "      <td>0.022501</td>\n",
       "    </tr>\n",
       "    <tr>\n",
       "      <th>VICT SEX</th>\n",
       "      <td>304587</td>\n",
       "      <td>10.415581</td>\n",
       "    </tr>\n",
       "    <tr>\n",
       "      <th>VICT DESCENT</th>\n",
       "      <td>304640</td>\n",
       "      <td>10.417393</td>\n",
       "    </tr>\n",
       "    <tr>\n",
       "      <th>MOCODES</th>\n",
       "      <td>341176</td>\n",
       "      <td>11.666769</td>\n",
       "    </tr>\n",
       "    <tr>\n",
       "      <th>WEAPON USED CD</th>\n",
       "      <td>1931472</td>\n",
       "      <td>66.048134</td>\n",
       "    </tr>\n",
       "    <tr>\n",
       "      <th>WEAPON DESC</th>\n",
       "      <td>1931473</td>\n",
       "      <td>66.048168</td>\n",
       "    </tr>\n",
       "    <tr>\n",
       "      <th>CROSS STREET</th>\n",
       "      <td>2439433</td>\n",
       "      <td>83.418241</td>\n",
       "    </tr>\n",
       "    <tr>\n",
       "      <th>CRM CD 2</th>\n",
       "      <td>2723976</td>\n",
       "      <td>93.148403</td>\n",
       "    </tr>\n",
       "    <tr>\n",
       "      <th>CRM CD 3</th>\n",
       "      <td>2918739</td>\n",
       "      <td>99.808470</td>\n",
       "    </tr>\n",
       "    <tr>\n",
       "      <th>CRM CD 4</th>\n",
       "      <td>2924177</td>\n",
       "      <td>99.994426</td>\n",
       "    </tr>\n",
       "  </tbody>\n",
       "</table>\n",
       "</div>"
      ],
      "text/plain": [
       "                  count          %\n",
       "DR_NO                 0   0.000000\n",
       "LOCATION              0   0.000000\n",
       "STATUS DESC           0   0.000000\n",
       "LAT                   0   0.000000\n",
       "VICT AGE              0   0.000000\n",
       "CRM CD DESC           0   0.000000\n",
       "CRM CD                0   0.000000\n",
       "LON                   0   0.000000\n",
       "RPT DIST NO           0   0.000000\n",
       "AREA NAME             0   0.000000\n",
       "DATE RPTD             0   0.000000\n",
       "AREA                  0   0.000000\n",
       "TIME OCC              0   0.000000\n",
       "PART 1-2              0   0.000000\n",
       "DATE OCC              0   0.000000\n",
       "STATUS                3   0.000103\n",
       "CRM CD 1             20   0.000684\n",
       "PREMIS CD            57   0.001949\n",
       "PREMIS DESC         658   0.022501\n",
       "VICT SEX         304587  10.415581\n",
       "VICT DESCENT     304640  10.417393\n",
       "MOCODES          341176  11.666769\n",
       "WEAPON USED CD  1931472  66.048134\n",
       "WEAPON DESC     1931473  66.048168\n",
       "CROSS STREET    2439433  83.418241\n",
       "CRM CD 2        2723976  93.148403\n",
       "CRM CD 3        2918739  99.808470\n",
       "CRM CD 4        2924177  99.994426"
      ]
     },
     "execution_count": 7,
     "metadata": {},
     "output_type": "execute_result"
    }
   ],
   "source": [
    "missing_crime= pd.concat([crime_data.isnull().sum(), 100 * crime_data.isnull().mean()], axis=1)\n",
    "missing_crime.columns=['count', '%']\n",
    "missing_crime.sort_values(by=['count'])"
   ]
  },
  {
   "cell_type": "markdown",
   "id": "f27e24ed",
   "metadata": {},
   "source": [
    "##### Handling Missing data"
   ]
  },
  {
   "cell_type": "code",
   "execution_count": 8,
   "id": "74793698",
   "metadata": {},
   "outputs": [],
   "source": [
    "# Fill missing values\n",
    "crime_data['MOCODES'].fillna('', inplace=True)\n",
    "crime_data['VICT SEX'].fillna('Unknown', inplace=True)\n",
    "crime_data['VICT DESCENT'].fillna('Unknown', inplace=True)\n",
    "crime_data['PREMIS DESC'].fillna('Unknown', inplace=True)\n",
    "crime_data['WEAPON DESC'].fillna('None', inplace=True)\n",
    "crime_data['CRM CD 1'].fillna(-1, inplace=True)\n",
    "\n",
    "\n",
    "# Extract month, day, and year from crime data\n",
    "\n",
    "crime_data['DATE RPTD'] = pd.to_datetime(crime_data['DATE RPTD'])\n",
    "crime_data['DATE OCC'] = pd.to_datetime(crime_data['DATE OCC'])\n",
    "\n",
    "crime_data['MTH_RPTD'] = crime_data['DATE RPTD'].dt.month\n",
    "crime_data['DAY_RPTD'] = crime_data['DATE RPTD'].dt.day\n",
    "crime_data['YEAR_RPTD'] = crime_data['DATE RPTD'].dt.year\n",
    "\n",
    "crime_data['MTH_OCC'] = crime_data['DATE OCC'].dt.month\n",
    "crime_data['DAY_OCC'] = crime_data['DATE OCC'].dt.day\n",
    "crime_data['YEAR_OCC'] = crime_data['DATE OCC'].dt.year\n"
   ]
  },
  {
   "cell_type": "markdown",
   "id": "8422ccdb",
   "metadata": {},
   "source": [
    "##### For crime data, need only location , type of crime & crime date rough timing . the rest of the columns shall be dropped."
   ]
  },
  {
   "cell_type": "code",
   "execution_count": 9,
   "id": "5437e2c8",
   "metadata": {},
   "outputs": [],
   "source": [
    "columns_to_drop_crime= ['DR_NO', 'CROSS STREET','CRM CD 2', 'CRM CD 3', 'CRM CD 4']\n",
    "crime_data.drop(columns=columns_to_drop_crime, inplace=True)"
   ]
  },
  {
   "cell_type": "markdown",
   "id": "460cdbde",
   "metadata": {},
   "source": [
    "##### Check if there is any duplicate records after removing raw data unique IDs"
   ]
  },
  {
   "cell_type": "code",
   "execution_count": 10,
   "id": "2a2028b2",
   "metadata": {},
   "outputs": [],
   "source": [
    "#Remove dupliate and keep as new cleaned dataframes\n",
    "crime_data= crime_data.drop_duplicates(keep='last')"
   ]
  },
  {
   "cell_type": "markdown",
   "id": "766c7186",
   "metadata": {},
   "source": [
    "##### Remove space from column names"
   ]
  },
  {
   "cell_type": "code",
   "execution_count": 11,
   "id": "9f257490",
   "metadata": {},
   "outputs": [],
   "source": [
    "# Replace spaces with underscores\n",
    "crime_data.columns = [col.replace(' ', '_') for col in crime_data.columns]"
   ]
  },
  {
   "cell_type": "markdown",
   "id": "3de9285d",
   "metadata": {},
   "source": [
    "##### Add ID column sort by index"
   ]
  },
  {
   "cell_type": "code",
   "execution_count": 13,
   "id": "99aaec6f",
   "metadata": {},
   "outputs": [],
   "source": [
    "# Sort DataFrame by date column\n",
    "crime_data = crime_data.sort_values(by='DATE_OCC')\n",
    "\n",
    "# Reset index if needed\n",
    "crime_data = crime_data.reset_index(drop=True)\n",
    "\n",
    "# Add index+1 as ID column\n",
    "crime_data['ID'] = crime_data.index + 1\n"
   ]
  },
  {
   "cell_type": "code",
   "execution_count": 14,
   "id": "e7afab82",
   "metadata": {},
   "outputs": [
    {
     "name": "stdout",
     "output_type": "stream",
     "text": [
      "<class 'pandas.core.frame.DataFrame'>\n",
      "RangeIndex: 2865898 entries, 0 to 2865897\n",
      "Data columns (total 30 columns):\n",
      " #   Column          Dtype         \n",
      "---  ------          -----         \n",
      " 0   DATE_RPTD       datetime64[ns]\n",
      " 1   DATE_OCC        datetime64[ns]\n",
      " 2   TIME_OCC        int64         \n",
      " 3   AREA            int64         \n",
      " 4   AREA_NAME       object        \n",
      " 5   RPT_DIST_NO     int64         \n",
      " 6   PART_1-2        int64         \n",
      " 7   CRM_CD          int64         \n",
      " 8   CRM_CD_DESC     object        \n",
      " 9   MOCODES         object        \n",
      " 10  VICT_AGE        int64         \n",
      " 11  VICT_SEX        object        \n",
      " 12  VICT_DESCENT    object        \n",
      " 13  PREMIS_CD       float64       \n",
      " 14  PREMIS_DESC     object        \n",
      " 15  WEAPON_USED_CD  float64       \n",
      " 16  WEAPON_DESC     object        \n",
      " 17  STATUS          object        \n",
      " 18  STATUS_DESC     object        \n",
      " 19  CRM_CD_1        float64       \n",
      " 20  LOCATION        object        \n",
      " 21  LAT             float64       \n",
      " 22  LON             float64       \n",
      " 23  MTH_RPTD        int64         \n",
      " 24  DAY_RPTD        int64         \n",
      " 25  YEAR_RPTD       int64         \n",
      " 26  MTH_OCC         int64         \n",
      " 27  DAY_OCC         int64         \n",
      " 28  YEAR_OCC        int64         \n",
      " 29  ID              int64         \n",
      "dtypes: datetime64[ns](2), float64(5), int64(13), object(10)\n",
      "memory usage: 656.0+ MB\n"
     ]
    }
   ],
   "source": [
    "crime_data.info()"
   ]
  },
  {
   "cell_type": "markdown",
   "id": "5dbf2dc7",
   "metadata": {},
   "source": [
    "## Categorial Features"
   ]
  },
  {
   "cell_type": "code",
   "execution_count": 15,
   "id": "c30732c3",
   "metadata": {},
   "outputs": [
    {
     "data": {
      "text/html": [
       "<div>\n",
       "<style scoped>\n",
       "    .dataframe tbody tr th:only-of-type {\n",
       "        vertical-align: middle;\n",
       "    }\n",
       "\n",
       "    .dataframe tbody tr th {\n",
       "        vertical-align: top;\n",
       "    }\n",
       "\n",
       "    .dataframe thead th {\n",
       "        text-align: right;\n",
       "    }\n",
       "</style>\n",
       "<table border=\"1\" class=\"dataframe\">\n",
       "  <thead>\n",
       "    <tr style=\"text-align: right;\">\n",
       "      <th></th>\n",
       "      <th>AREA_NAME</th>\n",
       "      <th>CRM_CD_DESC</th>\n",
       "      <th>MOCODES</th>\n",
       "      <th>VICT_SEX</th>\n",
       "      <th>VICT_DESCENT</th>\n",
       "      <th>PREMIS_DESC</th>\n",
       "      <th>WEAPON_DESC</th>\n",
       "      <th>STATUS</th>\n",
       "      <th>STATUS_DESC</th>\n",
       "      <th>LOCATION</th>\n",
       "    </tr>\n",
       "  </thead>\n",
       "  <tbody>\n",
       "    <tr>\n",
       "      <th>0</th>\n",
       "      <td>Topanga</td>\n",
       "      <td>THEFT OF IDENTITY</td>\n",
       "      <td>0377</td>\n",
       "      <td>F</td>\n",
       "      <td>B</td>\n",
       "      <td>MULTI-UNIT DWELLING (APARTMENT, DUPLEX, ETC)</td>\n",
       "      <td>None</td>\n",
       "      <td>IC</td>\n",
       "      <td>Invest Cont</td>\n",
       "      <td>22100    BURBANK                      BL</td>\n",
       "    </tr>\n",
       "    <tr>\n",
       "      <th>1</th>\n",
       "      <td>Northeast</td>\n",
       "      <td>THEFT OF IDENTITY</td>\n",
       "      <td></td>\n",
       "      <td>F</td>\n",
       "      <td>H</td>\n",
       "      <td>SINGLE FAMILY DWELLING</td>\n",
       "      <td>None</td>\n",
       "      <td>IC</td>\n",
       "      <td>Invest Cont</td>\n",
       "      <td>2700    LYTELLE                      PL</td>\n",
       "    </tr>\n",
       "    <tr>\n",
       "      <th>2</th>\n",
       "      <td>Topanga</td>\n",
       "      <td>ORAL COPULATION</td>\n",
       "      <td>1258 0512</td>\n",
       "      <td>M</td>\n",
       "      <td>H</td>\n",
       "      <td>SINGLE FAMILY DWELLING</td>\n",
       "      <td>STRONG-ARM (HANDS, FIST, FEET OR BODILY FORCE)</td>\n",
       "      <td>JA</td>\n",
       "      <td>Juv Arrest</td>\n",
       "      <td>7200    ETON                         AV</td>\n",
       "    </tr>\n",
       "    <tr>\n",
       "      <th>3</th>\n",
       "      <td>Olympic</td>\n",
       "      <td>THEFT OF IDENTITY</td>\n",
       "      <td>0100 1822 0917</td>\n",
       "      <td>M</td>\n",
       "      <td>K</td>\n",
       "      <td>MULTI-UNIT DWELLING (APARTMENT, DUPLEX, ETC)</td>\n",
       "      <td>None</td>\n",
       "      <td>IC</td>\n",
       "      <td>Invest Cont</td>\n",
       "      <td>4800    ELMWOOD                      AV</td>\n",
       "    </tr>\n",
       "    <tr>\n",
       "      <th>4</th>\n",
       "      <td>Topanga</td>\n",
       "      <td>DISTURBING THE PEACE</td>\n",
       "      <td>1501</td>\n",
       "      <td>F</td>\n",
       "      <td>W</td>\n",
       "      <td>SINGLE FAMILY DWELLING</td>\n",
       "      <td>None</td>\n",
       "      <td>IC</td>\n",
       "      <td>Invest Cont</td>\n",
       "      <td>7400    KELVIN                       AV</td>\n",
       "    </tr>\n",
       "    <tr>\n",
       "      <th>...</th>\n",
       "      <td>...</td>\n",
       "      <td>...</td>\n",
       "      <td>...</td>\n",
       "      <td>...</td>\n",
       "      <td>...</td>\n",
       "      <td>...</td>\n",
       "      <td>...</td>\n",
       "      <td>...</td>\n",
       "      <td>...</td>\n",
       "      <td>...</td>\n",
       "    </tr>\n",
       "    <tr>\n",
       "      <th>2865893</th>\n",
       "      <td>Van Nuys</td>\n",
       "      <td>BURGLARY</td>\n",
       "      <td>0325 1402 1609</td>\n",
       "      <td>F</td>\n",
       "      <td>W</td>\n",
       "      <td>RESTAURANT/FAST FOOD</td>\n",
       "      <td>None</td>\n",
       "      <td>IC</td>\n",
       "      <td>Invest Cont</td>\n",
       "      <td>4500    VAN NUYS                     BL</td>\n",
       "    </tr>\n",
       "    <tr>\n",
       "      <th>2865894</th>\n",
       "      <td>Northeast</td>\n",
       "      <td>BATTERY - SIMPLE ASSAULT</td>\n",
       "      <td>1259 1251 0416 0419 0429 0305 1309 0326</td>\n",
       "      <td>Unknown</td>\n",
       "      <td>Unknown</td>\n",
       "      <td>SIDEWALK</td>\n",
       "      <td>STRONG-ARM (HANDS, FIST, FEET OR BODILY FORCE)</td>\n",
       "      <td>IC</td>\n",
       "      <td>Invest Cont</td>\n",
       "      <td>1200 N  AVE 54</td>\n",
       "    </tr>\n",
       "    <tr>\n",
       "      <th>2865895</th>\n",
       "      <td>Newton</td>\n",
       "      <td>ASSAULT WITH DEADLY WEAPON, AGGRAVATED ASSAULT</td>\n",
       "      <td>0913 0416 1309 0432</td>\n",
       "      <td>F</td>\n",
       "      <td>H</td>\n",
       "      <td>YARD (RESIDENTIAL/BUSINESS)</td>\n",
       "      <td>BOTTLE</td>\n",
       "      <td>IC</td>\n",
       "      <td>Invest Cont</td>\n",
       "      <td>1500 E  42ND                         ST</td>\n",
       "    </tr>\n",
       "    <tr>\n",
       "      <th>2865896</th>\n",
       "      <td>Central</td>\n",
       "      <td>BURGLARY FROM VEHICLE</td>\n",
       "      <td>1402 1307 0344 0329</td>\n",
       "      <td>Unknown</td>\n",
       "      <td>Unknown</td>\n",
       "      <td>STREET</td>\n",
       "      <td>None</td>\n",
       "      <td>IC</td>\n",
       "      <td>Invest Cont</td>\n",
       "      <td>5TH</td>\n",
       "    </tr>\n",
       "    <tr>\n",
       "      <th>2865897</th>\n",
       "      <td>77th Street</td>\n",
       "      <td>VEHICLE - STOLEN</td>\n",
       "      <td></td>\n",
       "      <td>Unknown</td>\n",
       "      <td>Unknown</td>\n",
       "      <td>STREET</td>\n",
       "      <td>None</td>\n",
       "      <td>IC</td>\n",
       "      <td>Invest Cont</td>\n",
       "      <td>1400 W  61ST                         ST</td>\n",
       "    </tr>\n",
       "  </tbody>\n",
       "</table>\n",
       "<p>2865898 rows × 10 columns</p>\n",
       "</div>"
      ],
      "text/plain": [
       "           AREA_NAME                                     CRM_CD_DESC  \\\n",
       "0            Topanga                               THEFT OF IDENTITY   \n",
       "1          Northeast                               THEFT OF IDENTITY   \n",
       "2            Topanga                                 ORAL COPULATION   \n",
       "3            Olympic                               THEFT OF IDENTITY   \n",
       "4            Topanga                            DISTURBING THE PEACE   \n",
       "...              ...                                             ...   \n",
       "2865893     Van Nuys                                        BURGLARY   \n",
       "2865894    Northeast                        BATTERY - SIMPLE ASSAULT   \n",
       "2865895       Newton  ASSAULT WITH DEADLY WEAPON, AGGRAVATED ASSAULT   \n",
       "2865896      Central                           BURGLARY FROM VEHICLE   \n",
       "2865897  77th Street                                VEHICLE - STOLEN   \n",
       "\n",
       "                                         MOCODES VICT_SEX VICT_DESCENT  \\\n",
       "0                                           0377        F            B   \n",
       "1                                                       F            H   \n",
       "2                                      1258 0512        M            H   \n",
       "3                                 0100 1822 0917        M            K   \n",
       "4                                           1501        F            W   \n",
       "...                                          ...      ...          ...   \n",
       "2865893                           0325 1402 1609        F            W   \n",
       "2865894  1259 1251 0416 0419 0429 0305 1309 0326  Unknown      Unknown   \n",
       "2865895                      0913 0416 1309 0432        F            H   \n",
       "2865896                      1402 1307 0344 0329  Unknown      Unknown   \n",
       "2865897                                           Unknown      Unknown   \n",
       "\n",
       "                                          PREMIS_DESC  \\\n",
       "0        MULTI-UNIT DWELLING (APARTMENT, DUPLEX, ETC)   \n",
       "1                              SINGLE FAMILY DWELLING   \n",
       "2                              SINGLE FAMILY DWELLING   \n",
       "3        MULTI-UNIT DWELLING (APARTMENT, DUPLEX, ETC)   \n",
       "4                              SINGLE FAMILY DWELLING   \n",
       "...                                               ...   \n",
       "2865893                          RESTAURANT/FAST FOOD   \n",
       "2865894                                      SIDEWALK   \n",
       "2865895                   YARD (RESIDENTIAL/BUSINESS)   \n",
       "2865896                                        STREET   \n",
       "2865897                                        STREET   \n",
       "\n",
       "                                            WEAPON_DESC STATUS  STATUS_DESC  \\\n",
       "0                                                  None     IC  Invest Cont   \n",
       "1                                                  None     IC  Invest Cont   \n",
       "2        STRONG-ARM (HANDS, FIST, FEET OR BODILY FORCE)     JA   Juv Arrest   \n",
       "3                                                  None     IC  Invest Cont   \n",
       "4                                                  None     IC  Invest Cont   \n",
       "...                                                 ...    ...          ...   \n",
       "2865893                                            None     IC  Invest Cont   \n",
       "2865894  STRONG-ARM (HANDS, FIST, FEET OR BODILY FORCE)     IC  Invest Cont   \n",
       "2865895                                          BOTTLE     IC  Invest Cont   \n",
       "2865896                                            None     IC  Invest Cont   \n",
       "2865897                                            None     IC  Invest Cont   \n",
       "\n",
       "                                         LOCATION  \n",
       "0        22100    BURBANK                      BL  \n",
       "1         2700    LYTELLE                      PL  \n",
       "2         7200    ETON                         AV  \n",
       "3         4800    ELMWOOD                      AV  \n",
       "4         7400    KELVIN                       AV  \n",
       "...                                           ...  \n",
       "2865893   4500    VAN NUYS                     BL  \n",
       "2865894                            1200 N  AVE 54  \n",
       "2865895   1500 E  42ND                         ST  \n",
       "2865896                                       5TH  \n",
       "2865897   1400 W  61ST                         ST  \n",
       "\n",
       "[2865898 rows x 10 columns]"
      ]
     },
     "execution_count": 15,
     "metadata": {},
     "output_type": "execute_result"
    }
   ],
   "source": [
    "crime_data.select_dtypes('object')"
   ]
  },
  {
   "cell_type": "code",
   "execution_count": 16,
   "id": "466b1fde",
   "metadata": {},
   "outputs": [
    {
     "data": {
      "text/plain": [
       "77th Street    194790\n",
       "Southwest      179068\n",
       "Pacific        157989\n",
       "N Hollywood    152643\n",
       "Central        150896\n",
       "Southeast      148336\n",
       "Hollywood      140524\n",
       "Newton         139027\n",
       "Northeast      133937\n",
       "Van Nuys       132783\n",
       "Devonshire     127860\n",
       "Olympic        126272\n",
       "Rampart        125856\n",
       "Wilshire       125638\n",
       "Mission        125019\n",
       "West LA        124915\n",
       "Harbor         124164\n",
       "West Valley    122280\n",
       "Topanga        120860\n",
       "Hollenbeck     107251\n",
       "Foothill       105790\n",
       "Name: AREA_NAME, dtype: int64"
      ]
     },
     "execution_count": 16,
     "metadata": {},
     "output_type": "execute_result"
    }
   ],
   "source": [
    "#Lets emphasize on Location ( Area and City) from both datasets\n",
    "crime_data['AREA_NAME'].value_counts()"
   ]
  },
  {
   "cell_type": "markdown",
   "id": "bb53aa37",
   "metadata": {},
   "source": [
    "## Review distribution"
   ]
  },
  {
   "cell_type": "code",
   "execution_count": 17,
   "id": "2945b90c",
   "metadata": {
    "scrolled": true
   },
   "outputs": [
    {
     "data": {
      "image/png": "[encoded data removed]",
      "text/plain": [
       "<Figure size 1080x720 with 20 Axes>"
      ]
     },
     "metadata": {
      "needs_background": "light"
     },
     "output_type": "display_data"
    }
   ],
   "source": [
    "crime_data.hist(figsize=(15, 10))\n",
    "plt.subplots_adjust(hspace=0.5);"
   ]
  },
  {
   "cell_type": "markdown",
   "id": "3b89d385",
   "metadata": {},
   "source": [
    "## Distribution Features"
   ]
  },
  {
   "cell_type": "markdown",
   "id": "e63664bc",
   "metadata": {},
   "source": [
    "#### Distribution Of Cimes By Area"
   ]
  },
  {
   "cell_type": "code",
   "execution_count": 18,
   "id": "68cd4b58",
   "metadata": {
    "scrolled": true
   },
   "outputs": [
    {
     "data": {
      "image/png": "[encoded data removed]",
      "text/plain": [
       "<Figure size 432x288 with 1 Axes>"
      ]
     },
     "metadata": {
      "needs_background": "light"
     },
     "output_type": "display_data"
    }
   ],
   "source": [
    "crime_data['AREA_NAME'].value_counts().plot(kind='bar')\n",
    "plt.xlabel('Neigbourhood Name')\n",
    "plt.ylabel('Count')\n",
    "plt.show()"
   ]
  },
  {
   "cell_type": "markdown",
   "id": "a08f6123",
   "metadata": {},
   "source": [
    "#### Distribution Of Crimes by Crime Description"
   ]
  },
  {
   "cell_type": "code",
   "execution_count": 19,
   "id": "15440472",
   "metadata": {},
   "outputs": [
    {
     "data": {
      "text/plain": [
       "BATTERY - SIMPLE ASSAULT                                   249697\n",
       "VEHICLE - STOLEN                                           240082\n",
       "BURGLARY FROM VEHICLE                                      208545\n",
       "BURGLARY                                                   192831\n",
       "THEFT PLAIN - PETTY ($950 & UNDER)                         187623\n",
       "                                                            ...  \n",
       "TILL TAP - ATTEMPT                                              4\n",
       "FIREARMS EMERGENCY PROTECTIVE ORDER (FIREARMS EPO)              4\n",
       "TRAIN WRECKING                                                  2\n",
       "DRUNK ROLL - ATTEMPT                                            1\n",
       "FIREARMS TEMPORARY RESTRAINING ORDER (TEMP FIREARMS RO)         1\n",
       "Name: CRM_CD_DESC, Length: 143, dtype: int64"
      ]
     },
     "execution_count": 19,
     "metadata": {},
     "output_type": "execute_result"
    }
   ],
   "source": [
    "crime_data['CRM_CD_DESC'].value_counts()"
   ]
  },
  {
   "cell_type": "code",
   "execution_count": 20,
   "id": "bdc3faeb",
   "metadata": {},
   "outputs": [
    {
     "data": {
      "image/png": "[encoded data removed]",
      "text/plain": [
       "<Figure size 720x576 with 1 Axes>"
      ]
     },
     "metadata": {
      "needs_background": "light"
     },
     "output_type": "display_data"
    }
   ],
   "source": [
    "# Get the top 30 crime categories by value counts\n",
    "top_30_crimes = crime_data['CRM_CD_DESC'].value_counts().head(30)\n",
    "\n",
    "# Create the bar graph\n",
    "plt.figure(figsize=(10, 8))  # Adjust the figure size if needed\n",
    "top_30_crimes.plot(kind='barh')\n",
    "plt.xlabel('Count')\n",
    "plt.ylabel('Crime Category')\n",
    "plt.title('Top 30 Crime Categories')\n",
    "plt.gca().invert_yaxis()  # Invert the y-axis to show the most frequent crimes at the top\n",
    "plt.show()"
   ]
  },
  {
   "cell_type": "code",
   "execution_count": 21,
   "id": "a114d1d7",
   "metadata": {
    "scrolled": false
   },
   "outputs": [
    {
     "data": {
      "image/png": "[encoded data removed]",
      "text/plain": [
       "<Figure size 720x576 with 1 Axes>"
      ]
     },
     "metadata": {
      "needs_background": "light"
     },
     "output_type": "display_data"
    }
   ],
   "source": [
    "# Get the least crime categories by value counts\n",
    "least_20_crimes = crime_data['CRM_CD_DESC'].value_counts().tail(20)\n",
    "\n",
    "# Create the bar graph\n",
    "plt.figure(figsize=(10, 8))  # Adjust the figure size if needed\n",
    "least_20_crimes.plot(kind='barh')\n",
    "plt.xlabel('Count')\n",
    "plt.ylabel('Crime Category')\n",
    "plt.title('Least 20 Crime Categories')\n",
    "plt.gca().invert_yaxis()  # Invert the y-axis to show the most frequent crimes at the top\n",
    "plt.show()"
   ]
  },
  {
   "cell_type": "markdown",
   "id": "87e26b03",
   "metadata": {},
   "source": [
    "#### Crime occurance frequency by Area & Type (2010 to Sep 2023)"
   ]
  },
  {
   "cell_type": "code",
   "execution_count": 22,
   "id": "38e7e2c0",
   "metadata": {
    "scrolled": false
   },
   "outputs": [
    {
     "name": "stdout",
     "output_type": "stream",
     "text": [
      "     AREA_NAME                                     CRM_CD_DESC  CRIME_COUNT\n",
      "0  77th Street                                           ARSON          526\n",
      "1  77th Street    ASSAULT WITH DEADLY WEAPON ON POLICE OFFICER          190\n",
      "2  77th Street  ASSAULT WITH DEADLY WEAPON, AGGRAVATED ASSAULT        16701\n",
      "3  77th Street                               ATTEMPTED ROBBERY         1725\n",
      "4  77th Street                        BATTERY - SIMPLE ASSAULT        18829\n",
      "              count         mean          std  min   25%   50%    75%      max\n",
      "CRIME_COUNT  2687.0  1066.579084  2595.519266  1.0  12.5  85.0  478.5  20493.0\n"
     ]
    }
   ],
   "source": [
    "#Code task 14#\n",
    "# Calculate  count of crime type by area sort by the average of the two\n",
    "\n",
    "crime_area_type_count = crime_data.groupby(['AREA_NAME', 'CRM_CD_DESC']).size().reset_index(name='CRIME_COUNT')\n",
    "sorted_crime_area_type_count = crime_area_type_count.sort_values(by='CRIME_COUNT', ascending=False)\n",
    "print(crime_area_type_count.head(5))\n",
    "print(crime_area_type_count.describe().T)"
   ]
  },
  {
   "cell_type": "markdown",
   "id": "96d1431b",
   "metadata": {},
   "source": [
    "#### Data Distrubution based on occurance date"
   ]
  },
  {
   "cell_type": "markdown",
   "id": "297a1977",
   "metadata": {},
   "source": [
    "2023 is not ended yet, so data on 2023 figure is not reliable. However, 2022 is the highest crime rate."
   ]
  },
  {
   "cell_type": "code",
   "execution_count": 23,
   "id": "053d36ed",
   "metadata": {
    "scrolled": false
   },
   "outputs": [
    {
     "name": "stdout",
     "output_type": "stream",
     "text": [
      "   YEAR_OCC  CRIME_COUNT\n",
      "0      2010       208695\n",
      "1      2011       200300\n",
      "2      2012       201297\n",
      "3      2013       192367\n",
      "4      2014       157470\n",
      "             count      mean           std       min        25%       50%  \\\n",
      "YEAR_OCC      14.0    2016.5      4.183300    2010.0    2013.25    2016.5   \n",
      "CRIME_COUNT   14.0  204707.0  26010.283765  145765.0  199115.75  208744.5   \n",
      "\n",
      "                   75%       max  \n",
      "YEAR_OCC       2019.75    2023.0  \n",
      "CRIME_COUNT  223562.75  233425.0  \n"
     ]
    },
    {
     "data": {
      "image/png": "[encoded data removed]",
      "text/plain": [
       "<Figure size 432x288 with 1 Axes>"
      ]
     },
     "metadata": {
      "needs_background": "light"
     },
     "output_type": "display_data"
    }
   ],
   "source": [
    "crime_count_by_occ = crime_data.groupby(['YEAR_OCC']).size().reset_index(name='CRIME_COUNT')\n",
    "print(crime_count_by_occ.head(5))\n",
    "print(crime_count_by_occ.describe().T)\n",
    "\n",
    "\n",
    "# Create a bar plot\n",
    "plt.bar(crime_count_by_occ['YEAR_OCC'], crime_count_by_occ['CRIME_COUNT'])\n",
    "plt.xlabel('Year')\n",
    "plt.ylabel('Count of occurrence')\n",
    "plt.title('Yearly crime count')\n",
    "#plt.xticks(rotation=45)  # Rotate the x-axis labels for better readability if needed\n",
    "plt.show()\n"
   ]
  },
  {
   "cell_type": "markdown",
   "id": "3d724024",
   "metadata": {},
   "source": [
    "##### Since 2024 data is not for full year, only for 8 months data, the figure is incorrect. As for data consistancy, remove all 2024 crimes data.Hence, the final cleaned data range is from 2010 to 2022."
   ]
  },
  {
   "cell_type": "code",
   "execution_count": 24,
   "id": "78954e70",
   "metadata": {},
   "outputs": [],
   "source": [
    "crime_data = crime_data[crime_data['YEAR_OCC'] != 2024]"
   ]
  },
  {
   "cell_type": "markdown",
   "id": "66f4e732",
   "metadata": {},
   "source": [
    "##### What day of the week is the highest crime occurance ?"
   ]
  },
  {
   "cell_type": "markdown",
   "id": "3e6ff3b9",
   "metadata": {},
   "source": [
    "Friday is the highest occurance of crimes.However,the rest of the days are relatively similar in volumns. There is the significant difference."
   ]
  },
  {
   "cell_type": "code",
   "execution_count": 26,
   "id": "f9a2e787",
   "metadata": {},
   "outputs": [
    {
     "name": "stdout",
     "output_type": "stream",
     "text": [
      "  WEEKDAY_OCC  CRIME_COUNT\n",
      "0      Friday       439981\n",
      "1      Monday       408020\n",
      "2    Saturday       413875\n",
      "3      Sunday       396331\n",
      "4    Thursday       403980\n",
      "5     Tuesday       399071\n",
      "6   Wednesday       404640\n",
      "             count      mean          std       min       25%       50%  \\\n",
      "CRIME_COUNT    7.0  409414.0  14643.81107  396331.0  401525.5  404640.0   \n",
      "\n",
      "                  75%       max  \n",
      "CRIME_COUNT  410947.5  439981.0  \n"
     ]
    },
    {
     "data": {
      "image/png": "[encoded data removed]",
      "text/plain": [
       "<Figure size 432x288 with 1 Axes>"
      ]
     },
     "metadata": {
      "needs_background": "light"
     },
     "output_type": "display_data"
    }
   ],
   "source": [
    "crime_data.loc[:, 'WEEKDAY_OCC'] = crime_data['DATE_OCC'].dt.strftime('%A')\n",
    "\n",
    "\n",
    "crime_count_by_weekday = crime_data.groupby(['WEEKDAY_OCC']).size().reset_index(name='CRIME_COUNT')\n",
    "print(crime_count_by_weekday.head(7))\n",
    "print(crime_count_by_weekday.describe().T)\n",
    "\n",
    "\n",
    "# Create a bar plot\n",
    "plt.bar(crime_count_by_weekday['WEEKDAY_OCC'], crime_count_by_weekday['CRIME_COUNT'])\n",
    "plt.xlabel('Day of the Week')\n",
    "plt.ylabel('Count of occurrence')\n",
    "plt.title('What day of the week is the highest crime occurance ?')\n",
    "#plt.xticks(rotation=45)  # Rotate the x-axis labels for better readability if needed\n",
    "plt.show()\n"
   ]
  },
  {
   "cell_type": "markdown",
   "id": "a7c4b05d",
   "metadata": {},
   "source": [
    "## Save data for stastical data exploration( EDA)"
   ]
  },
  {
   "cell_type": "code",
   "execution_count": 27,
   "id": "723a9a23",
   "metadata": {},
   "outputs": [
    {
     "data": {
      "text/plain": [
       "(2865898, 31)"
      ]
     },
     "execution_count": 27,
     "metadata": {},
     "output_type": "execute_result"
    }
   ],
   "source": [
    "crime_data.shape"
   ]
  },
  {
   "cell_type": "code",
   "execution_count": 28,
   "id": "d4c32a01",
   "metadata": {},
   "outputs": [],
   "source": [
    "# Specify the file path where you want to save the CSV file\n",
    "file_path = \"../data/interim/\" + \"crime_data.csv\"\n",
    "\n",
    "# Save the DataFrame to a CSV file\n",
    "crime_data.to_csv(file_path, index=False)  # Set index=False to exclude the DataFrame index in the CSV file"
   ]
  },
  {
   "cell_type": "code",
   "execution_count": null,
   "id": "47eb6faf",
   "metadata": {},
   "outputs": [],
   "source": [
    "# Specify the file path where you want to save the CSV file\n",
    "file_path = \"../data/interim/\" + \"top_10_crime_data.csv\"\n",
    "\n",
    "# Save the DataFrame to a CSV file\n",
    "crime_data.to_csv(file_path, index=False)  # Set index=False to exclude the DataFrame index in the CSV file"
   ]
  }
 ],
 "metadata": {
  "kernelspec": {
   "display_name": "Python 3 (ipykernel)",
   "language": "python",
   "name": "python3"
  },
  "language_info": {
   "codemirror_mode": {
    "name": "ipython",
    "version": 3
   },
   "file_extension": ".py",
   "mimetype": "text/x-python",
   "name": "python",
   "nbconvert_exporter": "python",
   "pygments_lexer": "ipython3",
   "version": "3.9.7"
  }
 },
 "nbformat": 4,
 "nbformat_minor": 5
}
