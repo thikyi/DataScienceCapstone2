{
 "cells": [
  {
   "cell_type": "markdown",
   "id": "a3d256a5",
   "metadata": {},
   "source": [
    "# 3.Preprocessing and Training"
   ]
  },
  {
   "cell_type": "markdown",
   "id": "f41cad52",
   "metadata": {},
   "source": [
    "### Import Libaries"
   ]
  },
  {
   "cell_type": "code",
   "execution_count": 1,
   "id": "fa6ad588",
   "metadata": {},
   "outputs": [],
   "source": [
    "import pandas as pd\n",
    "import numpy as np\n",
    "import os\n",
    "import pickle\n",
    "import datetime\n",
    "import matplotlib.pyplot as plt\n",
    "import seaborn as sns\n",
    "from sklearn import __version__ as sklearn_version\n",
    "from sklearn.decomposition import PCA\n",
    "from sklearn.preprocessing import scale\n",
    "from sklearn.model_selection import train_test_split, cross_validate, GridSearchCV, learning_curve\n",
    "from sklearn.preprocessing import StandardScaler, MinMaxScaler,OneHotEncoder\n",
    "from sklearn.dummy import DummyRegressor\n",
    "from sklearn.linear_model import LinearRegression\n",
    "from sklearn.ensemble import RandomForestRegressor\n",
    "from sklearn.metrics import r2_score, mean_squared_error, mean_absolute_error\n",
    "from sklearn.pipeline import make_pipeline\n",
    "from sklearn.impute import SimpleImputer\n",
    "from sklearn.feature_selection import SelectKBest, f_regression"
   ]
  },
  {
   "cell_type": "markdown",
   "id": "93016c1e",
   "metadata": {},
   "source": [
    "### 1.Load Data"
   ]
  },
  {
   "cell_type": "code",
   "execution_count": 2,
   "id": "4e0fb93c",
   "metadata": {},
   "outputs": [],
   "source": [
    "datafilepath = \"../data/interim/top_10_crime_data.csv\"\n",
    "df_top10_crime = pd.read_csv(datafilepath,index_col =0)"
   ]
  },
  {
   "cell_type": "code",
   "execution_count": 3,
   "id": "87159bf9",
   "metadata": {},
   "outputs": [
    {
     "data": {
      "text/html": [
       "<div>\n",
       "<style scoped>\n",
       "    .dataframe tbody tr th:only-of-type {\n",
       "        vertical-align: middle;\n",
       "    }\n",
       "\n",
       "    .dataframe tbody tr th {\n",
       "        vertical-align: top;\n",
       "    }\n",
       "\n",
       "    .dataframe thead th {\n",
       "        text-align: right;\n",
       "    }\n",
       "</style>\n",
       "<table border=\"1\" class=\"dataframe\">\n",
       "  <thead>\n",
       "    <tr style=\"text-align: right;\">\n",
       "      <th></th>\n",
       "      <th>TIME_OCC</th>\n",
       "      <th>AREA</th>\n",
       "      <th>AREA_NAME</th>\n",
       "      <th>RPT_DIST_NO</th>\n",
       "      <th>PART_1-2</th>\n",
       "      <th>CRM_CD</th>\n",
       "      <th>CRM_CD_DESC</th>\n",
       "      <th>MOCODES</th>\n",
       "      <th>VICT_AGE</th>\n",
       "      <th>VICT_SEX</th>\n",
       "      <th>...</th>\n",
       "      <th>latitude</th>\n",
       "      <th>longitude</th>\n",
       "      <th>MTH_RPTD</th>\n",
       "      <th>DAY_RPTD</th>\n",
       "      <th>YEAR_RPTD</th>\n",
       "      <th>MTH_OCC</th>\n",
       "      <th>DAY_OCC</th>\n",
       "      <th>YEAR_OCC</th>\n",
       "      <th>ID</th>\n",
       "      <th>WEEKDAY_OCC</th>\n",
       "    </tr>\n",
       "    <tr>\n",
       "      <th>DATE_OCC</th>\n",
       "      <th></th>\n",
       "      <th></th>\n",
       "      <th></th>\n",
       "      <th></th>\n",
       "      <th></th>\n",
       "      <th></th>\n",
       "      <th></th>\n",
       "      <th></th>\n",
       "      <th></th>\n",
       "      <th></th>\n",
       "      <th></th>\n",
       "      <th></th>\n",
       "      <th></th>\n",
       "      <th></th>\n",
       "      <th></th>\n",
       "      <th></th>\n",
       "      <th></th>\n",
       "      <th></th>\n",
       "      <th></th>\n",
       "      <th></th>\n",
       "      <th></th>\n",
       "    </tr>\n",
       "  </thead>\n",
       "  <tbody>\n",
       "    <tr>\n",
       "      <th>2010-01-01</th>\n",
       "      <td>900</td>\n",
       "      <td>21</td>\n",
       "      <td>Topanga</td>\n",
       "      <td>2175</td>\n",
       "      <td>2</td>\n",
       "      <td>354</td>\n",
       "      <td>THEFT OF IDENTITY</td>\n",
       "      <td>0377</td>\n",
       "      <td>48</td>\n",
       "      <td>F</td>\n",
       "      <td>...</td>\n",
       "      <td>34.1720</td>\n",
       "      <td>-118.6084</td>\n",
       "      <td>7</td>\n",
       "      <td>31</td>\n",
       "      <td>2019</td>\n",
       "      <td>1</td>\n",
       "      <td>1</td>\n",
       "      <td>2010</td>\n",
       "      <td>1</td>\n",
       "      <td>Friday</td>\n",
       "    </tr>\n",
       "    <tr>\n",
       "      <th>2010-01-01</th>\n",
       "      <td>800</td>\n",
       "      <td>11</td>\n",
       "      <td>Northeast</td>\n",
       "      <td>1112</td>\n",
       "      <td>2</td>\n",
       "      <td>354</td>\n",
       "      <td>THEFT OF IDENTITY</td>\n",
       "      <td>NaN</td>\n",
       "      <td>55</td>\n",
       "      <td>F</td>\n",
       "      <td>...</td>\n",
       "      <td>34.1259</td>\n",
       "      <td>-118.2244</td>\n",
       "      <td>7</td>\n",
       "      <td>21</td>\n",
       "      <td>2011</td>\n",
       "      <td>1</td>\n",
       "      <td>1</td>\n",
       "      <td>2010</td>\n",
       "      <td>2</td>\n",
       "      <td>Friday</td>\n",
       "    </tr>\n",
       "    <tr>\n",
       "      <th>2010-01-01</th>\n",
       "      <td>10</td>\n",
       "      <td>20</td>\n",
       "      <td>Olympic</td>\n",
       "      <td>2002</td>\n",
       "      <td>2</td>\n",
       "      <td>354</td>\n",
       "      <td>THEFT OF IDENTITY</td>\n",
       "      <td>0100 1822 0917</td>\n",
       "      <td>42</td>\n",
       "      <td>M</td>\n",
       "      <td>...</td>\n",
       "      <td>34.0783</td>\n",
       "      <td>-118.3113</td>\n",
       "      <td>7</td>\n",
       "      <td>21</td>\n",
       "      <td>2014</td>\n",
       "      <td>1</td>\n",
       "      <td>1</td>\n",
       "      <td>2010</td>\n",
       "      <td>4</td>\n",
       "      <td>Friday</td>\n",
       "    </tr>\n",
       "  </tbody>\n",
       "</table>\n",
       "<p>3 rows × 29 columns</p>\n",
       "</div>"
      ],
      "text/plain": [
       "            TIME_OCC  AREA  AREA_NAME  RPT_DIST_NO  PART_1-2  CRM_CD  \\\n",
       "DATE_OCC                                                               \n",
       "2010-01-01       900    21    Topanga         2175         2     354   \n",
       "2010-01-01       800    11  Northeast         1112         2     354   \n",
       "2010-01-01        10    20    Olympic         2002         2     354   \n",
       "\n",
       "                  CRM_CD_DESC         MOCODES  VICT_AGE VICT_SEX  ...  \\\n",
       "DATE_OCC                                                          ...   \n",
       "2010-01-01  THEFT OF IDENTITY            0377        48        F  ...   \n",
       "2010-01-01  THEFT OF IDENTITY             NaN        55        F  ...   \n",
       "2010-01-01  THEFT OF IDENTITY  0100 1822 0917        42        M  ...   \n",
       "\n",
       "           latitude  longitude MTH_RPTD  DAY_RPTD YEAR_RPTD MTH_OCC DAY_OCC  \\\n",
       "DATE_OCC                                                                      \n",
       "2010-01-01  34.1720  -118.6084        7        31      2019       1       1   \n",
       "2010-01-01  34.1259  -118.2244        7        21      2011       1       1   \n",
       "2010-01-01  34.0783  -118.3113        7        21      2014       1       1   \n",
       "\n",
       "            YEAR_OCC ID  WEEKDAY_OCC  \n",
       "DATE_OCC                              \n",
       "2010-01-01      2010  1       Friday  \n",
       "2010-01-01      2010  2       Friday  \n",
       "2010-01-01      2010  4       Friday  \n",
       "\n",
       "[3 rows x 29 columns]"
      ]
     },
     "execution_count": 3,
     "metadata": {},
     "output_type": "execute_result"
    }
   ],
   "source": [
    "df_top10_crime.head(3)"
   ]
  },
  {
   "cell_type": "code",
   "execution_count": 4,
   "id": "e387b699",
   "metadata": {},
   "outputs": [
    {
     "name": "stdout",
     "output_type": "stream",
     "text": [
      "<class 'pandas.core.frame.DataFrame'>\n",
      "Index: 1816075 entries, 2010-01-01 to 2023-08-28\n",
      "Data columns (total 29 columns):\n",
      " #   Column          Dtype  \n",
      "---  ------          -----  \n",
      " 0   TIME_OCC        int64  \n",
      " 1   AREA            int64  \n",
      " 2   AREA_NAME       object \n",
      " 3   RPT_DIST_NO     int64  \n",
      " 4   PART_1-2        int64  \n",
      " 5   CRM_CD          int64  \n",
      " 6   CRM_CD_DESC     object \n",
      " 7   MOCODES         object \n",
      " 8   VICT_AGE        int64  \n",
      " 9   VICT_SEX        object \n",
      " 10  VICT_DESCENT    object \n",
      " 11  PREMIS_CD       float64\n",
      " 12  PREMIS_DESC     object \n",
      " 13  WEAPON_USED_CD  float64\n",
      " 14  WEAPON_DESC     object \n",
      " 15  STATUS          object \n",
      " 16  STATUS_DESC     object \n",
      " 17  CRM_CD_1        float64\n",
      " 18  LOCATION        object \n",
      " 19  latitude        float64\n",
      " 20  longitude       float64\n",
      " 21  MTH_RPTD        int64  \n",
      " 22  DAY_RPTD        int64  \n",
      " 23  YEAR_RPTD       int64  \n",
      " 24  MTH_OCC         int64  \n",
      " 25  DAY_OCC         int64  \n",
      " 26  YEAR_OCC        int64  \n",
      " 27  ID              int64  \n",
      " 28  WEEKDAY_OCC     object \n",
      "dtypes: float64(5), int64(13), object(11)\n",
      "memory usage: 415.7+ MB\n"
     ]
    }
   ],
   "source": [
    "df_top10_crime.info()"
   ]
  },
  {
   "cell_type": "code",
   "execution_count": 5,
   "id": "01a36a9b",
   "metadata": {},
   "outputs": [
    {
     "data": {
      "text/html": [
       "<div>\n",
       "<style scoped>\n",
       "    .dataframe tbody tr th:only-of-type {\n",
       "        vertical-align: middle;\n",
       "    }\n",
       "\n",
       "    .dataframe tbody tr th {\n",
       "        vertical-align: top;\n",
       "    }\n",
       "\n",
       "    .dataframe thead th {\n",
       "        text-align: right;\n",
       "    }\n",
       "</style>\n",
       "<table border=\"1\" class=\"dataframe\">\n",
       "  <thead>\n",
       "    <tr style=\"text-align: right;\">\n",
       "      <th></th>\n",
       "      <th>TIME_OCC</th>\n",
       "      <th>AREA</th>\n",
       "      <th>RPT_DIST_NO</th>\n",
       "      <th>PART_1-2</th>\n",
       "      <th>CRM_CD</th>\n",
       "      <th>VICT_AGE</th>\n",
       "      <th>PREMIS_CD</th>\n",
       "      <th>WEAPON_USED_CD</th>\n",
       "      <th>CRM_CD_1</th>\n",
       "      <th>latitude</th>\n",
       "      <th>longitude</th>\n",
       "      <th>MTH_RPTD</th>\n",
       "      <th>DAY_RPTD</th>\n",
       "      <th>YEAR_RPTD</th>\n",
       "      <th>MTH_OCC</th>\n",
       "      <th>DAY_OCC</th>\n",
       "      <th>YEAR_OCC</th>\n",
       "      <th>ID</th>\n",
       "    </tr>\n",
       "  </thead>\n",
       "  <tbody>\n",
       "    <tr>\n",
       "      <th>count</th>\n",
       "      <td>1.816075e+06</td>\n",
       "      <td>1.816075e+06</td>\n",
       "      <td>1.816075e+06</td>\n",
       "      <td>1.816075e+06</td>\n",
       "      <td>1.816075e+06</td>\n",
       "      <td>1.816075e+06</td>\n",
       "      <td>1.816051e+06</td>\n",
       "      <td>576514.000000</td>\n",
       "      <td>1.816075e+06</td>\n",
       "      <td>1.816075e+06</td>\n",
       "      <td>1.816075e+06</td>\n",
       "      <td>1.816075e+06</td>\n",
       "      <td>1.816075e+06</td>\n",
       "      <td>1.816075e+06</td>\n",
       "      <td>1.816075e+06</td>\n",
       "      <td>1.816075e+06</td>\n",
       "      <td>1.816075e+06</td>\n",
       "      <td>1.816075e+06</td>\n",
       "    </tr>\n",
       "    <tr>\n",
       "      <th>mean</th>\n",
       "      <td>1.356450e+03</td>\n",
       "      <td>1.093247e+01</td>\n",
       "      <td>1.139489e+03</td>\n",
       "      <td>1.403777e+00</td>\n",
       "      <td>4.640763e+02</td>\n",
       "      <td>3.104446e+01</td>\n",
       "      <td>2.962443e+02</td>\n",
       "      <td>373.920937</td>\n",
       "      <td>4.640622e+02</td>\n",
       "      <td>3.404857e+01</td>\n",
       "      <td>-1.182588e+02</td>\n",
       "      <td>6.435592e+00</td>\n",
       "      <td>1.571329e+01</td>\n",
       "      <td>2.016514e+03</td>\n",
       "      <td>6.423014e+00</td>\n",
       "      <td>1.545008e+01</td>\n",
       "      <td>2.016469e+03</td>\n",
       "      <td>1.426282e+06</td>\n",
       "    </tr>\n",
       "    <tr>\n",
       "      <th>std</th>\n",
       "      <td>6.583391e+02</td>\n",
       "      <td>5.975726e+00</td>\n",
       "      <td>5.974912e+02</td>\n",
       "      <td>4.906539e-01</td>\n",
       "      <td>1.502626e+02</td>\n",
       "      <td>2.126195e+01</td>\n",
       "      <td>2.141138e+02</td>\n",
       "      <td>97.766544</td>\n",
       "      <td>1.502647e+02</td>\n",
       "      <td>9.863565e-01</td>\n",
       "      <td>3.403985e+00</td>\n",
       "      <td>3.407404e+00</td>\n",
       "      <td>8.812746e+00</td>\n",
       "      <td>3.940847e+00</td>\n",
       "      <td>3.419783e+00</td>\n",
       "      <td>8.930076e+00</td>\n",
       "      <td>3.942006e+00</td>\n",
       "      <td>8.260731e+05</td>\n",
       "    </tr>\n",
       "    <tr>\n",
       "      <th>min</th>\n",
       "      <td>1.000000e+00</td>\n",
       "      <td>1.000000e+00</td>\n",
       "      <td>1.000000e+02</td>\n",
       "      <td>1.000000e+00</td>\n",
       "      <td>2.300000e+02</td>\n",
       "      <td>-1.200000e+01</td>\n",
       "      <td>1.010000e+02</td>\n",
       "      <td>101.000000</td>\n",
       "      <td>-1.000000e+00</td>\n",
       "      <td>0.000000e+00</td>\n",
       "      <td>-1.188279e+02</td>\n",
       "      <td>1.000000e+00</td>\n",
       "      <td>1.000000e+00</td>\n",
       "      <td>2.010000e+03</td>\n",
       "      <td>1.000000e+00</td>\n",
       "      <td>1.000000e+00</td>\n",
       "      <td>2.010000e+03</td>\n",
       "      <td>1.000000e+00</td>\n",
       "    </tr>\n",
       "    <tr>\n",
       "      <th>25%</th>\n",
       "      <td>9.000000e+02</td>\n",
       "      <td>6.000000e+00</td>\n",
       "      <td>6.360000e+02</td>\n",
       "      <td>1.000000e+00</td>\n",
       "      <td>3.300000e+02</td>\n",
       "      <td>1.900000e+01</td>\n",
       "      <td>1.010000e+02</td>\n",
       "      <td>400.000000</td>\n",
       "      <td>3.300000e+02</td>\n",
       "      <td>3.401090e+01</td>\n",
       "      <td>-1.184334e+02</td>\n",
       "      <td>4.000000e+00</td>\n",
       "      <td>8.000000e+00</td>\n",
       "      <td>2.013000e+03</td>\n",
       "      <td>3.000000e+00</td>\n",
       "      <td>8.000000e+00</td>\n",
       "      <td>2.013000e+03</td>\n",
       "      <td>7.096875e+05</td>\n",
       "    </tr>\n",
       "    <tr>\n",
       "      <th>50%</th>\n",
       "      <td>1.430000e+03</td>\n",
       "      <td>1.100000e+01</td>\n",
       "      <td>1.169000e+03</td>\n",
       "      <td>1.000000e+00</td>\n",
       "      <td>4.400000e+02</td>\n",
       "      <td>3.100000e+01</td>\n",
       "      <td>2.030000e+02</td>\n",
       "      <td>400.000000</td>\n",
       "      <td>4.400000e+02</td>\n",
       "      <td>3.406170e+01</td>\n",
       "      <td>-1.183267e+02</td>\n",
       "      <td>6.000000e+00</td>\n",
       "      <td>1.600000e+01</td>\n",
       "      <td>2.017000e+03</td>\n",
       "      <td>6.000000e+00</td>\n",
       "      <td>1.500000e+01</td>\n",
       "      <td>2.017000e+03</td>\n",
       "      <td>1.418445e+06</td>\n",
       "    </tr>\n",
       "    <tr>\n",
       "      <th>75%</th>\n",
       "      <td>1.900000e+03</td>\n",
       "      <td>1.600000e+01</td>\n",
       "      <td>1.641000e+03</td>\n",
       "      <td>2.000000e+00</td>\n",
       "      <td>6.240000e+02</td>\n",
       "      <td>4.600000e+01</td>\n",
       "      <td>5.010000e+02</td>\n",
       "      <td>400.000000</td>\n",
       "      <td>6.240000e+02</td>\n",
       "      <td>3.417210e+01</td>\n",
       "      <td>-1.182761e+02</td>\n",
       "      <td>9.000000e+00</td>\n",
       "      <td>2.300000e+01</td>\n",
       "      <td>2.020000e+03</td>\n",
       "      <td>9.000000e+00</td>\n",
       "      <td>2.300000e+01</td>\n",
       "      <td>2.020000e+03</td>\n",
       "      <td>2.147369e+06</td>\n",
       "    </tr>\n",
       "    <tr>\n",
       "      <th>max</th>\n",
       "      <td>2.359000e+03</td>\n",
       "      <td>2.100000e+01</td>\n",
       "      <td>2.199000e+03</td>\n",
       "      <td>2.000000e+00</td>\n",
       "      <td>7.400000e+02</td>\n",
       "      <td>1.200000e+02</td>\n",
       "      <td>9.730000e+02</td>\n",
       "      <td>516.000000</td>\n",
       "      <td>9.990000e+02</td>\n",
       "      <td>3.479070e+01</td>\n",
       "      <td>0.000000e+00</td>\n",
       "      <td>1.200000e+01</td>\n",
       "      <td>3.100000e+01</td>\n",
       "      <td>2.023000e+03</td>\n",
       "      <td>1.200000e+01</td>\n",
       "      <td>3.100000e+01</td>\n",
       "      <td>2.023000e+03</td>\n",
       "      <td>2.865898e+06</td>\n",
       "    </tr>\n",
       "  </tbody>\n",
       "</table>\n",
       "</div>"
      ],
      "text/plain": [
       "           TIME_OCC          AREA   RPT_DIST_NO      PART_1-2        CRM_CD  \\\n",
       "count  1.816075e+06  1.816075e+06  1.816075e+06  1.816075e+06  1.816075e+06   \n",
       "mean   1.356450e+03  1.093247e+01  1.139489e+03  1.403777e+00  4.640763e+02   \n",
       "std    6.583391e+02  5.975726e+00  5.974912e+02  4.906539e-01  1.502626e+02   \n",
       "min    1.000000e+00  1.000000e+00  1.000000e+02  1.000000e+00  2.300000e+02   \n",
       "25%    9.000000e+02  6.000000e+00  6.360000e+02  1.000000e+00  3.300000e+02   \n",
       "50%    1.430000e+03  1.100000e+01  1.169000e+03  1.000000e+00  4.400000e+02   \n",
       "75%    1.900000e+03  1.600000e+01  1.641000e+03  2.000000e+00  6.240000e+02   \n",
       "max    2.359000e+03  2.100000e+01  2.199000e+03  2.000000e+00  7.400000e+02   \n",
       "\n",
       "           VICT_AGE     PREMIS_CD  WEAPON_USED_CD      CRM_CD_1      latitude  \\\n",
       "count  1.816075e+06  1.816051e+06   576514.000000  1.816075e+06  1.816075e+06   \n",
       "mean   3.104446e+01  2.962443e+02      373.920937  4.640622e+02  3.404857e+01   \n",
       "std    2.126195e+01  2.141138e+02       97.766544  1.502647e+02  9.863565e-01   \n",
       "min   -1.200000e+01  1.010000e+02      101.000000 -1.000000e+00  0.000000e+00   \n",
       "25%    1.900000e+01  1.010000e+02      400.000000  3.300000e+02  3.401090e+01   \n",
       "50%    3.100000e+01  2.030000e+02      400.000000  4.400000e+02  3.406170e+01   \n",
       "75%    4.600000e+01  5.010000e+02      400.000000  6.240000e+02  3.417210e+01   \n",
       "max    1.200000e+02  9.730000e+02      516.000000  9.990000e+02  3.479070e+01   \n",
       "\n",
       "          longitude      MTH_RPTD      DAY_RPTD     YEAR_RPTD       MTH_OCC  \\\n",
       "count  1.816075e+06  1.816075e+06  1.816075e+06  1.816075e+06  1.816075e+06   \n",
       "mean  -1.182588e+02  6.435592e+00  1.571329e+01  2.016514e+03  6.423014e+00   \n",
       "std    3.403985e+00  3.407404e+00  8.812746e+00  3.940847e+00  3.419783e+00   \n",
       "min   -1.188279e+02  1.000000e+00  1.000000e+00  2.010000e+03  1.000000e+00   \n",
       "25%   -1.184334e+02  4.000000e+00  8.000000e+00  2.013000e+03  3.000000e+00   \n",
       "50%   -1.183267e+02  6.000000e+00  1.600000e+01  2.017000e+03  6.000000e+00   \n",
       "75%   -1.182761e+02  9.000000e+00  2.300000e+01  2.020000e+03  9.000000e+00   \n",
       "max    0.000000e+00  1.200000e+01  3.100000e+01  2.023000e+03  1.200000e+01   \n",
       "\n",
       "            DAY_OCC      YEAR_OCC            ID  \n",
       "count  1.816075e+06  1.816075e+06  1.816075e+06  \n",
       "mean   1.545008e+01  2.016469e+03  1.426282e+06  \n",
       "std    8.930076e+00  3.942006e+00  8.260731e+05  \n",
       "min    1.000000e+00  2.010000e+03  1.000000e+00  \n",
       "25%    8.000000e+00  2.013000e+03  7.096875e+05  \n",
       "50%    1.500000e+01  2.017000e+03  1.418445e+06  \n",
       "75%    2.300000e+01  2.020000e+03  2.147369e+06  \n",
       "max    3.100000e+01  2.023000e+03  2.865898e+06  "
      ]
     },
     "execution_count": 5,
     "metadata": {},
     "output_type": "execute_result"
    }
   ],
   "source": [
    "df_top10_crime.describe()"
   ]
  },
  {
   "cell_type": "code",
   "execution_count": 6,
   "id": "ecf9be2e",
   "metadata": {},
   "outputs": [
    {
     "data": {
      "text/plain": [
       "(1816075, 29)"
      ]
     },
     "execution_count": 6,
     "metadata": {},
     "output_type": "execute_result"
    }
   ],
   "source": [
    "df_top10_crime.shape"
   ]
  },
  {
   "cell_type": "markdown",
   "id": "053a96b0",
   "metadata": {},
   "source": [
    "### 2.Identify and convert categorical variables into dummy/indicator features."
   ]
  },
  {
   "cell_type": "code",
   "execution_count": 7,
   "id": "0087a4c6",
   "metadata": {
    "scrolled": false
   },
   "outputs": [
    {
     "name": "stdout",
     "output_type": "stream",
     "text": [
      "['AREA_NAME', 'CRM_CD_DESC', 'MOCODES', 'VICT_SEX', 'VICT_DESCENT', 'PREMIS_DESC', 'WEAPON_DESC', 'STATUS', 'STATUS_DESC', 'LOCATION', 'WEEKDAY_OCC']\n"
     ]
    }
   ],
   "source": [
    "# Identify categorical columns to convert to dummy variables\n",
    "categorical_cols = df_top10_crime.select_dtypes(include=['object', 'category', 'bool']).columns.tolist()\n",
    "print(categorical_cols)"
   ]
  },
  {
   "cell_type": "markdown",
   "id": "852c6ae5",
   "metadata": {},
   "source": [
    "<p>After re-looking the columns list.I decided to remove the unnessary columns before encoding ('MOCODES','VICT_DESCENT', 'PREMIS_DESC', 'WEAPON_DESC', 'STATUS', 'STATUS_DESC')  Since modeling will be focus on  'AREA_NAME', 'CRM_CD_DESC','WEEKDAY_OCC'.</p> </br>\n",
    "<p>ID column will be also removed and reinstate after cleaning duplicate.</p>"
   ]
  },
  {
   "cell_type": "code",
   "execution_count": 8,
   "id": "cf9a0105",
   "metadata": {},
   "outputs": [],
   "source": [
    "columns_to_drop = ['ID','MOCODES','VICT_DESCENT', 'PREMIS_DESC', 'WEAPON_DESC', 'STATUS', 'STATUS_DESC','LOCATION']\n",
    "df_top10_crime.drop(columns=columns_to_drop, axis=1, inplace=True)"
   ]
  },
  {
   "cell_type": "code",
   "execution_count": 9,
   "id": "d4586fb9",
   "metadata": {},
   "outputs": [
    {
     "name": "stdout",
     "output_type": "stream",
     "text": [
      "['AREA_NAME', 'CRM_CD_DESC', 'VICT_SEX', 'WEEKDAY_OCC']\n"
     ]
    }
   ],
   "source": [
    "categorical_cols = df_top10_crime.select_dtypes(include=['object', 'category', 'bool']).columns.tolist()\n",
    "print(categorical_cols)"
   ]
  },
  {
   "cell_type": "markdown",
   "id": "5bee9cdb",
   "metadata": {},
   "source": [
    "Categorical columns are converted to string type for consistency before applying one-hot encoding."
   ]
  },
  {
   "cell_type": "code",
   "execution_count": 10,
   "id": "94a5467c",
   "metadata": {},
   "outputs": [],
   "source": [
    "# Convert all categorical columns to strings to ensure consistency\n",
    "df_top10_crime[categorical_cols] = df_top10_crime[categorical_cols].astype(str)\n"
   ]
  },
  {
   "cell_type": "code",
   "execution_count": 11,
   "id": "ffed6cfa",
   "metadata": {
    "scrolled": true
   },
   "outputs": [
    {
     "name": "stdout",
     "output_type": "stream",
     "text": [
      "<class 'pandas.core.frame.DataFrame'>\n",
      "Index: 1816075 entries, 2010-01-01 to 2023-08-28\n",
      "Data columns (total 21 columns):\n",
      " #   Column          Dtype  \n",
      "---  ------          -----  \n",
      " 0   TIME_OCC        int64  \n",
      " 1   AREA            int64  \n",
      " 2   AREA_NAME       object \n",
      " 3   RPT_DIST_NO     int64  \n",
      " 4   PART_1-2        int64  \n",
      " 5   CRM_CD          int64  \n",
      " 6   CRM_CD_DESC     object \n",
      " 7   VICT_AGE        int64  \n",
      " 8   VICT_SEX        object \n",
      " 9   PREMIS_CD       float64\n",
      " 10  WEAPON_USED_CD  float64\n",
      " 11  CRM_CD_1        float64\n",
      " 12  latitude        float64\n",
      " 13  longitude       float64\n",
      " 14  MTH_RPTD        int64  \n",
      " 15  DAY_RPTD        int64  \n",
      " 16  YEAR_RPTD       int64  \n",
      " 17  MTH_OCC         int64  \n",
      " 18  DAY_OCC         int64  \n",
      " 19  YEAR_OCC        int64  \n",
      " 20  WEEKDAY_OCC     object \n",
      "dtypes: float64(5), int64(12), object(4)\n",
      "memory usage: 304.8+ MB\n"
     ]
    }
   ],
   "source": [
    "df_top10_crime.info()"
   ]
  },
  {
   "cell_type": "markdown",
   "id": "2e111b37",
   "metadata": {},
   "source": [
    "<p>Check if there is any duplicate records after removing raw data unique IDs .</p>"
   ]
  },
  {
   "cell_type": "code",
   "execution_count": 12,
   "id": "ffdcb6af",
   "metadata": {},
   "outputs": [],
   "source": [
    "#Remove dupliate and keep as new cleaned dataframes\n",
    "df_top10_crime= df_top10_crime.drop_duplicates(keep='last')"
   ]
  },
  {
   "cell_type": "code",
   "execution_count": 13,
   "id": "c87d02e6",
   "metadata": {},
   "outputs": [
    {
     "data": {
      "text/plain": [
       "(1813555, 21)"
      ]
     },
     "execution_count": 13,
     "metadata": {},
     "output_type": "execute_result"
    }
   ],
   "source": [
    "df_top10_crime.shape"
   ]
  },
  {
   "cell_type": "markdown",
   "id": "72830fac",
   "metadata": {},
   "source": [
    "<p>Add ID sort by index</p>"
   ]
  },
  {
   "cell_type": "code",
   "execution_count": 14,
   "id": "7aba4262",
   "metadata": {},
   "outputs": [],
   "source": [
    "# Sort DataFrame by date column\n",
    "df_top10_crime = df_top10_crime.sort_values(by='DATE_OCC')\n",
    "\n",
    "# Reset index if needed\n",
    "df_top10_crime = df_top10_crime.reset_index(drop=True)\n",
    "\n",
    "# Add index+1 as ID column\n",
    "df_top10_crime['ID'] = df_top10_crime.index + 1"
   ]
  },
  {
   "cell_type": "markdown",
   "id": "6862c7d8",
   "metadata": {},
   "source": [
    "One-hot encoding is applied, transforming categorical variables into a set of binary columns, each representing a category's presence or absence."
   ]
  },
  {
   "cell_type": "code",
   "execution_count": 15,
   "id": "454a66b1",
   "metadata": {},
   "outputs": [],
   "source": [
    "# Apply one-hot encoding to categorical variables\n",
    "ohe = OneHotEncoder(sparse=False, handle_unknown='ignore')\n",
    "df_dummies = pd.DataFrame(ohe.fit_transform(df_top10_crime[categorical_cols]), columns=ohe.get_feature_names(categorical_cols))"
   ]
  },
  {
   "cell_type": "code",
   "execution_count": 16,
   "id": "d30ae5d9",
   "metadata": {},
   "outputs": [
    {
     "data": {
      "text/html": [
       "<div>\n",
       "<style scoped>\n",
       "    .dataframe tbody tr th:only-of-type {\n",
       "        vertical-align: middle;\n",
       "    }\n",
       "\n",
       "    .dataframe tbody tr th {\n",
       "        vertical-align: top;\n",
       "    }\n",
       "\n",
       "    .dataframe thead th {\n",
       "        text-align: right;\n",
       "    }\n",
       "</style>\n",
       "<table border=\"1\" class=\"dataframe\">\n",
       "  <thead>\n",
       "    <tr style=\"text-align: right;\">\n",
       "      <th></th>\n",
       "      <th>AREA_NAME_77th Street</th>\n",
       "      <th>AREA_NAME_Central</th>\n",
       "      <th>AREA_NAME_Devonshire</th>\n",
       "      <th>AREA_NAME_Foothill</th>\n",
       "      <th>AREA_NAME_Harbor</th>\n",
       "      <th>AREA_NAME_Hollenbeck</th>\n",
       "      <th>AREA_NAME_Hollywood</th>\n",
       "      <th>AREA_NAME_Mission</th>\n",
       "      <th>AREA_NAME_N Hollywood</th>\n",
       "      <th>AREA_NAME_Newton</th>\n",
       "      <th>...</th>\n",
       "      <th>VICT_SEX_N</th>\n",
       "      <th>VICT_SEX_Unknown</th>\n",
       "      <th>VICT_SEX_X</th>\n",
       "      <th>WEEKDAY_OCC_Friday</th>\n",
       "      <th>WEEKDAY_OCC_Monday</th>\n",
       "      <th>WEEKDAY_OCC_Saturday</th>\n",
       "      <th>WEEKDAY_OCC_Sunday</th>\n",
       "      <th>WEEKDAY_OCC_Thursday</th>\n",
       "      <th>WEEKDAY_OCC_Tuesday</th>\n",
       "      <th>WEEKDAY_OCC_Wednesday</th>\n",
       "    </tr>\n",
       "  </thead>\n",
       "  <tbody>\n",
       "    <tr>\n",
       "      <th>0</th>\n",
       "      <td>0.0</td>\n",
       "      <td>0.0</td>\n",
       "      <td>0.0</td>\n",
       "      <td>0.0</td>\n",
       "      <td>0.0</td>\n",
       "      <td>0.0</td>\n",
       "      <td>0.0</td>\n",
       "      <td>0.0</td>\n",
       "      <td>0.0</td>\n",
       "      <td>0.0</td>\n",
       "      <td>...</td>\n",
       "      <td>0.0</td>\n",
       "      <td>0.0</td>\n",
       "      <td>0.0</td>\n",
       "      <td>1.0</td>\n",
       "      <td>0.0</td>\n",
       "      <td>0.0</td>\n",
       "      <td>0.0</td>\n",
       "      <td>0.0</td>\n",
       "      <td>0.0</td>\n",
       "      <td>0.0</td>\n",
       "    </tr>\n",
       "    <tr>\n",
       "      <th>1</th>\n",
       "      <td>0.0</td>\n",
       "      <td>0.0</td>\n",
       "      <td>0.0</td>\n",
       "      <td>0.0</td>\n",
       "      <td>0.0</td>\n",
       "      <td>0.0</td>\n",
       "      <td>0.0</td>\n",
       "      <td>0.0</td>\n",
       "      <td>0.0</td>\n",
       "      <td>0.0</td>\n",
       "      <td>...</td>\n",
       "      <td>0.0</td>\n",
       "      <td>0.0</td>\n",
       "      <td>0.0</td>\n",
       "      <td>1.0</td>\n",
       "      <td>0.0</td>\n",
       "      <td>0.0</td>\n",
       "      <td>0.0</td>\n",
       "      <td>0.0</td>\n",
       "      <td>0.0</td>\n",
       "      <td>0.0</td>\n",
       "    </tr>\n",
       "    <tr>\n",
       "      <th>2</th>\n",
       "      <td>0.0</td>\n",
       "      <td>1.0</td>\n",
       "      <td>0.0</td>\n",
       "      <td>0.0</td>\n",
       "      <td>0.0</td>\n",
       "      <td>0.0</td>\n",
       "      <td>0.0</td>\n",
       "      <td>0.0</td>\n",
       "      <td>0.0</td>\n",
       "      <td>0.0</td>\n",
       "      <td>...</td>\n",
       "      <td>0.0</td>\n",
       "      <td>0.0</td>\n",
       "      <td>0.0</td>\n",
       "      <td>1.0</td>\n",
       "      <td>0.0</td>\n",
       "      <td>0.0</td>\n",
       "      <td>0.0</td>\n",
       "      <td>0.0</td>\n",
       "      <td>0.0</td>\n",
       "      <td>0.0</td>\n",
       "    </tr>\n",
       "    <tr>\n",
       "      <th>3</th>\n",
       "      <td>0.0</td>\n",
       "      <td>0.0</td>\n",
       "      <td>0.0</td>\n",
       "      <td>1.0</td>\n",
       "      <td>0.0</td>\n",
       "      <td>0.0</td>\n",
       "      <td>0.0</td>\n",
       "      <td>0.0</td>\n",
       "      <td>0.0</td>\n",
       "      <td>0.0</td>\n",
       "      <td>...</td>\n",
       "      <td>0.0</td>\n",
       "      <td>0.0</td>\n",
       "      <td>0.0</td>\n",
       "      <td>1.0</td>\n",
       "      <td>0.0</td>\n",
       "      <td>0.0</td>\n",
       "      <td>0.0</td>\n",
       "      <td>0.0</td>\n",
       "      <td>0.0</td>\n",
       "      <td>0.0</td>\n",
       "    </tr>\n",
       "    <tr>\n",
       "      <th>4</th>\n",
       "      <td>0.0</td>\n",
       "      <td>0.0</td>\n",
       "      <td>0.0</td>\n",
       "      <td>0.0</td>\n",
       "      <td>1.0</td>\n",
       "      <td>0.0</td>\n",
       "      <td>0.0</td>\n",
       "      <td>0.0</td>\n",
       "      <td>0.0</td>\n",
       "      <td>0.0</td>\n",
       "      <td>...</td>\n",
       "      <td>0.0</td>\n",
       "      <td>0.0</td>\n",
       "      <td>0.0</td>\n",
       "      <td>1.0</td>\n",
       "      <td>0.0</td>\n",
       "      <td>0.0</td>\n",
       "      <td>0.0</td>\n",
       "      <td>0.0</td>\n",
       "      <td>0.0</td>\n",
       "      <td>0.0</td>\n",
       "    </tr>\n",
       "  </tbody>\n",
       "</table>\n",
       "<p>5 rows × 45 columns</p>\n",
       "</div>"
      ],
      "text/plain": [
       "   AREA_NAME_77th Street  AREA_NAME_Central  AREA_NAME_Devonshire  \\\n",
       "0                    0.0                0.0                   0.0   \n",
       "1                    0.0                0.0                   0.0   \n",
       "2                    0.0                1.0                   0.0   \n",
       "3                    0.0                0.0                   0.0   \n",
       "4                    0.0                0.0                   0.0   \n",
       "\n",
       "   AREA_NAME_Foothill  AREA_NAME_Harbor  AREA_NAME_Hollenbeck  \\\n",
       "0                 0.0               0.0                   0.0   \n",
       "1                 0.0               0.0                   0.0   \n",
       "2                 0.0               0.0                   0.0   \n",
       "3                 1.0               0.0                   0.0   \n",
       "4                 0.0               1.0                   0.0   \n",
       "\n",
       "   AREA_NAME_Hollywood  AREA_NAME_Mission  AREA_NAME_N Hollywood  \\\n",
       "0                  0.0                0.0                    0.0   \n",
       "1                  0.0                0.0                    0.0   \n",
       "2                  0.0                0.0                    0.0   \n",
       "3                  0.0                0.0                    0.0   \n",
       "4                  0.0                0.0                    0.0   \n",
       "\n",
       "   AREA_NAME_Newton  ...  VICT_SEX_N  VICT_SEX_Unknown  VICT_SEX_X  \\\n",
       "0               0.0  ...         0.0               0.0         0.0   \n",
       "1               0.0  ...         0.0               0.0         0.0   \n",
       "2               0.0  ...         0.0               0.0         0.0   \n",
       "3               0.0  ...         0.0               0.0         0.0   \n",
       "4               0.0  ...         0.0               0.0         0.0   \n",
       "\n",
       "   WEEKDAY_OCC_Friday  WEEKDAY_OCC_Monday  WEEKDAY_OCC_Saturday  \\\n",
       "0                 1.0                 0.0                   0.0   \n",
       "1                 1.0                 0.0                   0.0   \n",
       "2                 1.0                 0.0                   0.0   \n",
       "3                 1.0                 0.0                   0.0   \n",
       "4                 1.0                 0.0                   0.0   \n",
       "\n",
       "   WEEKDAY_OCC_Sunday  WEEKDAY_OCC_Thursday  WEEKDAY_OCC_Tuesday  \\\n",
       "0                 0.0                   0.0                  0.0   \n",
       "1                 0.0                   0.0                  0.0   \n",
       "2                 0.0                   0.0                  0.0   \n",
       "3                 0.0                   0.0                  0.0   \n",
       "4                 0.0                   0.0                  0.0   \n",
       "\n",
       "   WEEKDAY_OCC_Wednesday  \n",
       "0                    0.0  \n",
       "1                    0.0  \n",
       "2                    0.0  \n",
       "3                    0.0  \n",
       "4                    0.0  \n",
       "\n",
       "[5 rows x 45 columns]"
      ]
     },
     "execution_count": 16,
     "metadata": {},
     "output_type": "execute_result"
    }
   ],
   "source": [
    "df_dummies.head(5)"
   ]
  },
  {
   "cell_type": "code",
   "execution_count": 17,
   "id": "c95ec440",
   "metadata": {},
   "outputs": [],
   "source": [
    "# Drop the original categorical columns and concatenate the new dummy variables\n",
    "df_top10_crime = df_top10_crime.drop(categorical_cols, axis=1)\n",
    "df_top10_crime = pd.concat([df_top10_crime, df_dummies], axis=1)"
   ]
  },
  {
   "cell_type": "code",
   "execution_count": 18,
   "id": "15604a61",
   "metadata": {},
   "outputs": [
    {
     "data": {
      "text/plain": [
       "(1813555, 63)"
      ]
     },
     "execution_count": 18,
     "metadata": {},
     "output_type": "execute_result"
    }
   ],
   "source": [
    "df_top10_crime.shape"
   ]
  },
  {
   "cell_type": "code",
   "execution_count": 19,
   "id": "5975e610",
   "metadata": {},
   "outputs": [
    {
     "data": {
      "text/html": [
       "<div>\n",
       "<style scoped>\n",
       "    .dataframe tbody tr th:only-of-type {\n",
       "        vertical-align: middle;\n",
       "    }\n",
       "\n",
       "    .dataframe tbody tr th {\n",
       "        vertical-align: top;\n",
       "    }\n",
       "\n",
       "    .dataframe thead th {\n",
       "        text-align: right;\n",
       "    }\n",
       "</style>\n",
       "<table border=\"1\" class=\"dataframe\">\n",
       "  <thead>\n",
       "    <tr style=\"text-align: right;\">\n",
       "      <th></th>\n",
       "      <th>TIME_OCC</th>\n",
       "      <th>AREA</th>\n",
       "      <th>RPT_DIST_NO</th>\n",
       "      <th>PART_1-2</th>\n",
       "      <th>CRM_CD</th>\n",
       "      <th>VICT_AGE</th>\n",
       "      <th>PREMIS_CD</th>\n",
       "      <th>WEAPON_USED_CD</th>\n",
       "      <th>CRM_CD_1</th>\n",
       "      <th>latitude</th>\n",
       "      <th>...</th>\n",
       "      <th>VICT_SEX_N</th>\n",
       "      <th>VICT_SEX_Unknown</th>\n",
       "      <th>VICT_SEX_X</th>\n",
       "      <th>WEEKDAY_OCC_Friday</th>\n",
       "      <th>WEEKDAY_OCC_Monday</th>\n",
       "      <th>WEEKDAY_OCC_Saturday</th>\n",
       "      <th>WEEKDAY_OCC_Sunday</th>\n",
       "      <th>WEEKDAY_OCC_Thursday</th>\n",
       "      <th>WEEKDAY_OCC_Tuesday</th>\n",
       "      <th>WEEKDAY_OCC_Wednesday</th>\n",
       "    </tr>\n",
       "  </thead>\n",
       "  <tbody>\n",
       "    <tr>\n",
       "      <th>0</th>\n",
       "      <td>900</td>\n",
       "      <td>21</td>\n",
       "      <td>2175</td>\n",
       "      <td>2</td>\n",
       "      <td>354</td>\n",
       "      <td>48</td>\n",
       "      <td>502.0</td>\n",
       "      <td>NaN</td>\n",
       "      <td>354.0</td>\n",
       "      <td>34.1720</td>\n",
       "      <td>...</td>\n",
       "      <td>0.0</td>\n",
       "      <td>0.0</td>\n",
       "      <td>0.0</td>\n",
       "      <td>1.0</td>\n",
       "      <td>0.0</td>\n",
       "      <td>0.0</td>\n",
       "      <td>0.0</td>\n",
       "      <td>0.0</td>\n",
       "      <td>0.0</td>\n",
       "      <td>0.0</td>\n",
       "    </tr>\n",
       "    <tr>\n",
       "      <th>1</th>\n",
       "      <td>600</td>\n",
       "      <td>11</td>\n",
       "      <td>1134</td>\n",
       "      <td>2</td>\n",
       "      <td>354</td>\n",
       "      <td>70</td>\n",
       "      <td>501.0</td>\n",
       "      <td>NaN</td>\n",
       "      <td>354.0</td>\n",
       "      <td>34.1145</td>\n",
       "      <td>...</td>\n",
       "      <td>0.0</td>\n",
       "      <td>0.0</td>\n",
       "      <td>0.0</td>\n",
       "      <td>1.0</td>\n",
       "      <td>0.0</td>\n",
       "      <td>0.0</td>\n",
       "      <td>0.0</td>\n",
       "      <td>0.0</td>\n",
       "      <td>0.0</td>\n",
       "      <td>0.0</td>\n",
       "    </tr>\n",
       "    <tr>\n",
       "      <th>2</th>\n",
       "      <td>900</td>\n",
       "      <td>1</td>\n",
       "      <td>157</td>\n",
       "      <td>2</td>\n",
       "      <td>354</td>\n",
       "      <td>33</td>\n",
       "      <td>504.0</td>\n",
       "      <td>NaN</td>\n",
       "      <td>354.0</td>\n",
       "      <td>34.0435</td>\n",
       "      <td>...</td>\n",
       "      <td>0.0</td>\n",
       "      <td>0.0</td>\n",
       "      <td>0.0</td>\n",
       "      <td>1.0</td>\n",
       "      <td>0.0</td>\n",
       "      <td>0.0</td>\n",
       "      <td>0.0</td>\n",
       "      <td>0.0</td>\n",
       "      <td>0.0</td>\n",
       "      <td>0.0</td>\n",
       "    </tr>\n",
       "  </tbody>\n",
       "</table>\n",
       "<p>3 rows × 63 columns</p>\n",
       "</div>"
      ],
      "text/plain": [
       "   TIME_OCC  AREA  RPT_DIST_NO  PART_1-2  CRM_CD  VICT_AGE  PREMIS_CD  \\\n",
       "0       900    21         2175         2     354        48      502.0   \n",
       "1       600    11         1134         2     354        70      501.0   \n",
       "2       900     1          157         2     354        33      504.0   \n",
       "\n",
       "   WEAPON_USED_CD  CRM_CD_1  latitude  ...  VICT_SEX_N  VICT_SEX_Unknown  \\\n",
       "0             NaN     354.0   34.1720  ...         0.0               0.0   \n",
       "1             NaN     354.0   34.1145  ...         0.0               0.0   \n",
       "2             NaN     354.0   34.0435  ...         0.0               0.0   \n",
       "\n",
       "   VICT_SEX_X  WEEKDAY_OCC_Friday  WEEKDAY_OCC_Monday  WEEKDAY_OCC_Saturday  \\\n",
       "0         0.0                 1.0                 0.0                   0.0   \n",
       "1         0.0                 1.0                 0.0                   0.0   \n",
       "2         0.0                 1.0                 0.0                   0.0   \n",
       "\n",
       "   WEEKDAY_OCC_Sunday  WEEKDAY_OCC_Thursday  WEEKDAY_OCC_Tuesday  \\\n",
       "0                 0.0                   0.0                  0.0   \n",
       "1                 0.0                   0.0                  0.0   \n",
       "2                 0.0                   0.0                  0.0   \n",
       "\n",
       "   WEEKDAY_OCC_Wednesday  \n",
       "0                    0.0  \n",
       "1                    0.0  \n",
       "2                    0.0  \n",
       "\n",
       "[3 rows x 63 columns]"
      ]
     },
     "execution_count": 19,
     "metadata": {},
     "output_type": "execute_result"
    }
   ],
   "source": [
    "df_top10_crime.head(3)"
   ]
  },
  {
   "cell_type": "markdown",
   "id": "50790fea",
   "metadata": {},
   "source": [
    "### 3.Standardize the magnitude of numeric features using a scaler."
   ]
  },
  {
   "cell_type": "code",
   "execution_count": 20,
   "id": "c04e9702",
   "metadata": {
    "scrolled": true
   },
   "outputs": [
    {
     "name": "stdout",
     "output_type": "stream",
     "text": [
      "['TIME_OCC', 'AREA', 'RPT_DIST_NO', 'PART_1-2', 'CRM_CD', 'VICT_AGE', 'PREMIS_CD', 'WEAPON_USED_CD', 'CRM_CD_1', 'latitude', 'longitude', 'MTH_RPTD', 'DAY_RPTD', 'YEAR_RPTD', 'MTH_OCC', 'DAY_OCC', 'YEAR_OCC', 'ID', 'AREA_NAME_77th Street', 'AREA_NAME_Central', 'AREA_NAME_Devonshire', 'AREA_NAME_Foothill', 'AREA_NAME_Harbor', 'AREA_NAME_Hollenbeck', 'AREA_NAME_Hollywood', 'AREA_NAME_Mission', 'AREA_NAME_N Hollywood', 'AREA_NAME_Newton', 'AREA_NAME_Northeast', 'AREA_NAME_Olympic', 'AREA_NAME_Pacific', 'AREA_NAME_Rampart', 'AREA_NAME_Southeast', 'AREA_NAME_Southwest', 'AREA_NAME_Topanga', 'AREA_NAME_Van Nuys', 'AREA_NAME_West LA', 'AREA_NAME_West Valley', 'AREA_NAME_Wilshire', 'CRM_CD_DESC_ASSAULT WITH DEADLY WEAPON, AGGRAVATED ASSAULT', 'CRM_CD_DESC_BATTERY - SIMPLE ASSAULT', 'CRM_CD_DESC_BURGLARY', 'CRM_CD_DESC_BURGLARY FROM VEHICLE', 'CRM_CD_DESC_INTIMATE PARTNER - SIMPLE ASSAULT', 'CRM_CD_DESC_THEFT FROM MOTOR VEHICLE - PETTY ($950 & UNDER)', 'CRM_CD_DESC_THEFT OF IDENTITY', 'CRM_CD_DESC_THEFT PLAIN - PETTY ($950 & UNDER)', 'CRM_CD_DESC_VANDALISM - FELONY ($400 & OVER, ALL CHURCH VANDALISMS)', 'CRM_CD_DESC_VEHICLE - STOLEN', 'VICT_SEX_-', 'VICT_SEX_F', 'VICT_SEX_H', 'VICT_SEX_M', 'VICT_SEX_N', 'VICT_SEX_Unknown', 'VICT_SEX_X', 'WEEKDAY_OCC_Friday', 'WEEKDAY_OCC_Monday', 'WEEKDAY_OCC_Saturday', 'WEEKDAY_OCC_Sunday', 'WEEKDAY_OCC_Thursday', 'WEEKDAY_OCC_Tuesday', 'WEEKDAY_OCC_Wednesday']\n"
     ]
    }
   ],
   "source": [
    "# Identify numerical columns for scaling\n",
    "numerical_cols = df_top10_crime.select_dtypes(include=['int64', 'float64']).columns.tolist()\n",
    "print (numerical_cols)"
   ]
  },
  {
   "cell_type": "markdown",
   "id": "df00f307",
   "metadata": {},
   "source": [
    "Numerical columns are standardized using StandardScaler to ensure uniformity in their magnitude, which is crucial for many machine learning algorithms."
   ]
  },
  {
   "cell_type": "code",
   "execution_count": 21,
   "id": "df2c1827",
   "metadata": {},
   "outputs": [],
   "source": [
    "# Apply standard scaling to numerical features\n",
    "scaler = StandardScaler()\n",
    "df_top10_crime[numerical_cols] = scaler.fit_transform(df_top10_crime[numerical_cols])"
   ]
  },
  {
   "cell_type": "code",
   "execution_count": 22,
   "id": "767c8da6",
   "metadata": {},
   "outputs": [],
   "source": [
    "# Combine with numeric data\n",
    "df_numeric = df_top10_crime[numerical_cols]\n",
    "df_processed = pd.concat([df_numeric, df_dummies], axis=1)"
   ]
  },
  {
   "cell_type": "code",
   "execution_count": 23,
   "id": "ace181d7",
   "metadata": {},
   "outputs": [
    {
     "data": {
      "text/html": [
       "<div>\n",
       "<style scoped>\n",
       "    .dataframe tbody tr th:only-of-type {\n",
       "        vertical-align: middle;\n",
       "    }\n",
       "\n",
       "    .dataframe tbody tr th {\n",
       "        vertical-align: top;\n",
       "    }\n",
       "\n",
       "    .dataframe thead th {\n",
       "        text-align: right;\n",
       "    }\n",
       "</style>\n",
       "<table border=\"1\" class=\"dataframe\">\n",
       "  <thead>\n",
       "    <tr style=\"text-align: right;\">\n",
       "      <th></th>\n",
       "      <th>TIME_OCC</th>\n",
       "      <th>AREA</th>\n",
       "      <th>RPT_DIST_NO</th>\n",
       "      <th>PART_1-2</th>\n",
       "      <th>CRM_CD</th>\n",
       "      <th>VICT_AGE</th>\n",
       "      <th>PREMIS_CD</th>\n",
       "      <th>WEAPON_USED_CD</th>\n",
       "      <th>CRM_CD_1</th>\n",
       "      <th>latitude</th>\n",
       "      <th>...</th>\n",
       "      <th>VICT_SEX_N</th>\n",
       "      <th>VICT_SEX_Unknown</th>\n",
       "      <th>VICT_SEX_X</th>\n",
       "      <th>WEEKDAY_OCC_Friday</th>\n",
       "      <th>WEEKDAY_OCC_Monday</th>\n",
       "      <th>WEEKDAY_OCC_Saturday</th>\n",
       "      <th>WEEKDAY_OCC_Sunday</th>\n",
       "      <th>WEEKDAY_OCC_Thursday</th>\n",
       "      <th>WEEKDAY_OCC_Tuesday</th>\n",
       "      <th>WEEKDAY_OCC_Wednesday</th>\n",
       "    </tr>\n",
       "  </thead>\n",
       "  <tbody>\n",
       "    <tr>\n",
       "      <th>0</th>\n",
       "      <td>-0.693489</td>\n",
       "      <td>1.684796</td>\n",
       "      <td>1.733157</td>\n",
       "      <td>1.215008</td>\n",
       "      <td>-0.733384</td>\n",
       "      <td>0.796716</td>\n",
       "      <td>0.960800</td>\n",
       "      <td>NaN</td>\n",
       "      <td>-0.73328</td>\n",
       "      <td>0.125106</td>\n",
       "      <td>...</td>\n",
       "      <td>-0.002572</td>\n",
       "      <td>-0.433481</td>\n",
       "      <td>-0.164708</td>\n",
       "      <td>2.344714</td>\n",
       "      <td>-0.40622</td>\n",
       "      <td>-0.413561</td>\n",
       "      <td>-0.40285</td>\n",
       "      <td>-0.404006</td>\n",
       "      <td>-0.400699</td>\n",
       "      <td>-0.40366</td>\n",
       "    </tr>\n",
       "    <tr>\n",
       "      <th>1</th>\n",
       "      <td>-1.149252</td>\n",
       "      <td>0.011354</td>\n",
       "      <td>-0.009133</td>\n",
       "      <td>1.215008</td>\n",
       "      <td>-0.733384</td>\n",
       "      <td>1.831364</td>\n",
       "      <td>0.956129</td>\n",
       "      <td>NaN</td>\n",
       "      <td>-0.73328</td>\n",
       "      <td>0.066831</td>\n",
       "      <td>...</td>\n",
       "      <td>-0.002572</td>\n",
       "      <td>-0.433481</td>\n",
       "      <td>-0.164708</td>\n",
       "      <td>2.344714</td>\n",
       "      <td>-0.40622</td>\n",
       "      <td>-0.413561</td>\n",
       "      <td>-0.40285</td>\n",
       "      <td>-0.404006</td>\n",
       "      <td>-0.400699</td>\n",
       "      <td>-0.40366</td>\n",
       "    </tr>\n",
       "    <tr>\n",
       "      <th>2</th>\n",
       "      <td>-0.693489</td>\n",
       "      <td>-1.662089</td>\n",
       "      <td>-1.644309</td>\n",
       "      <td>1.215008</td>\n",
       "      <td>-0.733384</td>\n",
       "      <td>0.091274</td>\n",
       "      <td>0.970141</td>\n",
       "      <td>NaN</td>\n",
       "      <td>-0.73328</td>\n",
       "      <td>-0.005126</td>\n",
       "      <td>...</td>\n",
       "      <td>-0.002572</td>\n",
       "      <td>-0.433481</td>\n",
       "      <td>-0.164708</td>\n",
       "      <td>2.344714</td>\n",
       "      <td>-0.40622</td>\n",
       "      <td>-0.413561</td>\n",
       "      <td>-0.40285</td>\n",
       "      <td>-0.404006</td>\n",
       "      <td>-0.400699</td>\n",
       "      <td>-0.40366</td>\n",
       "    </tr>\n",
       "  </tbody>\n",
       "</table>\n",
       "<p>3 rows × 63 columns</p>\n",
       "</div>"
      ],
      "text/plain": [
       "   TIME_OCC      AREA  RPT_DIST_NO  PART_1-2    CRM_CD  VICT_AGE  PREMIS_CD  \\\n",
       "0 -0.693489  1.684796     1.733157  1.215008 -0.733384  0.796716   0.960800   \n",
       "1 -1.149252  0.011354    -0.009133  1.215008 -0.733384  1.831364   0.956129   \n",
       "2 -0.693489 -1.662089    -1.644309  1.215008 -0.733384  0.091274   0.970141   \n",
       "\n",
       "   WEAPON_USED_CD  CRM_CD_1  latitude  ...  VICT_SEX_N  VICT_SEX_Unknown  \\\n",
       "0             NaN  -0.73328  0.125106  ...   -0.002572         -0.433481   \n",
       "1             NaN  -0.73328  0.066831  ...   -0.002572         -0.433481   \n",
       "2             NaN  -0.73328 -0.005126  ...   -0.002572         -0.433481   \n",
       "\n",
       "   VICT_SEX_X  WEEKDAY_OCC_Friday  WEEKDAY_OCC_Monday  WEEKDAY_OCC_Saturday  \\\n",
       "0   -0.164708            2.344714            -0.40622             -0.413561   \n",
       "1   -0.164708            2.344714            -0.40622             -0.413561   \n",
       "2   -0.164708            2.344714            -0.40622             -0.413561   \n",
       "\n",
       "   WEEKDAY_OCC_Sunday  WEEKDAY_OCC_Thursday  WEEKDAY_OCC_Tuesday  \\\n",
       "0            -0.40285             -0.404006            -0.400699   \n",
       "1            -0.40285             -0.404006            -0.400699   \n",
       "2            -0.40285             -0.404006            -0.400699   \n",
       "\n",
       "   WEEKDAY_OCC_Wednesday  \n",
       "0               -0.40366  \n",
       "1               -0.40366  \n",
       "2               -0.40366  \n",
       "\n",
       "[3 rows x 63 columns]"
      ]
     },
     "execution_count": 23,
     "metadata": {},
     "output_type": "execute_result"
    }
   ],
   "source": [
    "df_numeric.head(3)"
   ]
  },
  {
   "cell_type": "code",
   "execution_count": 24,
   "id": "762835e6",
   "metadata": {
    "scrolled": true
   },
   "outputs": [
    {
     "data": {
      "text/html": [
       "<div>\n",
       "<style scoped>\n",
       "    .dataframe tbody tr th:only-of-type {\n",
       "        vertical-align: middle;\n",
       "    }\n",
       "\n",
       "    .dataframe tbody tr th {\n",
       "        vertical-align: top;\n",
       "    }\n",
       "\n",
       "    .dataframe thead th {\n",
       "        text-align: right;\n",
       "    }\n",
       "</style>\n",
       "<table border=\"1\" class=\"dataframe\">\n",
       "  <thead>\n",
       "    <tr style=\"text-align: right;\">\n",
       "      <th></th>\n",
       "      <th>TIME_OCC</th>\n",
       "      <th>AREA</th>\n",
       "      <th>RPT_DIST_NO</th>\n",
       "      <th>PART_1-2</th>\n",
       "      <th>CRM_CD</th>\n",
       "      <th>VICT_AGE</th>\n",
       "      <th>PREMIS_CD</th>\n",
       "      <th>WEAPON_USED_CD</th>\n",
       "      <th>CRM_CD_1</th>\n",
       "      <th>latitude</th>\n",
       "      <th>...</th>\n",
       "      <th>VICT_SEX_N</th>\n",
       "      <th>VICT_SEX_Unknown</th>\n",
       "      <th>VICT_SEX_X</th>\n",
       "      <th>WEEKDAY_OCC_Friday</th>\n",
       "      <th>WEEKDAY_OCC_Monday</th>\n",
       "      <th>WEEKDAY_OCC_Saturday</th>\n",
       "      <th>WEEKDAY_OCC_Sunday</th>\n",
       "      <th>WEEKDAY_OCC_Thursday</th>\n",
       "      <th>WEEKDAY_OCC_Tuesday</th>\n",
       "      <th>WEEKDAY_OCC_Wednesday</th>\n",
       "    </tr>\n",
       "  </thead>\n",
       "  <tbody>\n",
       "    <tr>\n",
       "      <th>0</th>\n",
       "      <td>-0.693489</td>\n",
       "      <td>1.684796</td>\n",
       "      <td>1.733157</td>\n",
       "      <td>1.215008</td>\n",
       "      <td>-0.733384</td>\n",
       "      <td>0.796716</td>\n",
       "      <td>0.960800</td>\n",
       "      <td>NaN</td>\n",
       "      <td>-0.73328</td>\n",
       "      <td>0.125106</td>\n",
       "      <td>...</td>\n",
       "      <td>0.0</td>\n",
       "      <td>0.0</td>\n",
       "      <td>0.0</td>\n",
       "      <td>1.0</td>\n",
       "      <td>0.0</td>\n",
       "      <td>0.0</td>\n",
       "      <td>0.0</td>\n",
       "      <td>0.0</td>\n",
       "      <td>0.0</td>\n",
       "      <td>0.0</td>\n",
       "    </tr>\n",
       "    <tr>\n",
       "      <th>1</th>\n",
       "      <td>-1.149252</td>\n",
       "      <td>0.011354</td>\n",
       "      <td>-0.009133</td>\n",
       "      <td>1.215008</td>\n",
       "      <td>-0.733384</td>\n",
       "      <td>1.831364</td>\n",
       "      <td>0.956129</td>\n",
       "      <td>NaN</td>\n",
       "      <td>-0.73328</td>\n",
       "      <td>0.066831</td>\n",
       "      <td>...</td>\n",
       "      <td>0.0</td>\n",
       "      <td>0.0</td>\n",
       "      <td>0.0</td>\n",
       "      <td>1.0</td>\n",
       "      <td>0.0</td>\n",
       "      <td>0.0</td>\n",
       "      <td>0.0</td>\n",
       "      <td>0.0</td>\n",
       "      <td>0.0</td>\n",
       "      <td>0.0</td>\n",
       "    </tr>\n",
       "    <tr>\n",
       "      <th>2</th>\n",
       "      <td>-0.693489</td>\n",
       "      <td>-1.662089</td>\n",
       "      <td>-1.644309</td>\n",
       "      <td>1.215008</td>\n",
       "      <td>-0.733384</td>\n",
       "      <td>0.091274</td>\n",
       "      <td>0.970141</td>\n",
       "      <td>NaN</td>\n",
       "      <td>-0.73328</td>\n",
       "      <td>-0.005126</td>\n",
       "      <td>...</td>\n",
       "      <td>0.0</td>\n",
       "      <td>0.0</td>\n",
       "      <td>0.0</td>\n",
       "      <td>1.0</td>\n",
       "      <td>0.0</td>\n",
       "      <td>0.0</td>\n",
       "      <td>0.0</td>\n",
       "      <td>0.0</td>\n",
       "      <td>0.0</td>\n",
       "      <td>0.0</td>\n",
       "    </tr>\n",
       "  </tbody>\n",
       "</table>\n",
       "<p>3 rows × 108 columns</p>\n",
       "</div>"
      ],
      "text/plain": [
       "   TIME_OCC      AREA  RPT_DIST_NO  PART_1-2    CRM_CD  VICT_AGE  PREMIS_CD  \\\n",
       "0 -0.693489  1.684796     1.733157  1.215008 -0.733384  0.796716   0.960800   \n",
       "1 -1.149252  0.011354    -0.009133  1.215008 -0.733384  1.831364   0.956129   \n",
       "2 -0.693489 -1.662089    -1.644309  1.215008 -0.733384  0.091274   0.970141   \n",
       "\n",
       "   WEAPON_USED_CD  CRM_CD_1  latitude  ...  VICT_SEX_N  VICT_SEX_Unknown  \\\n",
       "0             NaN  -0.73328  0.125106  ...         0.0               0.0   \n",
       "1             NaN  -0.73328  0.066831  ...         0.0               0.0   \n",
       "2             NaN  -0.73328 -0.005126  ...         0.0               0.0   \n",
       "\n",
       "   VICT_SEX_X  WEEKDAY_OCC_Friday  WEEKDAY_OCC_Monday  WEEKDAY_OCC_Saturday  \\\n",
       "0         0.0                 1.0                 0.0                   0.0   \n",
       "1         0.0                 1.0                 0.0                   0.0   \n",
       "2         0.0                 1.0                 0.0                   0.0   \n",
       "\n",
       "   WEEKDAY_OCC_Sunday  WEEKDAY_OCC_Thursday  WEEKDAY_OCC_Tuesday  \\\n",
       "0                 0.0                   0.0                  0.0   \n",
       "1                 0.0                   0.0                  0.0   \n",
       "2                 0.0                   0.0                  0.0   \n",
       "\n",
       "   WEEKDAY_OCC_Wednesday  \n",
       "0                    0.0  \n",
       "1                    0.0  \n",
       "2                    0.0  \n",
       "\n",
       "[3 rows x 108 columns]"
      ]
     },
     "execution_count": 24,
     "metadata": {},
     "output_type": "execute_result"
    }
   ],
   "source": [
    "df_processed.head(3)"
   ]
  },
  {
   "cell_type": "code",
   "execution_count": 25,
   "id": "35f0e58f",
   "metadata": {},
   "outputs": [],
   "source": [
    "# Apply standard scaling to the numerical features\n",
    "scaler = StandardScaler()\n",
    "df_processed[numerical_cols] = scaler.fit_transform(df_processed[numerical_cols])"
   ]
  },
  {
   "cell_type": "code",
   "execution_count": 26,
   "id": "712de517",
   "metadata": {
    "scrolled": true
   },
   "outputs": [
    {
     "data": {
      "text/html": [
       "<div>\n",
       "<style scoped>\n",
       "    .dataframe tbody tr th:only-of-type {\n",
       "        vertical-align: middle;\n",
       "    }\n",
       "\n",
       "    .dataframe tbody tr th {\n",
       "        vertical-align: top;\n",
       "    }\n",
       "\n",
       "    .dataframe thead th {\n",
       "        text-align: right;\n",
       "    }\n",
       "</style>\n",
       "<table border=\"1\" class=\"dataframe\">\n",
       "  <thead>\n",
       "    <tr style=\"text-align: right;\">\n",
       "      <th></th>\n",
       "      <th>TIME_OCC</th>\n",
       "      <th>AREA</th>\n",
       "      <th>RPT_DIST_NO</th>\n",
       "      <th>PART_1-2</th>\n",
       "      <th>CRM_CD</th>\n",
       "      <th>VICT_AGE</th>\n",
       "      <th>PREMIS_CD</th>\n",
       "      <th>WEAPON_USED_CD</th>\n",
       "      <th>CRM_CD_1</th>\n",
       "      <th>latitude</th>\n",
       "      <th>...</th>\n",
       "      <th>VICT_SEX_N</th>\n",
       "      <th>VICT_SEX_Unknown</th>\n",
       "      <th>VICT_SEX_X</th>\n",
       "      <th>WEEKDAY_OCC_Friday</th>\n",
       "      <th>WEEKDAY_OCC_Monday</th>\n",
       "      <th>WEEKDAY_OCC_Saturday</th>\n",
       "      <th>WEEKDAY_OCC_Sunday</th>\n",
       "      <th>WEEKDAY_OCC_Thursday</th>\n",
       "      <th>WEEKDAY_OCC_Tuesday</th>\n",
       "      <th>WEEKDAY_OCC_Wednesday</th>\n",
       "    </tr>\n",
       "  </thead>\n",
       "  <tbody>\n",
       "    <tr>\n",
       "      <th>0</th>\n",
       "      <td>-0.693489</td>\n",
       "      <td>1.684796</td>\n",
       "      <td>1.733157</td>\n",
       "      <td>1.215008</td>\n",
       "      <td>-0.733384</td>\n",
       "      <td>0.796716</td>\n",
       "      <td>0.960800</td>\n",
       "      <td>NaN</td>\n",
       "      <td>-0.73328</td>\n",
       "      <td>0.125106</td>\n",
       "      <td>...</td>\n",
       "      <td>-0.002572</td>\n",
       "      <td>-0.433481</td>\n",
       "      <td>-0.164708</td>\n",
       "      <td>2.344714</td>\n",
       "      <td>-0.40622</td>\n",
       "      <td>-0.413561</td>\n",
       "      <td>-0.40285</td>\n",
       "      <td>-0.404006</td>\n",
       "      <td>-0.400699</td>\n",
       "      <td>-0.40366</td>\n",
       "    </tr>\n",
       "    <tr>\n",
       "      <th>1</th>\n",
       "      <td>-1.149252</td>\n",
       "      <td>0.011354</td>\n",
       "      <td>-0.009133</td>\n",
       "      <td>1.215008</td>\n",
       "      <td>-0.733384</td>\n",
       "      <td>1.831364</td>\n",
       "      <td>0.956129</td>\n",
       "      <td>NaN</td>\n",
       "      <td>-0.73328</td>\n",
       "      <td>0.066831</td>\n",
       "      <td>...</td>\n",
       "      <td>-0.002572</td>\n",
       "      <td>-0.433481</td>\n",
       "      <td>-0.164708</td>\n",
       "      <td>2.344714</td>\n",
       "      <td>-0.40622</td>\n",
       "      <td>-0.413561</td>\n",
       "      <td>-0.40285</td>\n",
       "      <td>-0.404006</td>\n",
       "      <td>-0.400699</td>\n",
       "      <td>-0.40366</td>\n",
       "    </tr>\n",
       "    <tr>\n",
       "      <th>2</th>\n",
       "      <td>-0.693489</td>\n",
       "      <td>-1.662089</td>\n",
       "      <td>-1.644309</td>\n",
       "      <td>1.215008</td>\n",
       "      <td>-0.733384</td>\n",
       "      <td>0.091274</td>\n",
       "      <td>0.970141</td>\n",
       "      <td>NaN</td>\n",
       "      <td>-0.73328</td>\n",
       "      <td>-0.005126</td>\n",
       "      <td>...</td>\n",
       "      <td>-0.002572</td>\n",
       "      <td>-0.433481</td>\n",
       "      <td>-0.164708</td>\n",
       "      <td>2.344714</td>\n",
       "      <td>-0.40622</td>\n",
       "      <td>-0.413561</td>\n",
       "      <td>-0.40285</td>\n",
       "      <td>-0.404006</td>\n",
       "      <td>-0.400699</td>\n",
       "      <td>-0.40366</td>\n",
       "    </tr>\n",
       "  </tbody>\n",
       "</table>\n",
       "<p>3 rows × 108 columns</p>\n",
       "</div>"
      ],
      "text/plain": [
       "   TIME_OCC      AREA  RPT_DIST_NO  PART_1-2    CRM_CD  VICT_AGE  PREMIS_CD  \\\n",
       "0 -0.693489  1.684796     1.733157  1.215008 -0.733384  0.796716   0.960800   \n",
       "1 -1.149252  0.011354    -0.009133  1.215008 -0.733384  1.831364   0.956129   \n",
       "2 -0.693489 -1.662089    -1.644309  1.215008 -0.733384  0.091274   0.970141   \n",
       "\n",
       "   WEAPON_USED_CD  CRM_CD_1  latitude  ...  VICT_SEX_N  VICT_SEX_Unknown  \\\n",
       "0             NaN  -0.73328  0.125106  ...   -0.002572         -0.433481   \n",
       "1             NaN  -0.73328  0.066831  ...   -0.002572         -0.433481   \n",
       "2             NaN  -0.73328 -0.005126  ...   -0.002572         -0.433481   \n",
       "\n",
       "   VICT_SEX_X  WEEKDAY_OCC_Friday  WEEKDAY_OCC_Monday  WEEKDAY_OCC_Saturday  \\\n",
       "0   -0.164708            2.344714            -0.40622             -0.413561   \n",
       "1   -0.164708            2.344714            -0.40622             -0.413561   \n",
       "2   -0.164708            2.344714            -0.40622             -0.413561   \n",
       "\n",
       "   WEEKDAY_OCC_Sunday  WEEKDAY_OCC_Thursday  WEEKDAY_OCC_Tuesday  \\\n",
       "0            -0.40285             -0.404006            -0.400699   \n",
       "1            -0.40285             -0.404006            -0.400699   \n",
       "2            -0.40285             -0.404006            -0.400699   \n",
       "\n",
       "   WEEKDAY_OCC_Wednesday  \n",
       "0               -0.40366  \n",
       "1               -0.40366  \n",
       "2               -0.40366  \n",
       "\n",
       "[3 rows x 108 columns]"
      ]
     },
     "execution_count": 26,
     "metadata": {},
     "output_type": "execute_result"
    }
   ],
   "source": [
    "df_processed.head(3)"
   ]
  },
  {
   "cell_type": "code",
   "execution_count": 27,
   "id": "31e3cbe9",
   "metadata": {
    "scrolled": true
   },
   "outputs": [
    {
     "name": "stdout",
     "output_type": "stream",
     "text": [
      "<class 'pandas.core.frame.DataFrame'>\n",
      "RangeIndex: 1813555 entries, 0 to 1813554\n",
      "Columns: 108 entries, TIME_OCC to WEEKDAY_OCC_Wednesday\n",
      "dtypes: float64(108)\n",
      "memory usage: 1.5 GB\n"
     ]
    }
   ],
   "source": [
    "df_processed.info()"
   ]
  },
  {
   "cell_type": "markdown",
   "id": "d3f9f22f",
   "metadata": {},
   "source": [
    "The target variables are going to be removed from the features set.the remaining data are treated as features. The dataset is split into feature (X) and target (y) sets."
   ]
  },
  {
   "cell_type": "code",
   "execution_count": 28,
   "id": "75cc9529",
   "metadata": {},
   "outputs": [],
   "source": [
    "target_var_cols = ['VICT_AGE', 'latitude', 'longitude', 'MTH_RPTD', 'DAY_RPTD', 'YEAR_RPTD', 'MTH_OCC', 'DAY_OCC', 'YEAR_OCC']\n",
    "X = df_top10_crime.drop(columns=target_var_cols, axis=1)\n",
    "y = df_top10_crime[target_var_cols]"
   ]
  },
  {
   "cell_type": "code",
   "execution_count": 29,
   "id": "e84f19e6",
   "metadata": {},
   "outputs": [
    {
     "name": "stdout",
     "output_type": "stream",
     "text": [
      "         TIME_OCC      AREA  RPT_DIST_NO  PART_1-2    CRM_CD  PREMIS_CD  \\\n",
      "0       -0.693489  1.684796     1.733157  1.215008 -0.733384   0.960800   \n",
      "1       -1.149252  0.011354    -0.009133  1.215008 -0.733384   0.956129   \n",
      "2       -0.693489 -1.662089    -1.644309  1.215008 -0.733384   0.970141   \n",
      "3        0.521881  0.848075     0.906364  1.215008  1.064148  -0.403027   \n",
      "4        0.544669 -0.992712    -1.063545  1.215008  1.064148  -0.912127   \n",
      "...           ...       ...          ...       ...       ...        ...   \n",
      "1813550 -1.734148  0.513386     0.482926 -0.823040 -1.026316   0.960800   \n",
      "1813551  0.582649 -1.160056    -1.118777 -0.823040 -1.558918  -0.912127   \n",
      "1813552 -0.951754  0.011354    -0.064364 -0.823040 -0.893165  -0.879432   \n",
      "1813553 -1.855685  0.513386     0.504683  1.215008  1.064148  -0.417039   \n",
      "1813554 -2.059260  0.178698     0.159907 -0.823040  0.305190  -0.912127   \n",
      "\n",
      "         WEAPON_USED_CD  CRM_CD_1        ID  AREA_NAME_77th Street  ...  \\\n",
      "0                   NaN -0.733280 -1.732050              -0.268962  ...   \n",
      "1                   NaN -0.733280 -1.732048              -0.268962  ...   \n",
      "2                   NaN -0.733280 -1.732046              -0.268962  ...   \n",
      "3             -0.700543  1.064227 -1.732044              -0.268962  ...   \n",
      "4              0.264450  1.064227 -1.732042              -0.268962  ...   \n",
      "...                 ...       ...       ...                    ...  ...   \n",
      "1813550             NaN -1.026207  1.732042              -0.268962  ...   \n",
      "1813551       -2.794784 -1.558801  1.732044              -0.268962  ...   \n",
      "1813552             NaN -0.893058  1.732046              -0.268962  ...   \n",
      "1813553        0.264450  1.064227  1.732048              -0.268962  ...   \n",
      "1813554             NaN  0.305280  1.732050               3.718001  ...   \n",
      "\n",
      "         VICT_SEX_N  VICT_SEX_Unknown  VICT_SEX_X  WEEKDAY_OCC_Friday  \\\n",
      "0         -0.002572         -0.433481   -0.164708            2.344714   \n",
      "1         -0.002572         -0.433481   -0.164708            2.344714   \n",
      "2         -0.002572         -0.433481   -0.164708            2.344714   \n",
      "3         -0.002572         -0.433481   -0.164708            2.344714   \n",
      "4         -0.002572         -0.433481   -0.164708            2.344714   \n",
      "...             ...               ...         ...                 ...   \n",
      "1813550   -0.002572         -0.433481   -0.164708           -0.426491   \n",
      "1813551   -0.002572          2.306904   -0.164708           -0.426491   \n",
      "1813552   -0.002572         -0.433481   -0.164708           -0.426491   \n",
      "1813553   -0.002572         -0.433481   -0.164708           -0.426491   \n",
      "1813554   -0.002572          2.306904   -0.164708           -0.426491   \n",
      "\n",
      "         WEEKDAY_OCC_Monday  WEEKDAY_OCC_Saturday  WEEKDAY_OCC_Sunday  \\\n",
      "0                 -0.406220             -0.413561            -0.40285   \n",
      "1                 -0.406220             -0.413561            -0.40285   \n",
      "2                 -0.406220             -0.413561            -0.40285   \n",
      "3                 -0.406220             -0.413561            -0.40285   \n",
      "4                 -0.406220             -0.413561            -0.40285   \n",
      "...                     ...                   ...                 ...   \n",
      "1813550            2.461721             -0.413561            -0.40285   \n",
      "1813551            2.461721             -0.413561            -0.40285   \n",
      "1813552            2.461721             -0.413561            -0.40285   \n",
      "1813553            2.461721             -0.413561            -0.40285   \n",
      "1813554            2.461721             -0.413561            -0.40285   \n",
      "\n",
      "         WEEKDAY_OCC_Thursday  WEEKDAY_OCC_Tuesday  WEEKDAY_OCC_Wednesday  \n",
      "0                   -0.404006            -0.400699               -0.40366  \n",
      "1                   -0.404006            -0.400699               -0.40366  \n",
      "2                   -0.404006            -0.400699               -0.40366  \n",
      "3                   -0.404006            -0.400699               -0.40366  \n",
      "4                   -0.404006            -0.400699               -0.40366  \n",
      "...                       ...                  ...                    ...  \n",
      "1813550             -0.404006            -0.400699               -0.40366  \n",
      "1813551             -0.404006            -0.400699               -0.40366  \n",
      "1813552             -0.404006            -0.400699               -0.40366  \n",
      "1813553             -0.404006            -0.400699               -0.40366  \n",
      "1813554             -0.404006            -0.400699               -0.40366  \n",
      "\n",
      "[1813555 rows x 54 columns]\n"
     ]
    }
   ],
   "source": [
    "print (X)"
   ]
  },
  {
   "cell_type": "code",
   "execution_count": 30,
   "id": "b4882103",
   "metadata": {},
   "outputs": [
    {
     "name": "stdout",
     "output_type": "stream",
     "text": [
      "         VICT_AGE  latitude  longitude  MTH_RPTD  DAY_RPTD  YEAR_RPTD  \\\n",
      "0        0.796716  0.125106  -0.102694   0.16562  1.734663   0.630897   \n",
      "1        1.831364  0.066831   0.006198   1.33954  0.826873  -1.652892   \n",
      "2        0.091274 -0.005126   0.004700  -0.12786 -0.534811  -0.637875   \n",
      "3       -0.049815  0.177097  -0.040436  -1.59526 -1.669548  -1.652892   \n",
      "4       -0.284962 -0.206401  -0.013301  -1.59526 -1.669548  -1.652892   \n",
      "...           ...       ...        ...       ...       ...        ...   \n",
      "1813550 -0.002785 -0.022355  -0.046897   0.45910  1.394242   1.645915   \n",
      "1813551 -1.460699 -0.017693   0.011308   0.45910  1.394242   1.645915   \n",
      "1813552  0.373451  0.070074  -0.010012   0.45910  1.394242   1.645915   \n",
      "1813553 -0.143873 -0.070292  -0.061052   0.45910  1.394242   1.645915   \n",
      "1813554 -1.460699 -0.065326  -0.012215   0.45910  1.394242   1.645915   \n",
      "\n",
      "          MTH_OCC   DAY_OCC  YEAR_OCC  \n",
      "0       -1.585802 -1.618106 -1.640931  \n",
      "1       -1.585802 -1.618106 -1.640931  \n",
      "2       -1.585802 -1.618106 -1.640931  \n",
      "3       -1.585802 -1.618106 -1.640931  \n",
      "4       -1.585802 -1.618106 -1.640931  \n",
      "...           ...       ...       ...  \n",
      "1813550  0.461114  1.405385  1.656911  \n",
      "1813551  0.461114  1.405385  1.656911  \n",
      "1813552  0.461114  1.405385  1.656911  \n",
      "1813553  0.461114  1.405385  1.656911  \n",
      "1813554  0.461114  1.405385  1.656911  \n",
      "\n",
      "[1813555 rows x 9 columns]\n"
     ]
    }
   ],
   "source": [
    "print (y)"
   ]
  },
  {
   "cell_type": "markdown",
   "id": "2db325ea",
   "metadata": {},
   "source": [
    "### 4.Split the dataset into training and testing datasets."
   ]
  },
  {
   "cell_type": "markdown",
   "id": "20b9675b",
   "metadata": {},
   "source": [
    "The dataset is further split into training and testing sets, following the common practice of holding out a portion of the data for model evaluation."
   ]
  },
  {
   "cell_type": "code",
   "execution_count": 31,
   "id": "ba1c25b6",
   "metadata": {},
   "outputs": [],
   "source": [
    "# Split the data into training and testing sets\n",
    "X_train, X_test, y_train, y_test = train_test_split(X, y, test_size=0.2, random_state=42)"
   ]
  },
  {
   "cell_type": "code",
   "execution_count": 32,
   "id": "09364655",
   "metadata": {},
   "outputs": [
    {
     "data": {
      "text/plain": [
       "((1450844, 54), (362711, 54), (1450844, 9), (362711, 9))"
      ]
     },
     "execution_count": 32,
     "metadata": {},
     "output_type": "execute_result"
    }
   ],
   "source": [
    "# Output the shapes of the resulting dataframes\n",
    "(X_train.shape, X_test.shape, y_train.shape, y_test.shape)"
   ]
  },
  {
   "cell_type": "markdown",
   "id": "751d2481",
   "metadata": {},
   "source": [
    "### 5.Modeling"
   ]
  },
  {
   "cell_type": "code",
   "execution_count": 34,
   "id": "2221e2ea",
   "metadata": {},
   "outputs": [
    {
     "data": {
      "text/plain": [
       "VICT_AGE     0.000503\n",
       "latitude     0.000587\n",
       "longitude   -0.000598\n",
       "MTH_RPTD    -0.000415\n",
       "DAY_RPTD    -0.001293\n",
       "YEAR_RPTD   -0.000273\n",
       "MTH_OCC     -0.000516\n",
       "DAY_OCC     -0.000967\n",
       "YEAR_OCC    -0.000265\n",
       "dtype: float64"
      ]
     },
     "execution_count": 34,
     "metadata": {},
     "output_type": "execute_result"
    }
   ],
   "source": [
    "#Calculate the mean of `y_train`\n",
    "train_mean = y_train.mean()\n",
    "train_mean"
   ]
  },
  {
   "cell_type": "code",
   "execution_count": 35,
   "id": "b0e110e3",
   "metadata": {},
   "outputs": [
    {
     "data": {
      "text/plain": [
       "TIME_OCC                                                               0.111694\n",
       "AREA                                                                   0.011354\n",
       "RPT_DIST_NO                                                            0.049445\n",
       "PART_1-2                                                              -0.823040\n",
       "CRM_CD                                                                -0.160837\n",
       "PREMIS_CD                                                             -0.435721\n",
       "WEAPON_USED_CD                                                         0.264450\n",
       "CRM_CD_1                                                              -0.160741\n",
       "ID                                                                    -0.000114\n",
       "AREA_NAME_77th Street                                                 -0.268962\n",
       "AREA_NAME_Central                                                     -0.230213\n",
       "AREA_NAME_Devonshire                                                  -0.216273\n",
       "AREA_NAME_Foothill                                                    -0.199527\n",
       "AREA_NAME_Harbor                                                      -0.215725\n",
       "AREA_NAME_Hollenbeck                                                  -0.202062\n",
       "AREA_NAME_Hollywood                                                   -0.225428\n",
       "AREA_NAME_Mission                                                     -0.215817\n",
       "AREA_NAME_N Hollywood                                                 -0.240878\n",
       "AREA_NAME_Newton                                                      -0.228398\n",
       "AREA_NAME_Northeast                                                   -0.223492\n",
       "AREA_NAME_Olympic                                                     -0.215815\n",
       "AREA_NAME_Pacific                                                     -0.238752\n",
       "AREA_NAME_Rampart                                                     -0.213511\n",
       "AREA_NAME_Southeast                                                   -0.233464\n",
       "AREA_NAME_Southwest                                                   -0.254317\n",
       "AREA_NAME_Topanga                                                     -0.205696\n",
       "AREA_NAME_Van Nuys                                                    -0.222676\n",
       "AREA_NAME_West LA                                                     -0.212157\n",
       "AREA_NAME_West Valley                                                 -0.213148\n",
       "AREA_NAME_Wilshire                                                    -0.209005\n",
       "CRM_CD_DESC_ASSAULT WITH DEADLY WEAPON, AGGRAVATED ASSAULT            -0.283873\n",
       "CRM_CD_DESC_BATTERY - SIMPLE ASSAULT                                  -0.398976\n",
       "CRM_CD_DESC_BURGLARY                                                  -0.344714\n",
       "CRM_CD_DESC_BURGLARY FROM VEHICLE                                     -0.360410\n",
       "CRM_CD_DESC_INTIMATE PARTNER - SIMPLE ASSAULT                         -0.302487\n",
       "CRM_CD_DESC_THEFT FROM MOTOR VEHICLE - PETTY ($950 & UNDER)           -0.263112\n",
       "CRM_CD_DESC_THEFT OF IDENTITY                                         -0.327335\n",
       "CRM_CD_DESC_THEFT PLAIN - PETTY ($950 & UNDER)                        -0.339619\n",
       "CRM_CD_DESC_VANDALISM - FELONY ($400 & OVER, ALL CHURCH VANDALISMS)   -0.306565\n",
       "CRM_CD_DESC_VEHICLE - STOLEN                                          -0.390408\n",
       "VICT_SEX_-                                                            -0.000743\n",
       "VICT_SEX_F                                                            -0.800323\n",
       "VICT_SEX_H                                                            -0.008135\n",
       "VICT_SEX_M                                                            -0.859544\n",
       "VICT_SEX_N                                                            -0.002572\n",
       "VICT_SEX_Unknown                                                      -0.433481\n",
       "VICT_SEX_X                                                            -0.164708\n",
       "WEEKDAY_OCC_Friday                                                    -0.426491\n",
       "WEEKDAY_OCC_Monday                                                    -0.406220\n",
       "WEEKDAY_OCC_Saturday                                                  -0.413561\n",
       "WEEKDAY_OCC_Sunday                                                    -0.402850\n",
       "WEEKDAY_OCC_Thursday                                                  -0.404006\n",
       "WEEKDAY_OCC_Tuesday                                                   -0.400699\n",
       "WEEKDAY_OCC_Wednesday                                                 -0.403660\n",
       "dtype: float64"
      ]
     },
     "execution_count": 35,
     "metadata": {},
     "output_type": "execute_result"
    }
   ],
   "source": [
    "#Calculate the medium of `y_train`\n",
    "X_defaults_median = X_train.median()\n",
    "X_defaults_median"
   ]
  },
  {
   "cell_type": "markdown",
   "id": "af24bc1e",
   "metadata": {},
   "source": [
    "##### Impute NaN Data"
   ]
  },
  {
   "cell_type": "code",
   "execution_count": 54,
   "id": "401e6202",
   "metadata": {},
   "outputs": [],
   "source": [
    "# handling NaN values\n",
    "# Replace 'mean' with 'median', 'most_frequent', or a constant value if needed\n",
    "\n",
    "imputer = SimpleImputer(missing_values=np.nan, strategy='mean')\n",
    "X_train = imputer.fit_transform(X_train)\n",
    "y_train = imputer.fit_transform(y_train)"
   ]
  },
  {
   "cell_type": "code",
   "execution_count": 55,
   "id": "fd48bbf3",
   "metadata": {},
   "outputs": [
    {
     "name": "stdout",
     "output_type": "stream",
     "text": [
      "NaN values in X_test: 247492\n",
      "Infinity values in X_test: 0\n"
     ]
    }
   ],
   "source": [
    "# Check for NaN values\n",
    "print(\"NaN values in X_test:\", X_test.isna().sum().sum())\n",
    "\n",
    "# Replace NaN values with the mean (you can choose other methods)\n",
    "X_test = X_test.fillna(X_test.mean())\n",
    "\n",
    "# Check for infinity values\n",
    "print(\"Infinity values in X_test:\", np.isinf(X_test).sum().sum())\n",
    "\n",
    "# Replace infinity values\n",
    "X_test = X_test.replace([np.inf, -np.inf], np.nan).fillna(X_test.mean())"
   ]
  },
  {
   "cell_type": "code",
   "execution_count": 57,
   "id": "0f518d1e",
   "metadata": {},
   "outputs": [
    {
     "data": {
      "text/plain": [
       "array([[ 1.32850326, -0.32274956, -0.34163968, ...,  2.47591504,\n",
       "        -0.40023136, -0.40384952],\n",
       "       [-0.16208818,  0.34710899,  0.37518183, ..., -0.40389108,\n",
       "        -0.40023136,  2.47616982],\n",
       "       [ 1.1764021 ,  0.68203826,  0.70009625, ..., -0.40389108,\n",
       "        -0.40023136, -0.40384952],\n",
       "       ...,\n",
       "       [ 0.97867058,  0.8495029 ,  0.84078085, ..., -0.40389108,\n",
       "        -0.40023136, -0.40384952],\n",
       "       [ 0.87219976,  1.01696754,  0.99821361, ..., -0.40389108,\n",
       "        -0.40023136,  2.47616982],\n",
       "       [-0.08603759, -0.49021419, -0.42203087, ...,  2.47591504,\n",
       "        -0.40023136, -0.40384952]])"
      ]
     },
     "execution_count": 57,
     "metadata": {},
     "output_type": "execute_result"
    }
   ],
   "source": [
    "# Normalize or Scale your data\n",
    "scaler = StandardScaler()\n",
    "X_test_scaled = scaler.fit_transform(X_test)\n",
    "X_test_scaled"
   ]
  },
  {
   "cell_type": "markdown",
   "id": "f4c75cfe",
   "metadata": {},
   "source": [
    "#### Basic Dummy Regressor"
   ]
  },
  {
   "cell_type": "code",
   "execution_count": 37,
   "id": "54b6ab98",
   "metadata": {},
   "outputs": [
    {
     "data": {
      "text/plain": [
       "array([[ 0.00050284,  0.00058684, -0.0005982 , -0.00041537, -0.00129335,\n",
       "        -0.00027281, -0.00051641, -0.00096734, -0.00026528]])"
      ]
     },
     "execution_count": 37,
     "metadata": {},
     "output_type": "execute_result"
    }
   ],
   "source": [
    "#Fit the dummy regressor on the training data\n",
    "#Hint, call its `.fit()` method with `X_train` and `y_train` as arguments\n",
    "#Then print the object's `constant_` attribute and verify it's the same as the mean above\n",
    "dumb_reg = DummyRegressor(strategy='mean')\n",
    "dumb_reg.fit(X_train, y_train)\n",
    "dumb_reg.constant_"
   ]
  },
  {
   "cell_type": "markdown",
   "id": "0850e603",
   "metadata": {},
   "source": [
    "##### Metrics on dummy regressor"
   ]
  },
  {
   "cell_type": "markdown",
   "id": "c692dbff",
   "metadata": {},
   "source": [
    "###### R2 Square"
   ]
  },
  {
   "cell_type": "code",
   "execution_count": 38,
   "id": "c5007483",
   "metadata": {},
   "outputs": [],
   "source": [
    "def r_squared(y, ypred):\n",
    "    \"\"\"R-squared score.\n",
    "    \n",
    "    Calculate the R-squared, or coefficient of determination, of the input.\n",
    "    \n",
    "    Arguments:\n",
    "    y -- the observed values\n",
    "    ypred -- the predicted values\n",
    "    \"\"\"\n",
    "    ybar = np.sum(y) / len(y) #yes, we could use np.mean(y)\n",
    "    sum_sq_tot = np.sum((y - ybar)**2) #total sum of squares error\n",
    "    sum_sq_res = np.sum((y - ypred)**2) #residual sum of squares error\n",
    "    R2 = 1.0 - sum_sq_res / sum_sq_tot\n",
    "    return R2"
   ]
  },
  {
   "cell_type": "markdown",
   "id": "a4e02cd1",
   "metadata": {},
   "source": [
    "Remember the sklearn dummy regressor?"
   ]
  },
  {
   "cell_type": "code",
   "execution_count": 39,
   "id": "75e1b55e",
   "metadata": {},
   "outputs": [
    {
     "data": {
      "text/plain": [
       "array([[ 0.00050284,  0.00058684, -0.0005982 , -0.00041537, -0.00129335,\n",
       "        -0.00027281, -0.00051641, -0.00096734, -0.00026528],\n",
       "       [ 0.00050284,  0.00058684, -0.0005982 , -0.00041537, -0.00129335,\n",
       "        -0.00027281, -0.00051641, -0.00096734, -0.00026528],\n",
       "       [ 0.00050284,  0.00058684, -0.0005982 , -0.00041537, -0.00129335,\n",
       "        -0.00027281, -0.00051641, -0.00096734, -0.00026528],\n",
       "       [ 0.00050284,  0.00058684, -0.0005982 , -0.00041537, -0.00129335,\n",
       "        -0.00027281, -0.00051641, -0.00096734, -0.00026528],\n",
       "       [ 0.00050284,  0.00058684, -0.0005982 , -0.00041537, -0.00129335,\n",
       "        -0.00027281, -0.00051641, -0.00096734, -0.00026528]])"
      ]
     },
     "execution_count": 39,
     "metadata": {},
     "output_type": "execute_result"
    }
   ],
   "source": [
    "y_train_pred = dumb_reg.predict(X_train)\n",
    "y_train_pred[:5]"
   ]
  },
  {
   "cell_type": "code",
   "execution_count": 40,
   "id": "22dc466a",
   "metadata": {},
   "outputs": [
    {
     "data": {
      "text/plain": [
       "8.658867610589205e-06"
      ]
     },
     "execution_count": 40,
     "metadata": {},
     "output_type": "execute_result"
    }
   ],
   "source": [
    "r_squared(y_train, y_train_pred)"
   ]
  },
  {
   "cell_type": "code",
   "execution_count": 41,
   "id": "7cae5452",
   "metadata": {},
   "outputs": [
    {
     "data": {
      "text/plain": [
       "VICT_AGE    -0.000006\n",
       "latitude    -0.000008\n",
       "longitude   -0.000008\n",
       "MTH_RPTD    -0.000004\n",
       "DAY_RPTD    -0.000042\n",
       "YEAR_RPTD   -0.000002\n",
       "MTH_OCC     -0.000007\n",
       "DAY_OCC     -0.000023\n",
       "YEAR_OCC    -0.000002\n",
       "dtype: float64"
      ]
     },
     "execution_count": 41,
     "metadata": {},
     "output_type": "execute_result"
    }
   ],
   "source": [
    "y_test_pred = dumb_reg.predict(X_test)\n",
    "r_squared(y_test, y_test_pred)"
   ]
  },
  {
   "cell_type": "markdown",
   "id": "c2853877",
   "metadata": {},
   "source": [
    "###### Mean Square Error"
   ]
  },
  {
   "cell_type": "code",
   "execution_count": 42,
   "id": "cb035e51",
   "metadata": {},
   "outputs": [],
   "source": [
    "def mse(y, ypred):\n",
    "    \"\"\"Mean square error.\n",
    "    \n",
    "    Calculate the mean square error of the arguments\n",
    "\n",
    "    Arguments:\n",
    "    y -- the observed values\n",
    "    ypred -- the predicted values\n",
    "    \"\"\"\n",
    "    sq_error = (y - ypred)**2\n",
    "    mse = np.mean(sq_error)\n",
    "    return mse"
   ]
  },
  {
   "cell_type": "code",
   "execution_count": 43,
   "id": "05b3848f",
   "metadata": {
    "scrolled": true
   },
   "outputs": [
    {
     "data": {
      "text/plain": [
       "0.9956148168121295"
      ]
     },
     "execution_count": 43,
     "metadata": {},
     "output_type": "execute_result"
    }
   ],
   "source": [
    "mse_train = mse(y_train, y_train_pred)\n",
    "mse_train"
   ]
  },
  {
   "cell_type": "code",
   "execution_count": 44,
   "id": "945dbe01",
   "metadata": {},
   "outputs": [
    {
     "name": "stderr",
     "output_type": "stream",
     "text": [
      "/Users/thantthiri/opt/anaconda3/lib/python3.9/site-packages/numpy/core/fromnumeric.py:3417: FutureWarning: In a future version, DataFrame.mean(axis=None) will return a scalar mean over the entire DataFrame. To retain the old behavior, use 'frame.mean(axis=0)' or just 'frame.mean()'\n",
      "  return mean(axis=axis, dtype=dtype, out=out, **kwargs)\n"
     ]
    },
    {
     "data": {
      "text/plain": [
       "VICT_AGE     0.998649\n",
       "latitude     1.081431\n",
       "longitude    1.082467\n",
       "MTH_RPTD     0.997982\n",
       "DAY_RPTD     0.998912\n",
       "YEAR_RPTD    1.001225\n",
       "MTH_OCC      0.998607\n",
       "DAY_OCC      0.997824\n",
       "YEAR_OCC     1.000790\n",
       "dtype: float64"
      ]
     },
     "execution_count": 44,
     "metadata": {},
     "output_type": "execute_result"
    }
   ],
   "source": [
    "mse_test = mse(y_test, y_test_pred)\n",
    "mse_test"
   ]
  },
  {
   "cell_type": "markdown",
   "id": "05e6207f",
   "metadata": {},
   "source": [
    "###### Mean Absolute Error"
   ]
  },
  {
   "cell_type": "code",
   "execution_count": 45,
   "id": "cce09b0e",
   "metadata": {},
   "outputs": [],
   "source": [
    "def mae(y, ypred):\n",
    "    \"\"\"Mean absolute error.\n",
    "    \n",
    "    Calculate the mean absolute error of the arguments\n",
    "\n",
    "    Arguments:\n",
    "    y -- the observed values\n",
    "    ypred -- the predicted values\n",
    "    \"\"\"\n",
    "    abs_error = np.abs(y - ypred)\n",
    "    mae = np.mean(abs_error)\n",
    "    return mae"
   ]
  },
  {
   "cell_type": "code",
   "execution_count": 46,
   "id": "a590d7f0",
   "metadata": {},
   "outputs": [
    {
     "data": {
      "text/plain": [
       "0.6855192356899321"
      ]
     },
     "execution_count": 46,
     "metadata": {},
     "output_type": "execute_result"
    }
   ],
   "source": [
    "mae(y_train, y_train_pred)"
   ]
  },
  {
   "cell_type": "code",
   "execution_count": 47,
   "id": "36ad4bb5",
   "metadata": {},
   "outputs": [
    {
     "data": {
      "text/plain": [
       "VICT_AGE     0.807932\n",
       "latitude     0.121657\n",
       "longitude    0.062004\n",
       "MTH_RPTD     0.862139\n",
       "DAY_RPTD     0.864846\n",
       "YEAR_RPTD    0.862415\n",
       "MTH_OCC      0.862872\n",
       "DAY_OCC      0.864286\n",
       "YEAR_OCC     0.862204\n",
       "dtype: float64"
      ]
     },
     "execution_count": 47,
     "metadata": {},
     "output_type": "execute_result"
    }
   ],
   "source": [
    "mae(y_test, y_test_pred)"
   ]
  },
  {
   "cell_type": "markdown",
   "id": "17f0c5b7",
   "metadata": {},
   "source": [
    "So here, you get a slightly better MSE on the test set than you did on the train set. And what does a squared error mean anyway? To convert this back to our measurement space, we often take the square root, to form the root mean square error thus:"
   ]
  },
  {
   "cell_type": "code",
   "execution_count": 48,
   "id": "ae6ba7b7",
   "metadata": {},
   "outputs": [
    {
     "name": "stdout",
     "output_type": "stream",
     "text": [
      "Training RMSE: 0.9978049993922307\n",
      "Test RMSE: VICT_AGE     0.999324\n",
      "latitude     1.039919\n",
      "longitude    1.040417\n",
      "MTH_RPTD     0.998991\n",
      "DAY_RPTD     0.999456\n",
      "YEAR_RPTD    1.000612\n",
      "MTH_OCC      0.999303\n",
      "DAY_OCC      0.998912\n",
      "YEAR_OCC     1.000395\n",
      "dtype: float64\n"
     ]
    }
   ],
   "source": [
    "# np.sqrt([mse(y_train, y_train_pred), mse(y_test, y_test_pred)])\n",
    "\n",
    "# Calculate square root of MSE\n",
    "rmse_train = np.sqrt(mse_train)\n",
    "rmse_test = np.sqrt(mse_test)\n",
    "\n",
    "# Now you have the RMSE for both the training and test sets\n",
    "print(\"Training RMSE:\", rmse_train)\n",
    "print(\"Test RMSE:\", rmse_test)"
   ]
  },
  {
   "cell_type": "markdown",
   "id": "c737ad32",
   "metadata": {},
   "source": [
    "##### sklearn metrics "
   ]
  },
  {
   "cell_type": "markdown",
   "id": "acc247e3",
   "metadata": {},
   "source": [
    "Functions are good, but you don't want to have to define functions every time we want to assess performance. sklearn.metrics provides many commonly used metrics, included the ones above."
   ]
  },
  {
   "cell_type": "code",
   "execution_count": 49,
   "id": "222e3f6d",
   "metadata": {},
   "outputs": [
    {
     "data": {
      "text/plain": [
       "(-2.6990755309776028e-14, -1.138683803988035e-05)"
      ]
     },
     "execution_count": 49,
     "metadata": {},
     "output_type": "execute_result"
    }
   ],
   "source": [
    "r2_score(y_train, y_train_pred), r2_score(y_test, y_test_pred)"
   ]
  },
  {
   "cell_type": "code",
   "execution_count": 50,
   "id": "d9d67da7",
   "metadata": {},
   "outputs": [
    {
     "data": {
      "text/plain": [
       "(0.6855192356895663, 0.6855950399149299)"
      ]
     },
     "execution_count": 50,
     "metadata": {},
     "output_type": "execute_result"
    }
   ],
   "source": [
    "mean_absolute_error(y_train, y_train_pred), mean_absolute_error(y_test, y_test_pred)"
   ]
  },
  {
   "cell_type": "code",
   "execution_count": 51,
   "id": "afdadb30",
   "metadata": {},
   "outputs": [
    {
     "data": {
      "text/plain": [
       "(0.9956148168121545, 1.0175430369592369)"
      ]
     },
     "execution_count": 51,
     "metadata": {},
     "output_type": "execute_result"
    }
   ],
   "source": [
    "mean_squared_error(y_train, y_train_pred), mean_squared_error(y_test, y_test_pred)"
   ]
  },
  {
   "cell_type": "markdown",
   "id": "39b8b89a",
   "metadata": {},
   "source": [
    "### Initial Modeling"
   ]
  },
  {
   "cell_type": "markdown",
   "id": "988b32ac",
   "metadata": {},
   "source": [
    "##### Linear Regression"
   ]
  },
  {
   "cell_type": "code",
   "execution_count": 58,
   "id": "d5ad0c1d",
   "metadata": {
    "scrolled": true
   },
   "outputs": [
    {
     "data": {
      "text/plain": [
       "LinearRegression()"
      ]
     },
     "execution_count": 58,
     "metadata": {},
     "output_type": "execute_result"
    }
   ],
   "source": [
    "# Train Linear Regression model\n",
    "lr_model = LinearRegression()\n",
    "lr_model.fit(X_train, y_train)"
   ]
  },
  {
   "cell_type": "code",
   "execution_count": 59,
   "id": "c4d27c96",
   "metadata": {},
   "outputs": [],
   "source": [
    "# Making predictions\n",
    "y_pred = lr_model.predict(X_test)"
   ]
  },
  {
   "cell_type": "markdown",
   "id": "0d7c07ef",
   "metadata": {},
   "source": [
    "##### Random Forest"
   ]
  },
  {
   "cell_type": "code",
   "execution_count": null,
   "id": "7067adcc",
   "metadata": {},
   "outputs": [],
   "source": [
    "# Train Random Forest model\n",
    "rf_model = RandomForestRegressor(n_estimators=100, random_state=42)\n",
    "rf_model.fit(X_train, y_train)"
   ]
  },
  {
   "cell_type": "markdown",
   "id": "3231d9ac",
   "metadata": {},
   "source": [
    "##### Cross Validation"
   ]
  },
  {
   "cell_type": "code",
   "execution_count": null,
   "id": "0962cb75",
   "metadata": {},
   "outputs": [],
   "source": [
    "# Perform cross-validation\n",
    "lr_cv_scores = cross_val_score(lr_model, X, y, cv=5, scoring='neg_mean_squared_error')\n",
    "rf_cv_scores = cross_val_score(rf_model, X, y, cv=5, scoring='neg_mean_squared_error')"
   ]
  },
  {
   "cell_type": "code",
   "execution_count": null,
   "id": "3ec29e3b",
   "metadata": {},
   "outputs": [],
   "source": [
    " # Predictions for test set\n",
    "lr_predictions = lr_model.predict(X_test)\n",
    "rf_predictions = rf_model.predict(X_test)    \n"
   ]
  },
  {
   "cell_type": "code",
   "execution_count": null,
   "id": "296e68a0",
   "metadata": {},
   "outputs": [],
   "source": [
    "# Evaluation\n",
    "lr_mse = mean_squared_error(y_test, lr_predictions)\n",
    "rf_mse = mean_squared_error(y_test, rf_predictions)\n",
    "    \n",
    "# Mean Cross-validation scores\n",
    "lr_cv_mse_mean = np.mean(lr_cv_scores)\n",
    "rf_cv_mse_mean = np.mean(rf_cv_scores)"
   ]
  },
  {
   "cell_type": "code",
   "execution_count": null,
   "id": "6dec7e76",
   "metadata": {},
   "outputs": [],
   "source": [
    "# Print results\n",
    "results = {\n",
    "        \"Linear Regression Test MSE\": lr_mse,\n",
    "        \"Random Forest Test MSE\": rf_mse,\n",
    "        \"Linear Regression CV MSE Mean\": lr_cv_mse_mean,\n",
    "        \"Random Forest CV MSE Mean\": rf_cv_mse_mean,\n",
    "    }\n",
    "    results"
   ]
  },
  {
   "cell_type": "code",
   "execution_count": null,
   "id": "1b86a4c9",
   "metadata": {},
   "outputs": [],
   "source": []
  },
  {
   "cell_type": "code",
   "execution_count": null,
   "id": "86aaa2a2",
   "metadata": {},
   "outputs": [],
   "source": []
  }
 ],
 "metadata": {
  "kernelspec": {
   "display_name": "Python 3 (ipykernel)",
   "language": "python",
   "name": "python3"
  },
  "language_info": {
   "codemirror_mode": {
    "name": "ipython",
    "version": 3
   },
   "file_extension": ".py",
   "mimetype": "text/x-python",
   "name": "python",
   "nbconvert_exporter": "python",
   "pygments_lexer": "ipython3",
   "version": "3.9.7"
  }
 },
 "nbformat": 4,
 "nbformat_minor": 5
}
