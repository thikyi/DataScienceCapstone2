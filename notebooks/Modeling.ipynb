{
 "cells": [
  {
   "cell_type": "markdown",
   "id": "2d2400f4",
   "metadata": {},
   "source": [
    "# 4.Modeling"
   ]
  },
  {
   "cell_type": "markdown",
   "id": "f86ce37a",
   "metadata": {},
   "source": [
    "### Import Libaries"
   ]
  },
  {
   "cell_type": "code",
   "execution_count": 19,
   "id": "f2972adb",
   "metadata": {},
   "outputs": [],
   "source": [
    "import pandas as pd\n",
    "import numpy as np\n",
    "import os\n",
    "import pickle\n",
    "import matplotlib.pyplot as plt\n",
    "import seaborn as sns\n",
    "from sklearn import __version__ as sklearn_version\n",
    "from sklearn.model_selection import cross_validate,cross_val_score, train_test_split, GridSearchCV, learning_curve\n",
    "from sklearn.decomposition import PCA\n",
    "from sklearn.dummy import DummyRegressor\n",
    "from sklearn.linear_model import LinearRegression\n",
    "from sklearn.feature_selection import SelectKBest, f_regression\n",
    "from sklearn.tree import DecisionTreeClassifier\n",
    "from sklearn.ensemble import RandomForestClassifier\n",
    "from sklearn.metrics import classification_report,confusion_matrix\n",
    "from sklearn.metrics import r2_score, mean_squared_error, mean_absolute_error,accuracy_score, recall_score, precision_score, f1_score\n",
    "from sklearn.pipeline import make_pipeline\n",
    "from sklearn.impute import SimpleImputer\n",
    "from sklearn.preprocessing import StandardScaler\n",
    "import datetime\n"
   ]
  },
  {
   "cell_type": "markdown",
   "id": "0f9ec87f",
   "metadata": {},
   "source": [
    "### Load Data( Test set and training set )"
   ]
  },
  {
   "cell_type": "code",
   "execution_count": 2,
   "id": "6e9f4045",
   "metadata": {},
   "outputs": [],
   "source": [
    "datafilepath = \"../data/interim/train_test_split.pkl\"\n",
    "\n",
    "with open(datafilepath, 'rb') as file:\n",
    "    X,y,X_train, X_test, y_train, y_test = pickle.load(file)"
   ]
  },
  {
   "cell_type": "markdown",
   "id": "7cccd984",
   "metadata": {},
   "source": [
    "### Initiation"
   ]
  },
  {
   "cell_type": "code",
   "execution_count": 3,
   "id": "51dd4970",
   "metadata": {},
   "outputs": [],
   "source": [
    "#Calculate the mean of `y_train`\n",
    "#train_mean = y_train.mean()\n",
    "#train_mean"
   ]
  },
  {
   "cell_type": "code",
   "execution_count": 4,
   "id": "3d2b27c0",
   "metadata": {},
   "outputs": [
    {
     "data": {
      "text/plain": [
       "VICT_AGE              -0.002785\n",
       "latitude               0.013320\n",
       "longitude             -0.019968\n",
       "MTH_RPTD              -0.127860\n",
       "DAY_RPTD               0.032557\n",
       "YEAR_RPTD              0.123388\n",
       "MTH_OCC               -0.123719\n",
       "DAY_OCC               -0.050370\n",
       "YEAR_OCC               0.134830\n",
       "WEEKDAY_OCC_Encoded    0.026682\n",
       "AREA_NAME_Encoded      0.029688\n",
       "dtype: float64"
      ]
     },
     "execution_count": 4,
     "metadata": {},
     "output_type": "execute_result"
    }
   ],
   "source": [
    "#Calculate the medium of `y_train`\n",
    "X_defaults_median = X_train.median()\n",
    "X_defaults_median"
   ]
  },
  {
   "cell_type": "markdown",
   "id": "9deafed9",
   "metadata": {},
   "source": [
    "##### Impute NaN Data"
   ]
  },
  {
   "cell_type": "code",
   "execution_count": 5,
   "id": "b170fc85",
   "metadata": {},
   "outputs": [],
   "source": [
    "# handling NaN values\n",
    "# Replace 'mean' with 'median', 'most_frequent', or a constant value if needed\n",
    "\n",
    "imputer = SimpleImputer(missing_values=np.nan, strategy='mean')\n",
    "X_train = imputer.fit_transform(X_train)"
   ]
  },
  {
   "cell_type": "code",
   "execution_count": 6,
   "id": "92bcfa4d",
   "metadata": {},
   "outputs": [
    {
     "name": "stdout",
     "output_type": "stream",
     "text": [
      "NaN values in X_test: 0\n",
      "Infinity values in X_test: 0\n"
     ]
    }
   ],
   "source": [
    "# Check for NaN values\n",
    "print(\"NaN values in X_test:\", X_test.isna().sum().sum())\n",
    "\n",
    "# Replace NaN values with the mean (you can choose other methods)\n",
    "X_test = X_test.fillna(X_test.mean())\n",
    "\n",
    "# Check for infinity values\n",
    "print(\"Infinity values in X_test:\", np.isinf(X_test).sum().sum())\n",
    "\n",
    "# Replace infinity values\n",
    "X_test = X_test.replace([np.inf, -np.inf], np.nan).fillna(X_test.mean())"
   ]
  },
  {
   "cell_type": "code",
   "execution_count": 7,
   "id": "f8c3b53a",
   "metadata": {
    "scrolled": true
   },
   "outputs": [
    {
     "data": {
      "text/plain": [
       "array([[-2.36081361e-01,  1.32988822e-01, -5.53067227e-02, ...,\n",
       "        -3.73444436e-01,  5.23831269e-01,  1.18393023e+00],\n",
       "       [ 8.93392949e-01, -4.83791241e-02, -3.62480539e-03, ...,\n",
       "        -1.64134548e+00,  1.51770253e+00, -1.33851924e-01],\n",
       "       [-1.45967853e+00,  1.14374487e-01, -3.25565177e-02, ...,\n",
       "        -1.38776527e+00, -1.46391126e+00, -2.98574693e-01],\n",
       "       ...,\n",
       "       [-4.24327079e-01,  2.05204646e-01, -5.14962045e-02, ...,\n",
       "        -8.80604855e-01,  2.68956370e-02, -1.12218854e+00],\n",
       "       [ 3.75717224e-01,  2.16509687e-01, -7.46133483e-02, ...,\n",
       "         1.65519724e+00,  1.51770253e+00, -1.28691131e+00],\n",
       "       [ 1.36400725e+00,  1.42153173e-03, -4.17864396e-02, ...,\n",
       "        -8.80604855e-01,  5.23831269e-01,  1.34865299e+00]])"
      ]
     },
     "execution_count": 7,
     "metadata": {},
     "output_type": "execute_result"
    }
   ],
   "source": [
    "# Normalize or Scale your data\n",
    "scaler = StandardScaler()\n",
    "X_test_scaled = scaler.fit_transform(X_test)\n",
    "X_test_scaled"
   ]
  },
  {
   "cell_type": "markdown",
   "id": "75ae8975",
   "metadata": {},
   "source": [
    "### Models"
   ]
  },
  {
   "cell_type": "markdown",
   "id": "419562ce",
   "metadata": {},
   "source": [
    "Lets try different models. \n",
    "Decision tree-based models with different criteria (Gini impurity and entropy)."
   ]
  },
  {
   "cell_type": "markdown",
   "id": "cd1ccb8c",
   "metadata": {},
   "source": [
    "#### Decision Tree Classifier (gini)"
   ]
  },
  {
   "cell_type": "code",
   "execution_count": 17,
   "id": "f73364fb",
   "metadata": {},
   "outputs": [],
   "source": [
    "dt_gini_model = DecisionTreeClassifier(criterion='gini')\n",
    "dt_gini_model.fit(X_train, y_train)\n",
    "# Making predictions\n",
    "dt_gini_pred = dt_gini_model.predict(X_test)"
   ]
  },
  {
   "cell_type": "code",
   "execution_count": null,
   "id": "d1235063",
   "metadata": {},
   "outputs": [],
   "source": [
    "<b> Decision Tree Classifier (gini) :Evaluation</b></br>"
   ]
  },
  {
   "cell_type": "code",
   "execution_count": 22,
   "id": "78c1aaa1",
   "metadata": {},
   "outputs": [
    {
     "name": "stdout",
     "output_type": "stream",
     "text": [
      "{'Decision Tree Classifier (gini) CV Score': 0.1168103531461687, 'Decision Tree Classifier (gini) Accuracy': (0.26660343910165396,), 'Decision Tree Classifier (gini) Recall': (0.24532717317209016,), 'Decision Tree Classifier (gini) Precision': (0.2485361067957766,), 'Decision Tree Classifier (gini) F1 Score': 0.24681981619502968, 'Decision Tree Classifier (gini) confusion matrix': array([[ 5038,  5731,  2020,  2913,  3362,  1056,  1569,  2497,  2309,\n",
      "          400],\n",
      "       [ 5904, 13032,  4301,  5621,  5507,  2013,  3425,  5645,  4285,\n",
      "          273],\n",
      "       [ 2255,  4180,  8054,  4608,  2531,  2476,  3943,  3867,  3824,\n",
      "         2905],\n",
      "       [ 2977,  5696,  4604,  9415,  3901,  2401,  3672,  4529,  3880,\n",
      "          469],\n",
      "       [ 3599,  5555,  2636,  3740,  5785,  1397,  2172,  2776,  2836,\n",
      "          137],\n",
      "       [ 1104,  1952,  2369,  2465,  1359,  2697,  1542,  2017,  2000,\n",
      "         5852],\n",
      "       [ 1879,  3583,  4062,  3858,  2465,  1798, 10497,  3690,  2852,\n",
      "          244],\n",
      "       [ 2734,  5684,  3939,  4409,  2808,  1976,  3467,  7471,  3327,\n",
      "         1637],\n",
      "       [ 2468,  4172,  3616,  3750,  2717,  2040,  2444,  3330,  3940,\n",
      "         2650],\n",
      "       [  583,   320,  3612,   620,   184,  6668,   291,  2002,  3075,\n",
      "        30771]])}\n"
     ]
    }
   ],
   "source": [
    "\n",
    "dt_gini_ac_score =  accuracy_score(y_test, dt_gini_pred),\n",
    "dt_gini_re_score =  recall_score(y_test, dt_gini_pred, average='macro'),\n",
    "dt_gini_pre_score =  precision_score(y_test, dt_gini_pred, average='macro'),\n",
    "dt_gini_f1_score =  f1_score(y_test, dt_gini_pred, average='macro')\n",
    "\n",
    "\n",
    "# Cross-validation for hyperparameter tuning\n",
    "dt_gini_cv_scores = np.mean(cross_val_score(dt_gini_model, X, y, cv=5))\n",
    "\n",
    "\n",
    "# Print results\n",
    "gini_results = {\n",
    "        \"Decision Tree Classifier (gini) CV Score\": dt_gini_cv_scores,\n",
    "        \"Decision Tree Classifier (gini) Accuracy\": dt_gini_ac_score,\n",
    "        \"Decision Tree Classifier (gini) Recall\": dt_gini_re_score,\n",
    "        \"Decision Tree Classifier (gini) Precision\": dt_gini_pre_score,\n",
    "        \"Decision Tree Classifier (gini) F1 Score\": dt_gini_f1_score,\n",
    "        \n",
    "\n",
    "    }\n",
    "print (gini_results)\n",
    "\n",
    "dt_gini_cof = confusion_matrix(y_test, dt_gini_pred)\n",
    "dt_gini_cof"
   ]
  },
  {
   "cell_type": "markdown",
   "id": "ea09baa4",
   "metadata": {},
   "source": [
    "#### Decision Tree Classifier (entropy)"
   ]
  },
  {
   "cell_type": "code",
   "execution_count": null,
   "id": "b101bf29",
   "metadata": {},
   "outputs": [],
   "source": [
    "dt_entropy_model = DecisionTreeClassifier(criterion='entropy')\n",
    "dt_entropy_model.fit(X_train, y_train)\n",
    "# Making predictions\n",
    "dt_en_pred = dt_entropy_model.predict(X_test)"
   ]
  },
  {
   "cell_type": "markdown",
   "id": "622592b1",
   "metadata": {},
   "source": [
    "<b> Decision Tree Classifier (entropy) :Evaluation</b></br>"
   ]
  },
  {
   "cell_type": "code",
   "execution_count": null,
   "id": "a095ff6a",
   "metadata": {},
   "outputs": [],
   "source": [
    "dt_en_ac_score =  accuracy_score(y_test, dt_en_pred),\n",
    "dt_en_score =  recall_score(y_test, dt_en_pred, average='macro'),\n",
    "dt_en_pre_score =  precision_score(y_test, dt_en_pred, average='macro'),\n",
    "dt_en_f1_score =  f1_score(y_test, dt_en_pred, average='macro')\n",
    "\n",
    "\n",
    "# Cross-validation for hyperparameter tuning\n",
    "dt_en_cv_scores = np.mean(cross_val_score(dt_entropy_model, X, y, cv=5))\n",
    "\n",
    "\n",
    "# Print results\n",
    "en_results = {\n",
    "        \"Decision Tree Classifier (entropy) CV Score\": dt_en_cv_scores,\n",
    "        \"Decision Tree Classifier (entropy) Accuracy\": dt_en_ac_score,\n",
    "        \"Decision Tree Classifier (entropy) Recall\": dt_en_score,\n",
    "        \"Decision Tree Classifier (entropy) Precision\": dt_en_pre_score,\n",
    "        \"Decision Tree Classifier (entropy) F1 Score\": dt_en_f1_score,\n",
    "\n",
    "    \n",
    "\n",
    "    }\n",
    "print (en_results)\n",
    "\n",
    "dt_en_cof = confusion_matrix(y_test, dt_en_pred)\n",
    "dt_en_cof"
   ]
  },
  {
   "cell_type": "markdown",
   "id": "587b4036",
   "metadata": {},
   "source": [
    "#### Random Forest"
   ]
  },
  {
   "cell_type": "code",
   "execution_count": null,
   "id": "2a5ae916",
   "metadata": {},
   "outputs": [],
   "source": [
    "rf_model = RandomForestClassifier(n_estimators=100)\n",
    "rf_model.fit(X_train, y_train)\n",
    "# Making predictions\n",
    "rf_pred = rf_model.predict(X_test)"
   ]
  },
  {
   "cell_type": "code",
   "execution_count": null,
   "id": "4ec8a258",
   "metadata": {},
   "outputs": [],
   "source": [
    "<b> Random Forest:Evaluation</b></br>"
   ]
  },
  {
   "cell_type": "code",
   "execution_count": null,
   "id": "d04319e4",
   "metadata": {},
   "outputs": [],
   "source": [
    "rf_ac_score =  accuracy_score(y_test, rf_pred),\n",
    "rf_score =  recall_score(y_test, rf_pred, average='macro'),\n",
    "rf_pre_score =  precision_score(y_test, rf_pred, average='macro'),\n",
    "rf_f1_score =  f1_score(y_test, rf_pred, average='macro')\n",
    "\n",
    "\n",
    "# Cross-validation for hyperparameter tuning\n",
    "rf_cv_scores = np.mean(cross_val_score(dt_en, X, y, cv=5))\n",
    "\n",
    "\n",
    "# Print results\n",
    "rf_results = {\n",
    "        \"Random Forest CV Score\": rf_cv_scores,\n",
    "        \"Random Forest Accuracy\": rf_ac_score,\n",
    "        \"Random Forest Recall\": rf_score,\n",
    "        \"Random Forest Precision\": rf_pre_score,\n",
    "        \"Random Forest F1 Score\": rf_f1_score,\n",
    "\n",
    "\n",
    "    }\n",
    "print (rf_results)\n",
    "\n",
    "\n",
    "rf_cof = confusion_matrix(y_test, rf_pred)\n",
    "rf_cof"
   ]
  },
  {
   "cell_type": "code",
   "execution_count": null,
   "id": "57d60557",
   "metadata": {},
   "outputs": [],
   "source": []
  },
  {
   "cell_type": "code",
   "execution_count": null,
   "id": "686e40f5",
   "metadata": {},
   "outputs": [],
   "source": []
  }
 ],
 "metadata": {
  "kernelspec": {
   "display_name": "Python 3 (ipykernel)",
   "language": "python",
   "name": "python3"
  },
  "language_info": {
   "codemirror_mode": {
    "name": "ipython",
    "version": 3
   },
   "file_extension": ".py",
   "mimetype": "text/x-python",
   "name": "python",
   "nbconvert_exporter": "python",
   "pygments_lexer": "ipython3",
   "version": "3.9.7"
  }
 },
 "nbformat": 4,
 "nbformat_minor": 5
}
