{
 "cells": [
  {
   "cell_type": "markdown",
   "id": "2d2400f4",
   "metadata": {},
   "source": [
    "# 4.Modeling"
   ]
  },
  {
   "cell_type": "markdown",
   "id": "f86ce37a",
   "metadata": {},
   "source": [
    "### 4.1.Import Libaries"
   ]
  },
  {
   "cell_type": "code",
   "execution_count": 16,
   "id": "f2972adb",
   "metadata": {},
   "outputs": [],
   "source": [
    "import pandas as pd\n",
    "import numpy as np\n",
    "import os\n",
    "import pickle\n",
    "import matplotlib.pyplot as plt\n",
    "import seaborn as sns\n",
    "from sklearn import __version__ as sklearn_version\n",
    "from sklearn.model_selection import cross_validate,cross_val_score, train_test_split, GridSearchCV, learning_curve\n",
    "from sklearn.decomposition import PCA\n",
    "from sklearn.dummy import DummyRegressor\n",
    "from sklearn.linear_model import LinearRegression\n",
    "from sklearn.feature_selection import SelectKBest, f_regression\n",
    "from sklearn.tree import DecisionTreeClassifier\n",
    "from sklearn.ensemble import RandomForestClassifier\n",
    "from sklearn.metrics import classification_report,confusion_matrix,ConfusionMatrixDisplay\n",
    "from sklearn.metrics import r2_score, mean_squared_error, mean_absolute_error,accuracy_score, recall_score, precision_score, f1_score\n",
    "from sklearn.pipeline import make_pipeline\n",
    "from sklearn.impute import SimpleImputer\n",
    "from sklearn.preprocessing import StandardScaler\n",
    "import datetime\n"
   ]
  },
  {
   "cell_type": "markdown",
   "id": "0f9ec87f",
   "metadata": {},
   "source": [
    "### 4.2.Load Data( Test set and training set )"
   ]
  },
  {
   "cell_type": "code",
   "execution_count": 2,
   "id": "6e9f4045",
   "metadata": {},
   "outputs": [],
   "source": [
    "datafilepath = \"../data/interim/train_test_split.pkl\"\n",
    "\n",
    "with open(datafilepath, 'rb') as file:\n",
    "    X,y,X_train, X_test, y_train, y_test = pickle.load(file)"
   ]
  },
  {
   "cell_type": "markdown",
   "id": "7cccd984",
   "metadata": {},
   "source": [
    "### Initiation"
   ]
  },
  {
   "cell_type": "code",
   "execution_count": 3,
   "id": "51dd4970",
   "metadata": {},
   "outputs": [],
   "source": [
    "#Calculate the mean of `y_train`\n",
    "#train_mean = y_train.mean()\n",
    "#train_mean"
   ]
  },
  {
   "cell_type": "code",
   "execution_count": 4,
   "id": "3d2b27c0",
   "metadata": {},
   "outputs": [
    {
     "data": {
      "text/plain": [
       "VICT_AGE              -0.002785\n",
       "latitude               0.013320\n",
       "longitude             -0.019968\n",
       "MTH_RPTD              -0.127860\n",
       "DAY_RPTD               0.032557\n",
       "YEAR_RPTD              0.123388\n",
       "MTH_OCC               -0.123719\n",
       "DAY_OCC               -0.050370\n",
       "YEAR_OCC               0.134830\n",
       "WEEKDAY_OCC_Encoded    0.026682\n",
       "AREA_NAME_Encoded      0.029688\n",
       "dtype: float64"
      ]
     },
     "execution_count": 4,
     "metadata": {},
     "output_type": "execute_result"
    }
   ],
   "source": [
    "#Calculate the medium of `y_train`\n",
    "X_defaults_median = X_train.median()\n",
    "X_defaults_median"
   ]
  },
  {
   "cell_type": "markdown",
   "id": "9deafed9",
   "metadata": {},
   "source": [
    "##### Impute NaN Data"
   ]
  },
  {
   "cell_type": "code",
   "execution_count": 5,
   "id": "b170fc85",
   "metadata": {},
   "outputs": [],
   "source": [
    "# handling NaN values\n",
    "# Replace 'mean' with 'median', 'most_frequent', or a constant value if needed\n",
    "\n",
    "imputer = SimpleImputer(missing_values=np.nan, strategy='mean')\n",
    "X_train = imputer.fit_transform(X_train)"
   ]
  },
  {
   "cell_type": "code",
   "execution_count": 6,
   "id": "92bcfa4d",
   "metadata": {},
   "outputs": [
    {
     "name": "stdout",
     "output_type": "stream",
     "text": [
      "NaN values in X_test: 0\n",
      "Infinity values in X_test: 0\n"
     ]
    }
   ],
   "source": [
    "# Check for NaN values\n",
    "print(\"NaN values in X_test:\", X_test.isna().sum().sum())\n",
    "\n",
    "# Replace NaN values with the mean (you can choose other methods)\n",
    "X_test = X_test.fillna(X_test.mean())\n",
    "\n",
    "# Check for infinity values\n",
    "print(\"Infinity values in X_test:\", np.isinf(X_test).sum().sum())\n",
    "\n",
    "# Replace infinity values\n",
    "X_test = X_test.replace([np.inf, -np.inf], np.nan).fillna(X_test.mean())"
   ]
  },
  {
   "cell_type": "code",
   "execution_count": 7,
   "id": "f8c3b53a",
   "metadata": {
    "scrolled": true
   },
   "outputs": [
    {
     "data": {
      "text/plain": [
       "array([[-2.36081361e-01,  1.32988822e-01, -5.53067227e-02, ...,\n",
       "        -3.73444436e-01,  5.23831269e-01,  1.18393023e+00],\n",
       "       [ 8.93392949e-01, -4.83791241e-02, -3.62480539e-03, ...,\n",
       "        -1.64134548e+00,  1.51770253e+00, -1.33851924e-01],\n",
       "       [-1.45967853e+00,  1.14374487e-01, -3.25565177e-02, ...,\n",
       "        -1.38776527e+00, -1.46391126e+00, -2.98574693e-01],\n",
       "       ...,\n",
       "       [-4.24327079e-01,  2.05204646e-01, -5.14962045e-02, ...,\n",
       "        -8.80604855e-01,  2.68956370e-02, -1.12218854e+00],\n",
       "       [ 3.75717224e-01,  2.16509687e-01, -7.46133483e-02, ...,\n",
       "         1.65519724e+00,  1.51770253e+00, -1.28691131e+00],\n",
       "       [ 1.36400725e+00,  1.42153173e-03, -4.17864396e-02, ...,\n",
       "        -8.80604855e-01,  5.23831269e-01,  1.34865299e+00]])"
      ]
     },
     "execution_count": 7,
     "metadata": {},
     "output_type": "execute_result"
    }
   ],
   "source": [
    "# Normalize or Scale your data\n",
    "scaler = StandardScaler()\n",
    "X_test_scaled = scaler.fit_transform(X_test)\n",
    "X_test_scaled"
   ]
  },
  {
   "cell_type": "markdown",
   "id": "75ae8975",
   "metadata": {},
   "source": [
    "### 4.3.Models"
   ]
  },
  {
   "cell_type": "markdown",
   "id": "419562ce",
   "metadata": {},
   "source": [
    "Lets try different models. \n",
    "Decision tree-based models with different criteria (Gini impurity and entropy)."
   ]
  },
  {
   "cell_type": "markdown",
   "id": "cd1ccb8c",
   "metadata": {},
   "source": [
    "#### Decision Tree Classifier (gini)"
   ]
  },
  {
   "cell_type": "code",
   "execution_count": 8,
   "id": "f73364fb",
   "metadata": {},
   "outputs": [],
   "source": [
    "dt_gini_model = DecisionTreeClassifier(criterion='gini')\n",
    "dt_gini_model.fit(X_train, y_train)\n",
    "# Making predictions\n",
    "dt_gini_pred = dt_gini_model.predict(X_test)"
   ]
  },
  {
   "cell_type": "markdown",
   "id": "a74725a6",
   "metadata": {},
   "source": [
    "<b> Decision Tree Classifier (gini) :Evaluation</b></br>"
   ]
  },
  {
   "cell_type": "code",
   "execution_count": 9,
   "id": "0c54e737",
   "metadata": {},
   "outputs": [
    {
     "name": "stdout",
     "output_type": "stream",
     "text": [
      "Decision Tree Classifier (gini) CV Score 0.11685887662629477\n",
      "Decision Tree Classifier (gini) Accuracy (0.2658039044859406,)\n",
      "Decision Tree Classifier (gini) Recall (0.24457562664973675,)\n",
      "Decision Tree Classifier (gini) Precision (0.24783766486950398,)\n",
      "Decision Tree Classifier (gini) F1 Score 0.24608533315584893\n"
     ]
    },
    {
     "data": {
      "text/plain": [
       "array([[ 5064,  5748,  2024,  2867,  3401,  1074,  1505,  2486,  2323,\n",
       "          403],\n",
       "       [ 5997, 13027,  4258,  5613,  5585,  2044,  3485,  5500,  4214,\n",
       "          283],\n",
       "       [ 2234,  4184,  8098,  4602,  2526,  2455,  3948,  3904,  3794,\n",
       "         2898],\n",
       "       [ 3014,  5661,  4608,  9380,  3977,  2440,  3635,  4533,  3840,\n",
       "          456],\n",
       "       [ 3610,  5531,  2683,  3708,  5704,  1372,  2219,  2774,  2893,\n",
       "          139],\n",
       "       [ 1083,  1957,  2374,  2511,  1345,  2698,  1527,  1999,  2025,\n",
       "         5838],\n",
       "       [ 1878,  3537,  4182,  3878,  2486,  1774, 10395,  3703,  2857,\n",
       "          238],\n",
       "       [ 2733,  5640,  3997,  4386,  2834,  1979,  3466,  7426,  3318,\n",
       "         1673],\n",
       "       [ 2458,  4227,  3644,  3699,  2746,  1987,  2481,  3294,  3938,\n",
       "         2653],\n",
       "       [  590,   312,  3578,   564,   191,  6800,   292,  2015,  3104,\n",
       "        30680]])"
      ]
     },
     "execution_count": 9,
     "metadata": {},
     "output_type": "execute_result"
    }
   ],
   "source": [
    "\n",
    "dt_gini_ac_score =  accuracy_score(y_test, dt_gini_pred),\n",
    "dt_gini_re_score =  recall_score(y_test, dt_gini_pred, average='macro'),\n",
    "dt_gini_pre_score =  precision_score(y_test, dt_gini_pred, average='macro'),\n",
    "dt_gini_f1_score =  f1_score(y_test, dt_gini_pred, average='macro')\n",
    "\n",
    "\n",
    "# Cross-validation for hyperparameter tuning\n",
    "dt_gini_cv_scores = np.mean(cross_val_score(dt_gini_model, X, y, cv=5))\n",
    "\n",
    "\n",
    "\n",
    "print( \"Decision Tree Classifier (gini) CV Score\", dt_gini_cv_scores)\n",
    "print( \"Decision Tree Classifier (gini) Accuracy\", dt_gini_ac_score)\n",
    "print( \"Decision Tree Classifier (gini) Recall\", dt_gini_re_score)\n",
    "print( \"Decision Tree Classifier (gini) Precision\", dt_gini_pre_score)\n",
    "print( \"Decision Tree Classifier (gini) F1 Score\", dt_gini_f1_score)\n",
    "\n",
    "\n",
    "dt_gini_cof = confusion_matrix(y_test, dt_gini_pred)\n",
    "dt_gini_cof"
   ]
  },
  {
   "cell_type": "markdown",
   "id": "ea09baa4",
   "metadata": {},
   "source": [
    "#### Decision Tree Classifier (entropy)"
   ]
  },
  {
   "cell_type": "code",
   "execution_count": 10,
   "id": "b101bf29",
   "metadata": {},
   "outputs": [],
   "source": [
    "dt_entropy_model = DecisionTreeClassifier(criterion='entropy')\n",
    "dt_entropy_model.fit(X_train, y_train)\n",
    "# Making predictions\n",
    "dt_en_pred = dt_entropy_model.predict(X_test)"
   ]
  },
  {
   "cell_type": "markdown",
   "id": "d03621f5",
   "metadata": {},
   "source": [
    "<b> Decision Tree Classifier (entropy) :Evaluation</b></br>"
   ]
  },
  {
   "cell_type": "code",
   "execution_count": 11,
   "id": "ca5c37ca",
   "metadata": {},
   "outputs": [
    {
     "name": "stdout",
     "output_type": "stream",
     "text": [
      "Decision Tree Classifier (entropy) CV Score 0.11347932651615197\n",
      "Decision Tree Classifier (entropy) Accuracy (0.26537381000300514,)\n",
      "Decision Tree Classifier (entropy) Recall (0.24404198287694037,)\n",
      "Decision Tree Classifier (entropy) Precision (0.24685026604664087,)\n",
      "Decision Tree Classifier (entropy) F1 Score 0.245347358378012\n"
     ]
    },
    {
     "data": {
      "text/plain": [
       "array([[ 4951,  5712,  2107,  2807,  3336,  1102,  1573,  2533,  2345,\n",
       "          429],\n",
       "       [ 5982, 12872,  4367,  5650,  5586,  2037,  3323,  5669,  4219,\n",
       "          301],\n",
       "       [ 2217,  4347,  7923,  4488,  2579,  2548,  3915,  3799,  3848,\n",
       "         2979],\n",
       "       [ 3030,  5831,  4558,  9296,  3905,  2593,  3553,  4464,  3839,\n",
       "          475],\n",
       "       [ 3646,  5497,  2646,  3757,  5636,  1458,  2241,  2745,  2862,\n",
       "          145],\n",
       "       [ 1112,  1985,  2433,  2337,  1389,  2742,  1548,  1939,  2020,\n",
       "         5852],\n",
       "       [ 1822,  3713,  4067,  3973,  2522,  1790, 10398,  3603,  2767,\n",
       "          273],\n",
       "       [ 2659,  5834,  3866,  4425,  2798,  2049,  3403,  7410,  3253,\n",
       "         1755],\n",
       "       [ 2504,  4179,  3577,  3738,  2737,  1969,  2507,  3229,  4001,\n",
       "         2686],\n",
       "       [  537,   354,  3481,   627,   165,  6597,   288,  2038,  3014,\n",
       "        31025]])"
      ]
     },
     "execution_count": 11,
     "metadata": {},
     "output_type": "execute_result"
    }
   ],
   "source": [
    "dt_en_ac_score =  accuracy_score(y_test, dt_en_pred),\n",
    "dt_en_score =  recall_score(y_test, dt_en_pred, average='macro'),\n",
    "dt_en_pre_score =  precision_score(y_test, dt_en_pred, average='macro'),\n",
    "dt_en_f1_score =  f1_score(y_test, dt_en_pred, average='macro')\n",
    "\n",
    "\n",
    "# Cross-validation for hyperparameter tuning\n",
    "dt_en_cv_scores = np.mean(cross_val_score(dt_entropy_model, X, y, cv=5))\n",
    "\n",
    "\n",
    "# Print results\n",
    "\n",
    "print(\"Decision Tree Classifier (entropy) CV Score\",  dt_en_cv_scores)\n",
    "print(\"Decision Tree Classifier (entropy) Accuracy\", dt_en_ac_score)\n",
    "print(\"Decision Tree Classifier (entropy) Recall\", dt_en_score)\n",
    "print(\"Decision Tree Classifier (entropy) Precision\", dt_en_pre_score)\n",
    "print(\"Decision Tree Classifier (entropy) F1 Score\", dt_en_f1_score)\n",
    "\n",
    "\n",
    "dt_en_cof = confusion_matrix(y_test, dt_en_pred)\n",
    "dt_en_cof"
   ]
  },
  {
   "cell_type": "markdown",
   "id": "587b4036",
   "metadata": {},
   "source": [
    "#### Random Forest"
   ]
  },
  {
   "cell_type": "code",
   "execution_count": 12,
   "id": "2a5ae916",
   "metadata": {},
   "outputs": [],
   "source": [
    "rf_model = RandomForestClassifier(n_estimators=100)\n",
    "rf_model.fit(X_train, y_train)\n",
    "# Making predictions\n",
    "rf_pred = rf_model.predict(X_test)"
   ]
  },
  {
   "cell_type": "markdown",
   "id": "b1df8e3c",
   "metadata": {},
   "source": [
    "<b> Random Forest:Evaluation</b></br>"
   ]
  },
  {
   "cell_type": "code",
   "execution_count": 14,
   "id": "d04319e4",
   "metadata": {},
   "outputs": [
    {
     "name": "stdout",
     "output_type": "stream",
     "text": [
      "Random Forest CV Score 0.118987292913642\n",
      "Random Forest Accuracy (0.3753622029659977,)\n",
      "Random Forest Recall (0.3331109278538909,)\n",
      "Random Forest Precision (0.3221226924900893,)\n",
      "Random Forest F1 Score 0.31424482330881653\n"
     ]
    },
    {
     "data": {
      "text/plain": [
       "array([[ 5840,  8904,  1629,  2842,  3566,   176,   880,  1284,  1146,\n",
       "          628],\n",
       "       [ 4212, 22382,  4011,  6170,  5381,   322,  1873,  3376,  1826,\n",
       "          453],\n",
       "       [ 1243,  5445, 11024,  5702,  2230,   422,  3480,  2041,  1515,\n",
       "         5541],\n",
       "       [ 1849,  7587,  4606, 15307,  3646,   621,  2689,  2828,  1633,\n",
       "          778],\n",
       "       [ 3034,  8214,  2038,  4764,  7882,   294,  1413,  1446,  1352,\n",
       "          196],\n",
       "       [  620,  2750,  2119,  3527,  1371,   739,  1309,  1103,   767,\n",
       "         9052],\n",
       "       [  782,  3659,  3612,  4037,  1700,   304, 17623,  1901,   834,\n",
       "          476],\n",
       "       [ 1547,  8227,  3589,  5697,  2399,   403,  3768,  7159,  1209,\n",
       "         3454],\n",
       "       [ 1883,  6098,  3483,  4848,  3039,   413,  2179,  1900,  2347,\n",
       "         4937],\n",
       "       [   36,    42,   699,    53,    22,   703,    13,   312,   401,\n",
       "        45845]])"
      ]
     },
     "execution_count": 14,
     "metadata": {},
     "output_type": "execute_result"
    }
   ],
   "source": [
    "rf_ac_score =  accuracy_score(y_test, rf_pred),\n",
    "rf_score =  recall_score(y_test, rf_pred, average='macro'),\n",
    "rf_pre_score =  precision_score(y_test, rf_pred, average='macro'),\n",
    "rf_f1_score =  f1_score(y_test, rf_pred, average='macro')\n",
    "\n",
    "\n",
    "# Cross-validation for hyperparameter tuning\n",
    "rf_cv_scores = np.mean(cross_val_score(rf_model, X, y, cv=5))\n",
    "\n",
    "\n",
    "# Print results\n",
    "print(\"Random Forest CV Score\", rf_cv_scores)\n",
    "print(\"Random Forest Accuracy\", rf_ac_score)\n",
    "print(\"Random Forest Recall\", rf_score)\n",
    "print(\"Random Forest Precision\", rf_pre_score)\n",
    "print(\"Random Forest F1 Score\", rf_f1_score)\n",
    "\n",
    "\n",
    "\n",
    "rf_cof = confusion_matrix(y_test, rf_pred)\n",
    "rf_cof"
   ]
  },
  {
   "cell_type": "markdown",
   "id": "56bd9e27",
   "metadata": {},
   "source": [
    "### 4.4.Comparison on the models"
   ]
  },
  {
   "cell_type": "markdown",
   "id": "ac6a535a",
   "metadata": {},
   "source": [
    "Based on these metrics, the Random Forest model performs slightly better in terms of accuracy, recall, precision, and F1 score compared to the Decision Tree with the Gini criterion and the entropy criterion. <br/>\n",
    "However,to choose the best model,not only these metrics but also factors such as computational complexity, scalability, and maintenance costs should be considered.Random Forest model typically involves more computational cost due to the ensemble of trees but might generalize better when provided with more data. On the other hand, Decision Trees are simpler and faster but may not perform as well on unseen data."
   ]
  },
  {
   "cell_type": "markdown",
   "id": "8a95b2fc",
   "metadata": {},
   "source": [
    "Plotting Confustion Matrix"
   ]
  },
  {
   "cell_type": "raw",
   "id": "83381db9",
   "metadata": {
    "scrolled": true
   },
   "source": [
    "\n",
    "fig, ax = plt.subplots(1, 3, figsize=(15, 5))  # Adjusted for 3 subplots\n",
    "\n",
    "ConfusionMatrixDisplay(confusion_matrix=dt_gini_cof).plot(ax=ax[0], values_format='d')\n",
    "ax[0].set_title('Decision Tree Gini Confusion Matrix')\n",
    "\n",
    "ConfusionMatrixDisplay(confusion_matrix=dt_en_cof).plot(ax=ax[1], values_format='d')\n",
    "ax[1].set_title('Decision Tree Entropy Confusion Matrix')\n",
    "\n",
    "ConfusionMatrixDisplay(confusion_matrix=rf_cof).plot(ax=ax[2], values_format='d')\n",
    "ax[2].set_title('Random Forest Confusion Matrix')\n",
    "\n",
    "plt.tight_layout()\n",
    "plt.show()"
   ]
  },
  {
   "cell_type": "code",
   "execution_count": null,
   "id": "c1b3e024",
   "metadata": {},
   "outputs": [],
   "source": []
  }
 ],
 "metadata": {
  "kernelspec": {
   "display_name": "Python 3 (ipykernel)",
   "language": "python",
   "name": "python3"
  },
  "language_info": {
   "codemirror_mode": {
    "name": "ipython",
    "version": 3
   },
   "file_extension": ".py",
   "mimetype": "text/x-python",
   "name": "python",
   "nbconvert_exporter": "python",
   "pygments_lexer": "ipython3",
   "version": "3.9.7"
  }
 },
 "nbformat": 4,
 "nbformat_minor": 5
}
